{
 "cells": [
  {
   "cell_type": "markdown",
   "id": "4793ef00",
   "metadata": {},
   "source": [
    "Problem Statement No. 04\n",
    "\n",
    "Consider the Bangalore House Price Data. Perform following operations.\n",
    "1. Find and replace null values in the data using appropriate technique.\n",
    "1. Transform the ‘Size’ column to numerical values. For Example: 2 BHK to be converted as 2\n",
    "1. Transform the ‘total_sqft’ column to contain numerical values on same scale. If the range is given average value of the range to be taken.\n",
    "1. Calculate and add one more column as ‘Price_Per_Sqft’\n",
    "1. Remove the outliers from Price_Per_Sqft and BHK Size column if any.\n",
    "1. Apply the Linear Regression model to the data and display the training and testing performance measures as Mean Squared Error and Accuracy\n"
   ]
  },
  {
   "cell_type": "code",
   "execution_count": 48,
   "id": "40374d38",
   "metadata": {},
   "outputs": [],
   "source": [
    "import pandas as pd\n",
    "import numpy as np"
   ]
  },
  {
   "cell_type": "code",
   "execution_count": 150,
   "id": "69dd7cce",
   "metadata": {},
   "outputs": [],
   "source": [
    "df = pd.read_csv(\"Datasets/Banglore Housing Prices.csv\")"
   ]
  },
  {
   "cell_type": "code",
   "execution_count": 151,
   "id": "bb2a76bb",
   "metadata": {},
   "outputs": [
    {
     "data": {
      "text/html": [
       "<div>\n",
       "<style scoped>\n",
       "    .dataframe tbody tr th:only-of-type {\n",
       "        vertical-align: middle;\n",
       "    }\n",
       "\n",
       "    .dataframe tbody tr th {\n",
       "        vertical-align: top;\n",
       "    }\n",
       "\n",
       "    .dataframe thead th {\n",
       "        text-align: right;\n",
       "    }\n",
       "</style>\n",
       "<table border=\"1\" class=\"dataframe\">\n",
       "  <thead>\n",
       "    <tr style=\"text-align: right;\">\n",
       "      <th></th>\n",
       "      <th>location</th>\n",
       "      <th>size</th>\n",
       "      <th>total_sqft</th>\n",
       "      <th>bath</th>\n",
       "      <th>price</th>\n",
       "    </tr>\n",
       "  </thead>\n",
       "  <tbody>\n",
       "    <tr>\n",
       "      <th>0</th>\n",
       "      <td>Electronic City Phase II</td>\n",
       "      <td>2 BHK</td>\n",
       "      <td>1056</td>\n",
       "      <td>2.0</td>\n",
       "      <td>39.07</td>\n",
       "    </tr>\n",
       "    <tr>\n",
       "      <th>1</th>\n",
       "      <td>Chikka Tirupathi</td>\n",
       "      <td>4 Bedroom</td>\n",
       "      <td>2600</td>\n",
       "      <td>5.0</td>\n",
       "      <td>120.00</td>\n",
       "    </tr>\n",
       "    <tr>\n",
       "      <th>2</th>\n",
       "      <td>Uttarahalli</td>\n",
       "      <td>3 BHK</td>\n",
       "      <td>1440</td>\n",
       "      <td>2.0</td>\n",
       "      <td>62.00</td>\n",
       "    </tr>\n",
       "    <tr>\n",
       "      <th>3</th>\n",
       "      <td>Lingadheeranahalli</td>\n",
       "      <td>3 BHK</td>\n",
       "      <td>1521</td>\n",
       "      <td>3.0</td>\n",
       "      <td>95.00</td>\n",
       "    </tr>\n",
       "    <tr>\n",
       "      <th>4</th>\n",
       "      <td>Kothanur</td>\n",
       "      <td>2 BHK</td>\n",
       "      <td>1200</td>\n",
       "      <td>2.0</td>\n",
       "      <td>51.00</td>\n",
       "    </tr>\n",
       "    <tr>\n",
       "      <th>...</th>\n",
       "      <td>...</td>\n",
       "      <td>...</td>\n",
       "      <td>...</td>\n",
       "      <td>...</td>\n",
       "      <td>...</td>\n",
       "    </tr>\n",
       "    <tr>\n",
       "      <th>13315</th>\n",
       "      <td>Whitefield</td>\n",
       "      <td>5 Bedroom</td>\n",
       "      <td>3453</td>\n",
       "      <td>4.0</td>\n",
       "      <td>231.00</td>\n",
       "    </tr>\n",
       "    <tr>\n",
       "      <th>13316</th>\n",
       "      <td>Richards Town</td>\n",
       "      <td>4 BHK</td>\n",
       "      <td>3600</td>\n",
       "      <td>5.0</td>\n",
       "      <td>400.00</td>\n",
       "    </tr>\n",
       "    <tr>\n",
       "      <th>13317</th>\n",
       "      <td>Raja Rajeshwari Nagar</td>\n",
       "      <td>2 BHK</td>\n",
       "      <td>1141</td>\n",
       "      <td>2.0</td>\n",
       "      <td>60.00</td>\n",
       "    </tr>\n",
       "    <tr>\n",
       "      <th>13318</th>\n",
       "      <td>Padmanabhanagar</td>\n",
       "      <td>4 BHK</td>\n",
       "      <td>4689</td>\n",
       "      <td>4.0</td>\n",
       "      <td>488.00</td>\n",
       "    </tr>\n",
       "    <tr>\n",
       "      <th>13319</th>\n",
       "      <td>Doddathoguru</td>\n",
       "      <td>1 BHK</td>\n",
       "      <td>550</td>\n",
       "      <td>1.0</td>\n",
       "      <td>17.00</td>\n",
       "    </tr>\n",
       "  </tbody>\n",
       "</table>\n",
       "<p>13320 rows × 5 columns</p>\n",
       "</div>"
      ],
      "text/plain": [
       "                       location       size total_sqft  bath   price\n",
       "0      Electronic City Phase II      2 BHK       1056   2.0   39.07\n",
       "1              Chikka Tirupathi  4 Bedroom       2600   5.0  120.00\n",
       "2                   Uttarahalli      3 BHK       1440   2.0   62.00\n",
       "3            Lingadheeranahalli      3 BHK       1521   3.0   95.00\n",
       "4                      Kothanur      2 BHK       1200   2.0   51.00\n",
       "...                         ...        ...        ...   ...     ...\n",
       "13315                Whitefield  5 Bedroom       3453   4.0  231.00\n",
       "13316             Richards Town      4 BHK       3600   5.0  400.00\n",
       "13317     Raja Rajeshwari Nagar      2 BHK       1141   2.0   60.00\n",
       "13318           Padmanabhanagar      4 BHK       4689   4.0  488.00\n",
       "13319              Doddathoguru      1 BHK        550   1.0   17.00\n",
       "\n",
       "[13320 rows x 5 columns]"
      ]
     },
     "execution_count": 151,
     "metadata": {},
     "output_type": "execute_result"
    }
   ],
   "source": [
    "df"
   ]
  },
  {
   "cell_type": "code",
   "execution_count": 152,
   "id": "20ec9f4a",
   "metadata": {},
   "outputs": [
    {
     "data": {
      "text/html": [
       "<div>\n",
       "<style scoped>\n",
       "    .dataframe tbody tr th:only-of-type {\n",
       "        vertical-align: middle;\n",
       "    }\n",
       "\n",
       "    .dataframe tbody tr th {\n",
       "        vertical-align: top;\n",
       "    }\n",
       "\n",
       "    .dataframe thead th {\n",
       "        text-align: right;\n",
       "    }\n",
       "</style>\n",
       "<table border=\"1\" class=\"dataframe\">\n",
       "  <thead>\n",
       "    <tr style=\"text-align: right;\">\n",
       "      <th></th>\n",
       "      <th>bath</th>\n",
       "      <th>price</th>\n",
       "    </tr>\n",
       "  </thead>\n",
       "  <tbody>\n",
       "    <tr>\n",
       "      <th>count</th>\n",
       "      <td>13247.000000</td>\n",
       "      <td>13320.000000</td>\n",
       "    </tr>\n",
       "    <tr>\n",
       "      <th>mean</th>\n",
       "      <td>2.692610</td>\n",
       "      <td>112.565627</td>\n",
       "    </tr>\n",
       "    <tr>\n",
       "      <th>std</th>\n",
       "      <td>1.341458</td>\n",
       "      <td>148.971674</td>\n",
       "    </tr>\n",
       "    <tr>\n",
       "      <th>min</th>\n",
       "      <td>1.000000</td>\n",
       "      <td>8.000000</td>\n",
       "    </tr>\n",
       "    <tr>\n",
       "      <th>25%</th>\n",
       "      <td>2.000000</td>\n",
       "      <td>50.000000</td>\n",
       "    </tr>\n",
       "    <tr>\n",
       "      <th>50%</th>\n",
       "      <td>2.000000</td>\n",
       "      <td>72.000000</td>\n",
       "    </tr>\n",
       "    <tr>\n",
       "      <th>75%</th>\n",
       "      <td>3.000000</td>\n",
       "      <td>120.000000</td>\n",
       "    </tr>\n",
       "    <tr>\n",
       "      <th>max</th>\n",
       "      <td>40.000000</td>\n",
       "      <td>3600.000000</td>\n",
       "    </tr>\n",
       "  </tbody>\n",
       "</table>\n",
       "</div>"
      ],
      "text/plain": [
       "               bath         price\n",
       "count  13247.000000  13320.000000\n",
       "mean       2.692610    112.565627\n",
       "std        1.341458    148.971674\n",
       "min        1.000000      8.000000\n",
       "25%        2.000000     50.000000\n",
       "50%        2.000000     72.000000\n",
       "75%        3.000000    120.000000\n",
       "max       40.000000   3600.000000"
      ]
     },
     "execution_count": 152,
     "metadata": {},
     "output_type": "execute_result"
    }
   ],
   "source": [
    "df.describe()"
   ]
  },
  {
   "cell_type": "code",
   "execution_count": 153,
   "id": "bad06117",
   "metadata": {},
   "outputs": [
    {
     "data": {
      "text/plain": [
       "location       1\n",
       "size          16\n",
       "total_sqft     0\n",
       "bath          73\n",
       "price          0\n",
       "dtype: int64"
      ]
     },
     "execution_count": 153,
     "metadata": {},
     "output_type": "execute_result"
    }
   ],
   "source": [
    "df.isnull().sum()"
   ]
  },
  {
   "cell_type": "code",
   "execution_count": 154,
   "id": "8e9466c7",
   "metadata": {},
   "outputs": [],
   "source": [
    "df[\"bath\"] = df[\"bath\"].apply(lambda x: np.nan if pd.isnull(x) else x).isnull()"
   ]
  },
  {
   "cell_type": "code",
   "execution_count": 155,
   "id": "8f5d1c69",
   "metadata": {},
   "outputs": [
    {
     "data": {
      "text/plain": [
       "0"
      ]
     },
     "execution_count": 155,
     "metadata": {},
     "output_type": "execute_result"
    }
   ],
   "source": [
    "df[\"bath\"].fillna(df[\"bath\"].mean()).isnull().sum()"
   ]
  },
  {
   "cell_type": "code",
   "execution_count": 156,
   "id": "51ab2632",
   "metadata": {},
   "outputs": [],
   "source": [
    "df[\"bath\"].fillna(df[\"bath\"].mean() , inplace=True)"
   ]
  },
  {
   "cell_type": "code",
   "execution_count": 157,
   "id": "c4a6954f",
   "metadata": {},
   "outputs": [
    {
     "data": {
      "text/plain": [
       "location       1\n",
       "size          16\n",
       "total_sqft     0\n",
       "bath           0\n",
       "price          0\n",
       "dtype: int64"
      ]
     },
     "execution_count": 157,
     "metadata": {},
     "output_type": "execute_result"
    }
   ],
   "source": [
    "df.isnull().sum()"
   ]
  },
  {
   "cell_type": "code",
   "execution_count": 158,
   "id": "947dcfc6",
   "metadata": {},
   "outputs": [],
   "source": [
    "df.dropna(inplace=True)"
   ]
  },
  {
   "cell_type": "code",
   "execution_count": 159,
   "id": "b82bf45f",
   "metadata": {},
   "outputs": [
    {
     "data": {
      "text/plain": [
       "location      0\n",
       "size          0\n",
       "total_sqft    0\n",
       "bath          0\n",
       "price         0\n",
       "dtype: int64"
      ]
     },
     "execution_count": 159,
     "metadata": {},
     "output_type": "execute_result"
    }
   ],
   "source": [
    "df.isnull().sum()"
   ]
  },
  {
   "cell_type": "markdown",
   "id": "802c500b",
   "metadata": {},
   "source": [
    "----\n",
    "###  Transform the ‘Size’ column to numerical values. For Example: 2 BHK to be converted as 2\n"
   ]
  },
  {
   "cell_type": "code",
   "execution_count": 160,
   "id": "14066c74",
   "metadata": {},
   "outputs": [
    {
     "data": {
      "text/html": [
       "<div>\n",
       "<style scoped>\n",
       "    .dataframe tbody tr th:only-of-type {\n",
       "        vertical-align: middle;\n",
       "    }\n",
       "\n",
       "    .dataframe tbody tr th {\n",
       "        vertical-align: top;\n",
       "    }\n",
       "\n",
       "    .dataframe thead th {\n",
       "        text-align: right;\n",
       "    }\n",
       "</style>\n",
       "<table border=\"1\" class=\"dataframe\">\n",
       "  <thead>\n",
       "    <tr style=\"text-align: right;\">\n",
       "      <th></th>\n",
       "      <th>location</th>\n",
       "      <th>size</th>\n",
       "      <th>total_sqft</th>\n",
       "      <th>bath</th>\n",
       "      <th>price</th>\n",
       "    </tr>\n",
       "  </thead>\n",
       "  <tbody>\n",
       "    <tr>\n",
       "      <th>0</th>\n",
       "      <td>Electronic City Phase II</td>\n",
       "      <td>2 BHK</td>\n",
       "      <td>1056</td>\n",
       "      <td>False</td>\n",
       "      <td>39.07</td>\n",
       "    </tr>\n",
       "    <tr>\n",
       "      <th>1</th>\n",
       "      <td>Chikka Tirupathi</td>\n",
       "      <td>4 Bedroom</td>\n",
       "      <td>2600</td>\n",
       "      <td>False</td>\n",
       "      <td>120.00</td>\n",
       "    </tr>\n",
       "    <tr>\n",
       "      <th>2</th>\n",
       "      <td>Uttarahalli</td>\n",
       "      <td>3 BHK</td>\n",
       "      <td>1440</td>\n",
       "      <td>False</td>\n",
       "      <td>62.00</td>\n",
       "    </tr>\n",
       "    <tr>\n",
       "      <th>3</th>\n",
       "      <td>Lingadheeranahalli</td>\n",
       "      <td>3 BHK</td>\n",
       "      <td>1521</td>\n",
       "      <td>False</td>\n",
       "      <td>95.00</td>\n",
       "    </tr>\n",
       "    <tr>\n",
       "      <th>4</th>\n",
       "      <td>Kothanur</td>\n",
       "      <td>2 BHK</td>\n",
       "      <td>1200</td>\n",
       "      <td>False</td>\n",
       "      <td>51.00</td>\n",
       "    </tr>\n",
       "  </tbody>\n",
       "</table>\n",
       "</div>"
      ],
      "text/plain": [
       "                   location       size total_sqft   bath   price\n",
       "0  Electronic City Phase II      2 BHK       1056  False   39.07\n",
       "1          Chikka Tirupathi  4 Bedroom       2600  False  120.00\n",
       "2               Uttarahalli      3 BHK       1440  False   62.00\n",
       "3        Lingadheeranahalli      3 BHK       1521  False   95.00\n",
       "4                  Kothanur      2 BHK       1200  False   51.00"
      ]
     },
     "execution_count": 160,
     "metadata": {},
     "output_type": "execute_result"
    }
   ],
   "source": [
    "df.head()"
   ]
  },
  {
   "cell_type": "code",
   "execution_count": 161,
   "id": "23d8aadb",
   "metadata": {},
   "outputs": [],
   "source": [
    "df[\"size\"] = df[\"size\"].apply(lambda x: int(x.split()[0]))"
   ]
  },
  {
   "cell_type": "code",
   "execution_count": 162,
   "id": "6f0247ab",
   "metadata": {},
   "outputs": [],
   "source": [
    "df[\"size\"] = df[\"size\"].astype(\"int\")"
   ]
  },
  {
   "cell_type": "code",
   "execution_count": 163,
   "id": "d3b41202",
   "metadata": {},
   "outputs": [
    {
     "data": {
      "text/html": [
       "<div>\n",
       "<style scoped>\n",
       "    .dataframe tbody tr th:only-of-type {\n",
       "        vertical-align: middle;\n",
       "    }\n",
       "\n",
       "    .dataframe tbody tr th {\n",
       "        vertical-align: top;\n",
       "    }\n",
       "\n",
       "    .dataframe thead th {\n",
       "        text-align: right;\n",
       "    }\n",
       "</style>\n",
       "<table border=\"1\" class=\"dataframe\">\n",
       "  <thead>\n",
       "    <tr style=\"text-align: right;\">\n",
       "      <th></th>\n",
       "      <th>location</th>\n",
       "      <th>size</th>\n",
       "      <th>total_sqft</th>\n",
       "      <th>bath</th>\n",
       "      <th>price</th>\n",
       "    </tr>\n",
       "  </thead>\n",
       "  <tbody>\n",
       "    <tr>\n",
       "      <th>0</th>\n",
       "      <td>Electronic City Phase II</td>\n",
       "      <td>2</td>\n",
       "      <td>1056</td>\n",
       "      <td>False</td>\n",
       "      <td>39.07</td>\n",
       "    </tr>\n",
       "    <tr>\n",
       "      <th>1</th>\n",
       "      <td>Chikka Tirupathi</td>\n",
       "      <td>4</td>\n",
       "      <td>2600</td>\n",
       "      <td>False</td>\n",
       "      <td>120.00</td>\n",
       "    </tr>\n",
       "    <tr>\n",
       "      <th>2</th>\n",
       "      <td>Uttarahalli</td>\n",
       "      <td>3</td>\n",
       "      <td>1440</td>\n",
       "      <td>False</td>\n",
       "      <td>62.00</td>\n",
       "    </tr>\n",
       "    <tr>\n",
       "      <th>3</th>\n",
       "      <td>Lingadheeranahalli</td>\n",
       "      <td>3</td>\n",
       "      <td>1521</td>\n",
       "      <td>False</td>\n",
       "      <td>95.00</td>\n",
       "    </tr>\n",
       "    <tr>\n",
       "      <th>4</th>\n",
       "      <td>Kothanur</td>\n",
       "      <td>2</td>\n",
       "      <td>1200</td>\n",
       "      <td>False</td>\n",
       "      <td>51.00</td>\n",
       "    </tr>\n",
       "  </tbody>\n",
       "</table>\n",
       "</div>"
      ],
      "text/plain": [
       "                   location  size total_sqft   bath   price\n",
       "0  Electronic City Phase II     2       1056  False   39.07\n",
       "1          Chikka Tirupathi     4       2600  False  120.00\n",
       "2               Uttarahalli     3       1440  False   62.00\n",
       "3        Lingadheeranahalli     3       1521  False   95.00\n",
       "4                  Kothanur     2       1200  False   51.00"
      ]
     },
     "execution_count": 163,
     "metadata": {},
     "output_type": "execute_result"
    }
   ],
   "source": [
    "df.head()"
   ]
  },
  {
   "cell_type": "code",
   "execution_count": 164,
   "id": "660f83f8",
   "metadata": {},
   "outputs": [
    {
     "data": {
      "text/html": [
       "<div>\n",
       "<style scoped>\n",
       "    .dataframe tbody tr th:only-of-type {\n",
       "        vertical-align: middle;\n",
       "    }\n",
       "\n",
       "    .dataframe tbody tr th {\n",
       "        vertical-align: top;\n",
       "    }\n",
       "\n",
       "    .dataframe thead th {\n",
       "        text-align: right;\n",
       "    }\n",
       "</style>\n",
       "<table border=\"1\" class=\"dataframe\">\n",
       "  <thead>\n",
       "    <tr style=\"text-align: right;\">\n",
       "      <th></th>\n",
       "      <th>size</th>\n",
       "      <th>price</th>\n",
       "    </tr>\n",
       "  </thead>\n",
       "  <tbody>\n",
       "    <tr>\n",
       "      <th>count</th>\n",
       "      <td>13303.000000</td>\n",
       "      <td>13303.000000</td>\n",
       "    </tr>\n",
       "    <tr>\n",
       "      <th>mean</th>\n",
       "      <td>2.803728</td>\n",
       "      <td>112.584033</td>\n",
       "    </tr>\n",
       "    <tr>\n",
       "      <th>std</th>\n",
       "      <td>1.295022</td>\n",
       "      <td>148.993820</td>\n",
       "    </tr>\n",
       "    <tr>\n",
       "      <th>min</th>\n",
       "      <td>1.000000</td>\n",
       "      <td>8.000000</td>\n",
       "    </tr>\n",
       "    <tr>\n",
       "      <th>25%</th>\n",
       "      <td>2.000000</td>\n",
       "      <td>50.000000</td>\n",
       "    </tr>\n",
       "    <tr>\n",
       "      <th>50%</th>\n",
       "      <td>3.000000</td>\n",
       "      <td>72.000000</td>\n",
       "    </tr>\n",
       "    <tr>\n",
       "      <th>75%</th>\n",
       "      <td>3.000000</td>\n",
       "      <td>120.000000</td>\n",
       "    </tr>\n",
       "    <tr>\n",
       "      <th>max</th>\n",
       "      <td>43.000000</td>\n",
       "      <td>3600.000000</td>\n",
       "    </tr>\n",
       "  </tbody>\n",
       "</table>\n",
       "</div>"
      ],
      "text/plain": [
       "               size         price\n",
       "count  13303.000000  13303.000000\n",
       "mean       2.803728    112.584033\n",
       "std        1.295022    148.993820\n",
       "min        1.000000      8.000000\n",
       "25%        2.000000     50.000000\n",
       "50%        3.000000     72.000000\n",
       "75%        3.000000    120.000000\n",
       "max       43.000000   3600.000000"
      ]
     },
     "execution_count": 164,
     "metadata": {},
     "output_type": "execute_result"
    }
   ],
   "source": [
    "df.describe()"
   ]
  },
  {
   "cell_type": "code",
   "execution_count": null,
   "id": "8b586f76",
   "metadata": {},
   "outputs": [],
   "source": []
  },
  {
   "cell_type": "markdown",
   "id": "5b4bfc6a",
   "metadata": {},
   "source": [
    "## Transform the ‘total_sqft’ column to contain numerical values on same scale. If the range is given average value of the range to be taken"
   ]
  },
  {
   "cell_type": "code",
   "execution_count": null,
   "id": "1b685b20",
   "metadata": {},
   "outputs": [],
   "source": []
  },
  {
   "cell_type": "code",
   "execution_count": 165,
   "id": "ecab58ae",
   "metadata": {},
   "outputs": [
    {
     "ename": "SyntaxError",
     "evalue": "invalid syntax (591452116.py, line 1)",
     "output_type": "error",
     "traceback": [
      "\u001b[1;36m  Cell \u001b[1;32mIn [165], line 1\u001b[1;36m\u001b[0m\n\u001b[1;33m    df[\"total_sqft\"].apply(lambda x: )\u001b[0m\n\u001b[1;37m                                     ^\u001b[0m\n\u001b[1;31mSyntaxError\u001b[0m\u001b[1;31m:\u001b[0m invalid syntax\n"
     ]
    }
   ],
   "source": [
    "df[\"total_sqft\"].apply(lambda x: )"
   ]
  },
  {
   "cell_type": "code",
   "execution_count": 166,
   "id": "dce5f83c",
   "metadata": {},
   "outputs": [
    {
     "name": "stdout",
     "output_type": "stream",
     "text": [
      "['34.46Sq.', 'Meter']\n",
      "['1000Sq.', 'Meter']\n",
      "['1100Sq.', 'Yards']\n",
      "['716Sq.', 'Meter']\n",
      "['1500Sq.', 'Meter']\n",
      "['142.61Sq.', 'Meter']\n",
      "['1574Sq.', 'Yards']\n",
      "['361.33Sq.', 'Yards']\n",
      "['117Sq.', 'Yards']\n",
      "['3040Sq.', 'Meter']\n",
      "['500Sq.', 'Yards']\n",
      "['167Sq.', 'Meter']\n",
      "['315Sq.', 'Yards']\n",
      "['188.89Sq.', 'Yards']\n",
      "['204Sq.', 'Meter']\n",
      "['45Sq.', 'Yards']\n",
      "['133.3Sq.', 'Yards']\n",
      "['78.03Sq.', 'Meter']\n",
      "['122Sq.', 'Yards']\n",
      "['84.53Sq.', 'Meter']\n",
      "['697Sq.', 'Meter']\n",
      "['142.61Sq.', 'Meter']\n",
      "['132Sq.', 'Yards']\n",
      "['1100Sq.', 'Meter']\n",
      "['151.11Sq.', 'Yards']\n",
      "['2940Sq.', 'Yards']\n",
      "['45.06Sq.', 'Meter']\n",
      "['86.72Sq.', 'Meter']\n",
      "['120Sq.', 'Yards']\n",
      "['24Sq.', 'Meter']\n",
      "['142.84Sq.', 'Meter']\n",
      "['300Sq.', 'Yards']\n"
     ]
    }
   ],
   "source": [
    "for i in df[\"total_sqft\"]:\n",
    "    if len(i.split()) >1 and len(i.split()) != 3:\n",
    "        print(i.split())"
   ]
  },
  {
   "cell_type": "code",
   "execution_count": 167,
   "id": "9237116c",
   "metadata": {},
   "outputs": [
    {
     "name": "stdout",
     "output_type": "stream",
     "text": [
      "['1100Sq.', 'Yards']\n",
      "['1574Sq.', 'Yards']\n",
      "['361.33Sq.', 'Yards']\n",
      "['117Sq.', 'Yards']\n",
      "['500Sq.', 'Yards']\n",
      "['315Sq.', 'Yards']\n",
      "['188.89Sq.', 'Yards']\n",
      "['45Sq.', 'Yards']\n",
      "['133.3Sq.', 'Yards']\n",
      "['122Sq.', 'Yards']\n",
      "['132Sq.', 'Yards']\n",
      "['151.11Sq.', 'Yards']\n",
      "['2940Sq.', 'Yards']\n",
      "['120Sq.', 'Yards']\n",
      "['300Sq.', 'Yards']\n"
     ]
    }
   ],
   "source": [
    "for i in df[\"total_sqft\"]:\n",
    "    if len(i.split()) == 2 and i.split()[1] == \"Yards\":\n",
    "        print(i.split())"
   ]
  },
  {
   "cell_type": "code",
   "execution_count": 168,
   "id": "2312248e",
   "metadata": {},
   "outputs": [
    {
     "data": {
      "text/plain": [
       "'11'"
      ]
     },
     "execution_count": 168,
     "metadata": {},
     "output_type": "execute_result"
    }
   ],
   "source": [
    "def stringFilter(num):\n",
    "    ret = ''.join(filter(str.isdigit, num))\n",
    "    return ret\n",
    "stringFilter(\"asd1dfg1\")"
   ]
  },
  {
   "cell_type": "code",
   "execution_count": 169,
   "id": "288308d1",
   "metadata": {},
   "outputs": [],
   "source": [
    "# sq yards to sq foot\n",
    "# 1 sq yard = 9 sq foot\n",
    "df[\"total_sqft\"] = df[\"total_sqft\"].apply(lambda x: stringFilter(x.split()[0])*9 if len(x.split())==2 and x.split()[1] == 'Yards' else x)"
   ]
  },
  {
   "cell_type": "code",
   "execution_count": 170,
   "id": "64d6ec22",
   "metadata": {},
   "outputs": [],
   "source": [
    "for i in df[\"total_sqft\"]:\n",
    "    if len(i.split()) == 2 and i.split()[1] == \"Yards\":\n",
    "        print(i.split())"
   ]
  },
  {
   "cell_type": "code",
   "execution_count": 171,
   "id": "b9806059",
   "metadata": {},
   "outputs": [
    {
     "name": "stdout",
     "output_type": "stream",
     "text": [
      "['34.46Sq.', 'Meter']\n",
      "['1000Sq.', 'Meter']\n",
      "['716Sq.', 'Meter']\n",
      "['1500Sq.', 'Meter']\n",
      "['142.61Sq.', 'Meter']\n",
      "['3040Sq.', 'Meter']\n",
      "['167Sq.', 'Meter']\n",
      "['204Sq.', 'Meter']\n",
      "['78.03Sq.', 'Meter']\n",
      "['84.53Sq.', 'Meter']\n",
      "['697Sq.', 'Meter']\n",
      "['142.61Sq.', 'Meter']\n",
      "['1100Sq.', 'Meter']\n",
      "['45.06Sq.', 'Meter']\n",
      "['86.72Sq.', 'Meter']\n",
      "['24Sq.', 'Meter']\n",
      "['142.84Sq.', 'Meter']\n"
     ]
    }
   ],
   "source": [
    "for i in df[\"total_sqft\"]:\n",
    "    if len(i.split()) == 2 and i.split()[1] == \"Meter\":\n",
    "        print(i.split())"
   ]
  },
  {
   "cell_type": "code",
   "execution_count": 172,
   "id": "7e5a9734",
   "metadata": {},
   "outputs": [],
   "source": [
    "# sq meter to sq foot\n",
    "# 1 sq yard = 10.7639104 sq foot\n",
    "df[\"total_sqft\"] = df[\"total_sqft\"].apply(lambda x: stringFilter(x.split()[0]) if len(x.split()) == 2 and x.split()[1] == \"Meter\" else x)"
   ]
  },
  {
   "cell_type": "code",
   "execution_count": 173,
   "id": "402325c3",
   "metadata": {},
   "outputs": [],
   "source": [
    "for i in df[\"total_sqft\"]:\n",
    "    if len(i.split()) == 2 and i.split()[1] == \"Meter\":\n",
    "        print(i.split())"
   ]
  },
  {
   "cell_type": "code",
   "execution_count": 174,
   "id": "5c674fbf",
   "metadata": {},
   "outputs": [],
   "source": [
    "for i in df[\"total_sqft\"]:\n",
    "    if len(i.split()) >1 and len(i.split()) != 3:\n",
    "        print(i.split())"
   ]
  },
  {
   "cell_type": "code",
   "execution_count": 175,
   "id": "e138473d",
   "metadata": {},
   "outputs": [
    {
     "name": "stdout",
     "output_type": "stream",
     "text": [
      "['2100', '-', '2850']\n",
      "['3010', '-', '3410']\n",
      "['2957', '-', '3450']\n",
      "['3067', '-', '8156']\n",
      "['1042', '-', '1105']\n",
      "['1145', '-', '1340']\n",
      "['1015', '-', '1540']\n",
      "['1520', '-', '1740']\n",
      "['1195', '-', '1440']\n",
      "['1120', '-', '1145']\n",
      "['4400', '-', '6640']\n",
      "['3090', '-', '5002']\n",
      "['4400', '-', '6800']\n",
      "['1160', '-', '1195']\n",
      "['4000', '-', '5249']\n",
      "['1115', '-', '1130']\n",
      "['520', '-', '645']\n",
      "['1000', '-', '1285']\n",
      "['3606', '-', '5091']\n",
      "['650', '-', '665']\n",
      "['633', '-', '666']\n",
      "['1445', '-', '1455']\n",
      "['884', '-', '1116']\n",
      "['850', '-', '1093']\n",
      "['1440', '-', '1884']\n",
      "['547.34', '-', '827.31']\n",
      "['580', '-', '650']\n",
      "['3425', '-', '3435']\n",
      "['1804', '-', '2273']\n",
      "['3630', '-', '3800']\n",
      "['660', '-', '670']\n",
      "['4000', '-', '5249']\n",
      "['620', '-', '933']\n",
      "['2695', '-', '2940']\n",
      "['3450', '-', '3472']\n",
      "['1250', '-', '1305']\n",
      "['670', '-', '980']\n",
      "['1005.03', '-', '1252.49']\n",
      "['3630', '-', '3800']\n",
      "['1004', '-', '1204']\n",
      "['645', '-', '936']\n",
      "['2710', '-', '3360']\n",
      "['2249.81', '-', '4112.19']\n",
      "['3436', '-', '3643']\n",
      "['2830', '-', '2882']\n",
      "['596', '-', '804']\n",
      "['1255', '-', '1863']\n",
      "['1300', '-', '1405']\n",
      "['934', '-', '1437']\n",
      "['980', '-', '1030']\n",
      "['1564', '-', '1850']\n",
      "['1446', '-', '1506']\n",
      "['2249.81', '-', '4112.19']\n",
      "['1070', '-', '1315']\n",
      "['2806', '-', '3019']\n",
      "['613', '-', '648']\n",
      "['1430', '-', '1630']\n",
      "['704', '-', '730']\n",
      "['1482', '-', '1846']\n",
      "['2805', '-', '3565']\n",
      "['3293', '-', '5314']\n",
      "['1210', '-', '1477']\n",
      "['3369', '-', '3464']\n",
      "['1125', '-', '1500']\n",
      "['1076', '-', '1199']\n",
      "['381', '-', '535']\n",
      "['2215', '-', '2475']\n",
      "['524', '-', '894']\n",
      "['540', '-', '670']\n",
      "['1650', '-', '2538']\n",
      "['2725', '-', '3250']\n",
      "['1974', '-', '2171']\n",
      "['888', '-', '1290']\n",
      "['1360', '-', '1890']\n",
      "['2466', '-', '2856']\n",
      "['660', '-', '700']\n",
      "['385', '-', '440']\n",
      "['770', '-', '841']\n",
      "['524', '-', '894']\n",
      "['1310', '-', '1615']\n",
      "['1782', '-', '2000']\n",
      "['1469', '-', '1766']\n",
      "['1255', '-', '1350']\n",
      "['870', '-', '1080']\n",
      "['2580', '-', '2591']\n",
      "['613', '-', '648']\n",
      "['2563', '-', '2733']\n",
      "['605', '-', '624']\n",
      "['4260', '-', '4408']\n",
      "['1349', '-', '3324']\n",
      "['1255', '-', '1350']\n",
      "['3300', '-', '3335']\n",
      "['1180', '-', '1630']\n",
      "['1365', '-', '1700']\n",
      "['3500', '-', '3600']\n",
      "['2830', '-', '2882']\n",
      "['2830', '-', '2882']\n",
      "['1482', '-', '1684']\n",
      "['981', '-', '1249']\n",
      "['1100', '-', '1225']\n",
      "['1565', '-', '1595']\n",
      "['1270', '-', '1275']\n",
      "['840', '-', '1010']\n",
      "['2830', '-', '2882']\n",
      "['655', '-', '742']\n",
      "['1408', '-', '1455']\n",
      "['4050', '-', '4075']\n",
      "['942', '-', '1117']\n",
      "['1750', '-', '2640']\n",
      "['1390', '-', '1600']\n",
      "['598', '-', '958']\n",
      "['1010', '-', '1300']\n",
      "['3103', '-', '3890']\n",
      "['1450', '-', '1950']\n",
      "['1450', '-', '1595']\n",
      "['763', '-', '805']\n",
      "['3307', '-', '3464']\n",
      "['620', '-', '934']\n",
      "['2462', '-', '2467']\n",
      "['540', '-', '740']\n",
      "['1618', '-', '1929']\n",
      "['3508', '-', '4201']\n",
      "['2249.81', '-', '4112.19']\n",
      "['4900', '-', '4940']\n",
      "['1610', '-', '1880']\n",
      "['755', '-', '770']\n",
      "['664', '-', '722']\n",
      "['700', '-', '900']\n",
      "['596', '-', '861']\n",
      "['1925', '-', '2680']\n",
      "['615', '-', '985']\n",
      "['540', '-', '565']\n",
      "['1390', '-', '1600']\n",
      "['750', '-', '800']\n",
      "['1660', '-', '1805']\n",
      "['1365', '-', '1700']\n",
      "['1410', '-', '1710']\n",
      "['1079', '-', '1183']\n",
      "['2800', '-', '2870']\n",
      "['1230', '-', '1290']\n",
      "['943', '-', '1220']\n",
      "['2041', '-', '2090']\n",
      "['527', '-', '639']\n",
      "['645', '-', '936']\n",
      "['1160', '-', '1315']\n",
      "['706', '-', '716']\n",
      "['1791', '-', '4000']\n",
      "['799', '-', '803']\n",
      "['2470', '-', '2790']\n",
      "['783', '-', '943']\n",
      "['4500', '-', '5540']\n",
      "['1255', '-', '1375']\n",
      "['1430', '-', '1630']\n",
      "['610', '-', '615']\n",
      "['854', '-', '960']\n",
      "['2650', '-', '2990']\n",
      "['381', '-', '535']\n",
      "['1230', '-', '1490']\n",
      "['3630', '-', '3800']\n",
      "['660', '-', '780']\n",
      "['1618', '-', '1929']\n",
      "['1150', '-', '1194']\n",
      "['684', '-', '810']\n",
      "['1510', '-', '1670']\n",
      "['1550', '-', '1590']\n",
      "['1235', '-', '1410']\n",
      "['3484', '-', '3550']\n",
      "['929', '-', '1078']\n",
      "['2150', '-', '2225']\n",
      "['1520', '-', '1759']\n",
      "['2580', '-', '2591']\n",
      "['629', '-', '1026']\n",
      "['1215', '-', '1495']\n",
      "['1140', '-', '1250']\n",
      "['2400', '-', '2600']\n",
      "['1052', '-', '1322']\n",
      "['5666', '-', '5669']\n",
      "['620', '-', '934']\n",
      "['712', '-', '938']\n",
      "['1783', '-', '1878']\n",
      "['2528', '-', '3188']\n",
      "['650', '-', '760']\n",
      "['1400', '-', '1421']\n",
      "['4000', '-', '4450']\n",
      "['1115', '-', '1130']\n",
      "['2204', '-', '2362']\n",
      "['1437', '-', '1629']\n",
      "['850', '-', '1060']\n",
      "['1804', '-', '2273']\n",
      "['1200', '-', '1470']\n",
      "['1020', '-', '1130']\n",
      "['1133', '-', '1384']\n",
      "['2830', '-', '2882']\n"
     ]
    }
   ],
   "source": [
    "for i in df[\"total_sqft\"]:\n",
    "    if len(i.split()) == 3:\n",
    "        print(i.split())"
   ]
  },
  {
   "cell_type": "code",
   "execution_count": 176,
   "id": "5adae439",
   "metadata": {},
   "outputs": [],
   "source": [
    "df[\"total_sqft\"] = df[\"total_sqft\"].apply(lambda x: str((float(x.split()[0]) + float(x.split()[2])) / 2 ) if len(x.split()) == 3 else x)"
   ]
  },
  {
   "cell_type": "code",
   "execution_count": 177,
   "id": "2171c4d6",
   "metadata": {},
   "outputs": [],
   "source": [
    "for i in df[\"total_sqft\"]:\n",
    "    if len(i.split()) == 3:\n",
    "        print(i.split())"
   ]
  },
  {
   "cell_type": "code",
   "execution_count": 178,
   "id": "8b036b1c",
   "metadata": {},
   "outputs": [],
   "source": [
    "for i in df[\"total_sqft\"]:\n",
    "    if len(i.split()) != 1:\n",
    "        print(i.split())"
   ]
  },
  {
   "cell_type": "code",
   "execution_count": 179,
   "id": "53458fae",
   "metadata": {},
   "outputs": [],
   "source": [
    "df[\"total_sqft\"] = df[\"total_sqft\"].apply(lambda x: stringFilter(x))"
   ]
  },
  {
   "cell_type": "code",
   "execution_count": 180,
   "id": "95b56c90",
   "metadata": {},
   "outputs": [],
   "source": [
    "df[\"total_sqft\"] = df[\"total_sqft\"].astype(\"float\")"
   ]
  },
  {
   "cell_type": "code",
   "execution_count": 181,
   "id": "298c94c6",
   "metadata": {},
   "outputs": [
    {
     "data": {
      "text/plain": [
       "location       object\n",
       "size            int32\n",
       "total_sqft    float64\n",
       "bath             bool\n",
       "price         float64\n",
       "dtype: object"
      ]
     },
     "execution_count": 181,
     "metadata": {},
     "output_type": "execute_result"
    }
   ],
   "source": [
    "df.dtypes"
   ]
  },
  {
   "cell_type": "code",
   "execution_count": 182,
   "id": "4b85c76c",
   "metadata": {},
   "outputs": [],
   "source": [
    "df[\"total_sqft\"] = df[\"total_sqft\"].apply(lambda x: round(x,2))"
   ]
  },
  {
   "cell_type": "code",
   "execution_count": 183,
   "id": "1a422382",
   "metadata": {},
   "outputs": [
    {
     "data": {
      "text/html": [
       "<div>\n",
       "<style scoped>\n",
       "    .dataframe tbody tr th:only-of-type {\n",
       "        vertical-align: middle;\n",
       "    }\n",
       "\n",
       "    .dataframe tbody tr th {\n",
       "        vertical-align: top;\n",
       "    }\n",
       "\n",
       "    .dataframe thead th {\n",
       "        text-align: right;\n",
       "    }\n",
       "</style>\n",
       "<table border=\"1\" class=\"dataframe\">\n",
       "  <thead>\n",
       "    <tr style=\"text-align: right;\">\n",
       "      <th></th>\n",
       "      <th>location</th>\n",
       "      <th>size</th>\n",
       "      <th>total_sqft</th>\n",
       "      <th>bath</th>\n",
       "      <th>price</th>\n",
       "    </tr>\n",
       "  </thead>\n",
       "  <tbody>\n",
       "    <tr>\n",
       "      <th>0</th>\n",
       "      <td>Electronic City Phase II</td>\n",
       "      <td>2</td>\n",
       "      <td>1056.0</td>\n",
       "      <td>False</td>\n",
       "      <td>39.07</td>\n",
       "    </tr>\n",
       "    <tr>\n",
       "      <th>1</th>\n",
       "      <td>Chikka Tirupathi</td>\n",
       "      <td>4</td>\n",
       "      <td>2600.0</td>\n",
       "      <td>False</td>\n",
       "      <td>120.00</td>\n",
       "    </tr>\n",
       "    <tr>\n",
       "      <th>2</th>\n",
       "      <td>Uttarahalli</td>\n",
       "      <td>3</td>\n",
       "      <td>1440.0</td>\n",
       "      <td>False</td>\n",
       "      <td>62.00</td>\n",
       "    </tr>\n",
       "    <tr>\n",
       "      <th>3</th>\n",
       "      <td>Lingadheeranahalli</td>\n",
       "      <td>3</td>\n",
       "      <td>1521.0</td>\n",
       "      <td>False</td>\n",
       "      <td>95.00</td>\n",
       "    </tr>\n",
       "    <tr>\n",
       "      <th>4</th>\n",
       "      <td>Kothanur</td>\n",
       "      <td>2</td>\n",
       "      <td>1200.0</td>\n",
       "      <td>False</td>\n",
       "      <td>51.00</td>\n",
       "    </tr>\n",
       "  </tbody>\n",
       "</table>\n",
       "</div>"
      ],
      "text/plain": [
       "                   location  size  total_sqft   bath   price\n",
       "0  Electronic City Phase II     2      1056.0  False   39.07\n",
       "1          Chikka Tirupathi     4      2600.0  False  120.00\n",
       "2               Uttarahalli     3      1440.0  False   62.00\n",
       "3        Lingadheeranahalli     3      1521.0  False   95.00\n",
       "4                  Kothanur     2      1200.0  False   51.00"
      ]
     },
     "execution_count": 183,
     "metadata": {},
     "output_type": "execute_result"
    }
   ],
   "source": [
    "df.head()"
   ]
  },
  {
   "cell_type": "code",
   "execution_count": 184,
   "id": "b62bf75e",
   "metadata": {},
   "outputs": [],
   "source": [
    "df[\"Price_Per_Sqft\"] = df[\"total_sqft\"]/df[\"price\"]"
   ]
  },
  {
   "cell_type": "markdown",
   "id": "7d0b60eb",
   "metadata": {},
   "source": [
    "## Calculate and add one more column as ‘Price_Per_Sqft’"
   ]
  },
  {
   "cell_type": "code",
   "execution_count": 185,
   "id": "2d760897",
   "metadata": {},
   "outputs": [
    {
     "data": {
      "text/html": [
       "<div>\n",
       "<style scoped>\n",
       "    .dataframe tbody tr th:only-of-type {\n",
       "        vertical-align: middle;\n",
       "    }\n",
       "\n",
       "    .dataframe tbody tr th {\n",
       "        vertical-align: top;\n",
       "    }\n",
       "\n",
       "    .dataframe thead th {\n",
       "        text-align: right;\n",
       "    }\n",
       "</style>\n",
       "<table border=\"1\" class=\"dataframe\">\n",
       "  <thead>\n",
       "    <tr style=\"text-align: right;\">\n",
       "      <th></th>\n",
       "      <th>location</th>\n",
       "      <th>size</th>\n",
       "      <th>total_sqft</th>\n",
       "      <th>bath</th>\n",
       "      <th>price</th>\n",
       "      <th>Price_Per_Sqft</th>\n",
       "    </tr>\n",
       "  </thead>\n",
       "  <tbody>\n",
       "    <tr>\n",
       "      <th>0</th>\n",
       "      <td>Electronic City Phase II</td>\n",
       "      <td>2</td>\n",
       "      <td>1056.0</td>\n",
       "      <td>False</td>\n",
       "      <td>39.07</td>\n",
       "      <td>27.028411</td>\n",
       "    </tr>\n",
       "    <tr>\n",
       "      <th>1</th>\n",
       "      <td>Chikka Tirupathi</td>\n",
       "      <td>4</td>\n",
       "      <td>2600.0</td>\n",
       "      <td>False</td>\n",
       "      <td>120.00</td>\n",
       "      <td>21.666667</td>\n",
       "    </tr>\n",
       "    <tr>\n",
       "      <th>2</th>\n",
       "      <td>Uttarahalli</td>\n",
       "      <td>3</td>\n",
       "      <td>1440.0</td>\n",
       "      <td>False</td>\n",
       "      <td>62.00</td>\n",
       "      <td>23.225806</td>\n",
       "    </tr>\n",
       "    <tr>\n",
       "      <th>3</th>\n",
       "      <td>Lingadheeranahalli</td>\n",
       "      <td>3</td>\n",
       "      <td>1521.0</td>\n",
       "      <td>False</td>\n",
       "      <td>95.00</td>\n",
       "      <td>16.010526</td>\n",
       "    </tr>\n",
       "    <tr>\n",
       "      <th>4</th>\n",
       "      <td>Kothanur</td>\n",
       "      <td>2</td>\n",
       "      <td>1200.0</td>\n",
       "      <td>False</td>\n",
       "      <td>51.00</td>\n",
       "      <td>23.529412</td>\n",
       "    </tr>\n",
       "    <tr>\n",
       "      <th>...</th>\n",
       "      <td>...</td>\n",
       "      <td>...</td>\n",
       "      <td>...</td>\n",
       "      <td>...</td>\n",
       "      <td>...</td>\n",
       "      <td>...</td>\n",
       "    </tr>\n",
       "    <tr>\n",
       "      <th>13315</th>\n",
       "      <td>Whitefield</td>\n",
       "      <td>5</td>\n",
       "      <td>3453.0</td>\n",
       "      <td>False</td>\n",
       "      <td>231.00</td>\n",
       "      <td>14.948052</td>\n",
       "    </tr>\n",
       "    <tr>\n",
       "      <th>13316</th>\n",
       "      <td>Richards Town</td>\n",
       "      <td>4</td>\n",
       "      <td>3600.0</td>\n",
       "      <td>False</td>\n",
       "      <td>400.00</td>\n",
       "      <td>9.000000</td>\n",
       "    </tr>\n",
       "    <tr>\n",
       "      <th>13317</th>\n",
       "      <td>Raja Rajeshwari Nagar</td>\n",
       "      <td>2</td>\n",
       "      <td>1141.0</td>\n",
       "      <td>False</td>\n",
       "      <td>60.00</td>\n",
       "      <td>19.016667</td>\n",
       "    </tr>\n",
       "    <tr>\n",
       "      <th>13318</th>\n",
       "      <td>Padmanabhanagar</td>\n",
       "      <td>4</td>\n",
       "      <td>4689.0</td>\n",
       "      <td>False</td>\n",
       "      <td>488.00</td>\n",
       "      <td>9.608607</td>\n",
       "    </tr>\n",
       "    <tr>\n",
       "      <th>13319</th>\n",
       "      <td>Doddathoguru</td>\n",
       "      <td>1</td>\n",
       "      <td>550.0</td>\n",
       "      <td>False</td>\n",
       "      <td>17.00</td>\n",
       "      <td>32.352941</td>\n",
       "    </tr>\n",
       "  </tbody>\n",
       "</table>\n",
       "<p>13303 rows × 6 columns</p>\n",
       "</div>"
      ],
      "text/plain": [
       "                       location  size  total_sqft   bath   price   \n",
       "0      Electronic City Phase II     2      1056.0  False   39.07  \\\n",
       "1              Chikka Tirupathi     4      2600.0  False  120.00   \n",
       "2                   Uttarahalli     3      1440.0  False   62.00   \n",
       "3            Lingadheeranahalli     3      1521.0  False   95.00   \n",
       "4                      Kothanur     2      1200.0  False   51.00   \n",
       "...                         ...   ...         ...    ...     ...   \n",
       "13315                Whitefield     5      3453.0  False  231.00   \n",
       "13316             Richards Town     4      3600.0  False  400.00   \n",
       "13317     Raja Rajeshwari Nagar     2      1141.0  False   60.00   \n",
       "13318           Padmanabhanagar     4      4689.0  False  488.00   \n",
       "13319              Doddathoguru     1       550.0  False   17.00   \n",
       "\n",
       "       Price_Per_Sqft  \n",
       "0           27.028411  \n",
       "1           21.666667  \n",
       "2           23.225806  \n",
       "3           16.010526  \n",
       "4           23.529412  \n",
       "...               ...  \n",
       "13315       14.948052  \n",
       "13316        9.000000  \n",
       "13317       19.016667  \n",
       "13318        9.608607  \n",
       "13319       32.352941  \n",
       "\n",
       "[13303 rows x 6 columns]"
      ]
     },
     "execution_count": 185,
     "metadata": {},
     "output_type": "execute_result"
    }
   ],
   "source": [
    "df"
   ]
  },
  {
   "cell_type": "code",
   "execution_count": 186,
   "id": "890294ed",
   "metadata": {},
   "outputs": [
    {
     "data": {
      "text/html": [
       "<div>\n",
       "<style scoped>\n",
       "    .dataframe tbody tr th:only-of-type {\n",
       "        vertical-align: middle;\n",
       "    }\n",
       "\n",
       "    .dataframe tbody tr th {\n",
       "        vertical-align: top;\n",
       "    }\n",
       "\n",
       "    .dataframe thead th {\n",
       "        text-align: right;\n",
       "    }\n",
       "</style>\n",
       "<table border=\"1\" class=\"dataframe\">\n",
       "  <thead>\n",
       "    <tr style=\"text-align: right;\">\n",
       "      <th></th>\n",
       "      <th>size</th>\n",
       "      <th>total_sqft</th>\n",
       "      <th>price</th>\n",
       "      <th>Price_Per_Sqft</th>\n",
       "    </tr>\n",
       "  </thead>\n",
       "  <tbody>\n",
       "    <tr>\n",
       "      <th>count</th>\n",
       "      <td>13303.000000</td>\n",
       "      <td>1.330300e+04</td>\n",
       "      <td>13303.000000</td>\n",
       "      <td>1.330300e+04</td>\n",
       "    </tr>\n",
       "    <tr>\n",
       "      <th>mean</th>\n",
       "      <td>2.803728</td>\n",
       "      <td>5.272021e+40</td>\n",
       "      <td>112.584033</td>\n",
       "      <td>2.552118e+38</td>\n",
       "    </tr>\n",
       "    <tr>\n",
       "      <th>std</th>\n",
       "      <td>1.295022</td>\n",
       "      <td>3.769799e+42</td>\n",
       "      <td>148.993820</td>\n",
       "      <td>1.713641e+40</td>\n",
       "    </tr>\n",
       "    <tr>\n",
       "      <th>min</th>\n",
       "      <td>1.000000</td>\n",
       "      <td>1.000000e+00</td>\n",
       "      <td>8.000000</td>\n",
       "      <td>8.333333e-03</td>\n",
       "    </tr>\n",
       "    <tr>\n",
       "      <th>25%</th>\n",
       "      <td>2.000000</td>\n",
       "      <td>1.100000e+03</td>\n",
       "      <td>50.000000</td>\n",
       "      <td>1.376526e+01</td>\n",
       "    </tr>\n",
       "    <tr>\n",
       "      <th>50%</th>\n",
       "      <td>3.000000</td>\n",
       "      <td>1.286000e+03</td>\n",
       "      <td>72.000000</td>\n",
       "      <td>1.859091e+01</td>\n",
       "    </tr>\n",
       "    <tr>\n",
       "      <th>75%</th>\n",
       "      <td>3.000000</td>\n",
       "      <td>1.703000e+03</td>\n",
       "      <td>120.000000</td>\n",
       "      <td>2.386486e+01</td>\n",
       "    </tr>\n",
       "    <tr>\n",
       "      <th>max</th>\n",
       "      <td>43.000000</td>\n",
       "      <td>3.613336e+44</td>\n",
       "      <td>3600.000000</td>\n",
       "      <td>1.338273e+42</td>\n",
       "    </tr>\n",
       "  </tbody>\n",
       "</table>\n",
       "</div>"
      ],
      "text/plain": [
       "               size    total_sqft         price  Price_Per_Sqft\n",
       "count  13303.000000  1.330300e+04  13303.000000    1.330300e+04\n",
       "mean       2.803728  5.272021e+40    112.584033    2.552118e+38\n",
       "std        1.295022  3.769799e+42    148.993820    1.713641e+40\n",
       "min        1.000000  1.000000e+00      8.000000    8.333333e-03\n",
       "25%        2.000000  1.100000e+03     50.000000    1.376526e+01\n",
       "50%        3.000000  1.286000e+03     72.000000    1.859091e+01\n",
       "75%        3.000000  1.703000e+03    120.000000    2.386486e+01\n",
       "max       43.000000  3.613336e+44   3600.000000    1.338273e+42"
      ]
     },
     "execution_count": 186,
     "metadata": {},
     "output_type": "execute_result"
    }
   ],
   "source": [
    "df.describe()"
   ]
  },
  {
   "cell_type": "code",
   "execution_count": 187,
   "id": "d07cf5d0",
   "metadata": {},
   "outputs": [
    {
     "data": {
      "text/plain": [
       "3.613336133361334e+44"
      ]
     },
     "execution_count": 187,
     "metadata": {},
     "output_type": "execute_result"
    }
   ],
   "source": [
    "df.total_sqft.max()"
   ]
  },
  {
   "cell_type": "code",
   "execution_count": 188,
   "id": "031e6ae7",
   "metadata": {},
   "outputs": [],
   "source": [
    "import matplotlib.pyplot as plt"
   ]
  },
  {
   "cell_type": "code",
   "execution_count": 189,
   "id": "aa5ba857",
   "metadata": {},
   "outputs": [
    {
     "data": {
      "text/plain": [
       "{'whiskers': [<matplotlib.lines.Line2D at 0x217a94e0bb0>,\n",
       "  <matplotlib.lines.Line2D at 0x217a94e0940>],\n",
       " 'caps': [<matplotlib.lines.Line2D at 0x217a94e0640>,\n",
       "  <matplotlib.lines.Line2D at 0x217a94e03d0>],\n",
       " 'boxes': [<matplotlib.lines.Line2D at 0x217a94e0790>],\n",
       " 'medians': [<matplotlib.lines.Line2D at 0x217a94e00a0>],\n",
       " 'fliers': [<matplotlib.lines.Line2D at 0x217a94e3280>],\n",
       " 'means': []}"
      ]
     },
     "execution_count": 189,
     "metadata": {},
     "output_type": "execute_result"
    },
    {
     "data": {
      "image/png": "[encoded data removed]",
      "text/plain": [
       "<Figure size 640x480 with 1 Axes>"
      ]
     },
     "metadata": {},
     "output_type": "display_data"
    }
   ],
   "source": [
    "plt.boxplot(df.total_sqft)"
   ]
  },
  {
   "cell_type": "code",
   "execution_count": 190,
   "id": "46a6e5c5",
   "metadata": {},
   "outputs": [],
   "source": [
    "new = df[df[\"total_sqft\"] < 100000000]"
   ]
  },
  {
   "cell_type": "code",
   "execution_count": 191,
   "id": "80257e6a",
   "metadata": {},
   "outputs": [
    {
     "data": {
      "text/plain": [
       "{'whiskers': [<matplotlib.lines.Line2D at 0x217a9459120>,\n",
       "  <matplotlib.lines.Line2D at 0x217a9459420>],\n",
       " 'caps': [<matplotlib.lines.Line2D at 0x217a9459870>,\n",
       "  <matplotlib.lines.Line2D at 0x217a945b580>],\n",
       " 'boxes': [<matplotlib.lines.Line2D at 0x217a9458df0>],\n",
       " 'medians': [<matplotlib.lines.Line2D at 0x217a9459f30>],\n",
       " 'fliers': [<matplotlib.lines.Line2D at 0x217a945a170>],\n",
       " 'means': []}"
      ]
     },
     "execution_count": 191,
     "metadata": {},
     "output_type": "execute_result"
    },
    {
     "data": {
      "image/png": "[encoded data removed]",
      "text/plain": [
       "<Figure size 640x480 with 1 Axes>"
      ]
     },
     "metadata": {},
     "output_type": "display_data"
    }
   ],
   "source": [
    "plt.boxplot(new.total_sqft)"
   ]
  },
  {
   "cell_type": "code",
   "execution_count": 192,
   "id": "53c3c472",
   "metadata": {},
   "outputs": [
    {
     "data": {
      "text/plain": [
       "687325.0"
      ]
     },
     "execution_count": 192,
     "metadata": {},
     "output_type": "execute_result"
    }
   ],
   "source": [
    "new[\"total_sqft\"].max()"
   ]
  },
  {
   "cell_type": "code",
   "execution_count": 193,
   "id": "0d162bfe",
   "metadata": {},
   "outputs": [
    {
     "data": {
      "text/html": [
       "<div>\n",
       "<style scoped>\n",
       "    .dataframe tbody tr th:only-of-type {\n",
       "        vertical-align: middle;\n",
       "    }\n",
       "\n",
       "    .dataframe tbody tr th {\n",
       "        vertical-align: top;\n",
       "    }\n",
       "\n",
       "    .dataframe thead th {\n",
       "        text-align: right;\n",
       "    }\n",
       "</style>\n",
       "<table border=\"1\" class=\"dataframe\">\n",
       "  <thead>\n",
       "    <tr style=\"text-align: right;\">\n",
       "      <th></th>\n",
       "      <th>size</th>\n",
       "      <th>total_sqft</th>\n",
       "      <th>price</th>\n",
       "      <th>Price_Per_Sqft</th>\n",
       "    </tr>\n",
       "  </thead>\n",
       "  <tbody>\n",
       "    <tr>\n",
       "      <th>count</th>\n",
       "      <td>13288.000000</td>\n",
       "      <td>13288.000000</td>\n",
       "      <td>13288.000000</td>\n",
       "      <td>13288.000000</td>\n",
       "    </tr>\n",
       "    <tr>\n",
       "      <th>mean</th>\n",
       "      <td>2.803507</td>\n",
       "      <td>2694.222306</td>\n",
       "      <td>112.524187</td>\n",
       "      <td>30.397892</td>\n",
       "    </tr>\n",
       "    <tr>\n",
       "      <th>std</th>\n",
       "      <td>1.295329</td>\n",
       "      <td>14496.989998</td>\n",
       "      <td>149.015452</td>\n",
       "      <td>181.730393</td>\n",
       "    </tr>\n",
       "    <tr>\n",
       "      <th>min</th>\n",
       "      <td>1.000000</td>\n",
       "      <td>1.000000</td>\n",
       "      <td>8.000000</td>\n",
       "      <td>0.008333</td>\n",
       "    </tr>\n",
       "    <tr>\n",
       "      <th>25%</th>\n",
       "      <td>2.000000</td>\n",
       "      <td>1100.000000</td>\n",
       "      <td>50.000000</td>\n",
       "      <td>13.759850</td>\n",
       "    </tr>\n",
       "    <tr>\n",
       "      <th>50%</th>\n",
       "      <td>3.000000</td>\n",
       "      <td>1285.000000</td>\n",
       "      <td>72.000000</td>\n",
       "      <td>18.578465</td>\n",
       "    </tr>\n",
       "    <tr>\n",
       "      <th>75%</th>\n",
       "      <td>3.000000</td>\n",
       "      <td>1700.250000</td>\n",
       "      <td>120.000000</td>\n",
       "      <td>23.846154</td>\n",
       "    </tr>\n",
       "    <tr>\n",
       "      <th>max</th>\n",
       "      <td>43.000000</td>\n",
       "      <td>687325.000000</td>\n",
       "      <td>3600.000000</td>\n",
       "      <td>16089.068352</td>\n",
       "    </tr>\n",
       "  </tbody>\n",
       "</table>\n",
       "</div>"
      ],
      "text/plain": [
       "               size     total_sqft         price  Price_Per_Sqft\n",
       "count  13288.000000   13288.000000  13288.000000    13288.000000\n",
       "mean       2.803507    2694.222306    112.524187       30.397892\n",
       "std        1.295329   14496.989998    149.015452      181.730393\n",
       "min        1.000000       1.000000      8.000000        0.008333\n",
       "25%        2.000000    1100.000000     50.000000       13.759850\n",
       "50%        3.000000    1285.000000     72.000000       18.578465\n",
       "75%        3.000000    1700.250000    120.000000       23.846154\n",
       "max       43.000000  687325.000000   3600.000000    16089.068352"
      ]
     },
     "execution_count": 193,
     "metadata": {},
     "output_type": "execute_result"
    }
   ],
   "source": [
    "new.describe()"
   ]
  },
  {
   "cell_type": "code",
   "execution_count": 195,
   "id": "c90ea23c",
   "metadata": {},
   "outputs": [
    {
     "data": {
      "text/plain": [
       "{'whiskers': [<matplotlib.lines.Line2D at 0x217ac55dab0>,\n",
       "  <matplotlib.lines.Line2D at 0x217ac55dd50>],\n",
       " 'caps': [<matplotlib.lines.Line2D at 0x217ac55dff0>,\n",
       "  <matplotlib.lines.Line2D at 0x217ac55e290>],\n",
       " 'boxes': [<matplotlib.lines.Line2D at 0x217ac55d810>],\n",
       " 'medians': [<matplotlib.lines.Line2D at 0x217ac55e530>],\n",
       " 'fliers': [<matplotlib.lines.Line2D at 0x217ac55e7d0>],\n",
       " 'means': []}"
      ]
     },
     "execution_count": 195,
     "metadata": {},
     "output_type": "execute_result"
    },
    {
     "data": {
      "image/png": "[encoded data removed]",
      "text/plain": [
       "<Figure size 640x480 with 1 Axes>"
      ]
     },
     "metadata": {},
     "output_type": "display_data"
    }
   ],
   "source": [
    "plt.boxplot(new[\"size\"])"
   ]
  },
  {
   "cell_type": "code",
   "execution_count": 196,
   "id": "ecc70f99",
   "metadata": {},
   "outputs": [],
   "source": [
    "new = new[new[\"size\"] < 11]"
   ]
  },
  {
   "cell_type": "code",
   "execution_count": 197,
   "id": "4ea91ef7",
   "metadata": {},
   "outputs": [
    {
     "data": {
      "text/plain": [
       "{'whiskers': [<matplotlib.lines.Line2D at 0x217ac597c70>,\n",
       "  <matplotlib.lines.Line2D at 0x217ac597f10>],\n",
       " 'caps': [<matplotlib.lines.Line2D at 0x217ac5c41f0>,\n",
       "  <matplotlib.lines.Line2D at 0x217ac5c4490>],\n",
       " 'boxes': [<matplotlib.lines.Line2D at 0x217ac5979d0>],\n",
       " 'medians': [<matplotlib.lines.Line2D at 0x217ac5c4730>],\n",
       " 'fliers': [<matplotlib.lines.Line2D at 0x217ac5c49d0>],\n",
       " 'means': []}"
      ]
     },
     "execution_count": 197,
     "metadata": {},
     "output_type": "execute_result"
    },
    {
     "data": {
      "image/png": "[encoded data removed]",
      "text/plain": [
       "<Figure size 640x480 with 1 Axes>"
      ]
     },
     "metadata": {},
     "output_type": "display_data"
    }
   ],
   "source": [
    "plt.boxplot(new[\"size\"])"
   ]
  },
  {
   "cell_type": "markdown",
   "id": "24bc1949",
   "metadata": {},
   "source": [
    "##  Apply the Linear Regression model to the data and display the training and testing performance measures as Mean Squared Error and Accuracy\n"
   ]
  },
  {
   "cell_type": "code",
   "execution_count": 198,
   "id": "0a168762",
   "metadata": {},
   "outputs": [],
   "source": [
    "from sklearn.model_selection import train_test_split\n",
    "from sklearn.linear_model import LinearRegression\n",
    "from sklearn.metrics import mean_squared_error, r2_score"
   ]
  },
  {
   "cell_type": "code",
   "execution_count": 199,
   "id": "ad3db593",
   "metadata": {},
   "outputs": [
    {
     "data": {
      "text/html": [
       "<div>\n",
       "<style scoped>\n",
       "    .dataframe tbody tr th:only-of-type {\n",
       "        vertical-align: middle;\n",
       "    }\n",
       "\n",
       "    .dataframe tbody tr th {\n",
       "        vertical-align: top;\n",
       "    }\n",
       "\n",
       "    .dataframe thead th {\n",
       "        text-align: right;\n",
       "    }\n",
       "</style>\n",
       "<table border=\"1\" class=\"dataframe\">\n",
       "  <thead>\n",
       "    <tr style=\"text-align: right;\">\n",
       "      <th></th>\n",
       "      <th>location</th>\n",
       "      <th>size</th>\n",
       "      <th>total_sqft</th>\n",
       "      <th>bath</th>\n",
       "      <th>price</th>\n",
       "      <th>Price_Per_Sqft</th>\n",
       "    </tr>\n",
       "  </thead>\n",
       "  <tbody>\n",
       "    <tr>\n",
       "      <th>0</th>\n",
       "      <td>Electronic City Phase II</td>\n",
       "      <td>2</td>\n",
       "      <td>1056.0</td>\n",
       "      <td>False</td>\n",
       "      <td>39.07</td>\n",
       "      <td>27.028411</td>\n",
       "    </tr>\n",
       "    <tr>\n",
       "      <th>1</th>\n",
       "      <td>Chikka Tirupathi</td>\n",
       "      <td>4</td>\n",
       "      <td>2600.0</td>\n",
       "      <td>False</td>\n",
       "      <td>120.00</td>\n",
       "      <td>21.666667</td>\n",
       "    </tr>\n",
       "    <tr>\n",
       "      <th>2</th>\n",
       "      <td>Uttarahalli</td>\n",
       "      <td>3</td>\n",
       "      <td>1440.0</td>\n",
       "      <td>False</td>\n",
       "      <td>62.00</td>\n",
       "      <td>23.225806</td>\n",
       "    </tr>\n",
       "    <tr>\n",
       "      <th>3</th>\n",
       "      <td>Lingadheeranahalli</td>\n",
       "      <td>3</td>\n",
       "      <td>1521.0</td>\n",
       "      <td>False</td>\n",
       "      <td>95.00</td>\n",
       "      <td>16.010526</td>\n",
       "    </tr>\n",
       "    <tr>\n",
       "      <th>4</th>\n",
       "      <td>Kothanur</td>\n",
       "      <td>2</td>\n",
       "      <td>1200.0</td>\n",
       "      <td>False</td>\n",
       "      <td>51.00</td>\n",
       "      <td>23.529412</td>\n",
       "    </tr>\n",
       "  </tbody>\n",
       "</table>\n",
       "</div>"
      ],
      "text/plain": [
       "                   location  size  total_sqft   bath   price  Price_Per_Sqft\n",
       "0  Electronic City Phase II     2      1056.0  False   39.07       27.028411\n",
       "1          Chikka Tirupathi     4      2600.0  False  120.00       21.666667\n",
       "2               Uttarahalli     3      1440.0  False   62.00       23.225806\n",
       "3        Lingadheeranahalli     3      1521.0  False   95.00       16.010526\n",
       "4                  Kothanur     2      1200.0  False   51.00       23.529412"
      ]
     },
     "execution_count": 199,
     "metadata": {},
     "output_type": "execute_result"
    }
   ],
   "source": [
    "new.head()"
   ]
  },
  {
   "cell_type": "code",
   "execution_count": 204,
   "id": "98b26a8a",
   "metadata": {},
   "outputs": [],
   "source": [
    "# Define features and target variable\n",
    "X = new[['size', 'total_sqft','bath']]\n",
    "y = new['Price_Per_Sqft']"
   ]
  },
  {
   "cell_type": "code",
   "execution_count": 240,
   "id": "d4b1958a",
   "metadata": {},
   "outputs": [],
   "source": [
    "X_train, X_test, y_train, y_test = train_test_split(X, y, test_size=0.9, random_state=4)"
   ]
  },
  {
   "cell_type": "code",
   "execution_count": 241,
   "id": "b0a01921",
   "metadata": {},
   "outputs": [
    {
     "data": {
      "text/html": [
       "<style>#sk-container-id-8 {color: black;background-color: white;}#sk-container-id-8 pre{padding: 0;}#sk-container-id-8 div.sk-toggleable {background-color: white;}#sk-container-id-8 label.sk-toggleable__label {cursor: pointer;display: block;width: 100%;margin-bottom: 0;padding: 0.3em;box-sizing: border-box;text-align: center;}#sk-container-id-8 label.sk-toggleable__label-arrow:before {content: \"▸\";float: left;margin-right: 0.25em;color: #696969;}#sk-container-id-8 label.sk-toggleable__label-arrow:hover:before {color: black;}#sk-container-id-8 div.sk-estimator:hover label.sk-toggleable__label-arrow:before {color: black;}#sk-container-id-8 div.sk-toggleable__content {max-height: 0;max-width: 0;overflow: hidden;text-align: left;background-color: #f0f8ff;}#sk-container-id-8 div.sk-toggleable__content pre {margin: 0.2em;color: black;border-radius: 0.25em;background-color: #f0f8ff;}#sk-container-id-8 input.sk-toggleable__control:checked~div.sk-toggleable__content {max-height: 200px;max-width: 100%;overflow: auto;}#sk-container-id-8 input.sk-toggleable__control:checked~label.sk-toggleable__label-arrow:before {content: \"▾\";}#sk-container-id-8 div.sk-estimator input.sk-toggleable__control:checked~label.sk-toggleable__label {background-color: #d4ebff;}#sk-container-id-8 div.sk-label input.sk-toggleable__control:checked~label.sk-toggleable__label {background-color: #d4ebff;}#sk-container-id-8 input.sk-hidden--visually {border: 0;clip: rect(1px 1px 1px 1px);clip: rect(1px, 1px, 1px, 1px);height: 1px;margin: -1px;overflow: hidden;padding: 0;position: absolute;width: 1px;}#sk-container-id-8 div.sk-estimator {font-family: monospace;background-color: #f0f8ff;border: 1px dotted black;border-radius: 0.25em;box-sizing: border-box;margin-bottom: 0.5em;}#sk-container-id-8 div.sk-estimator:hover {background-color: #d4ebff;}#sk-container-id-8 div.sk-parallel-item::after {content: \"\";width: 100%;border-bottom: 1px solid gray;flex-grow: 1;}#sk-container-id-8 div.sk-label:hover label.sk-toggleable__label {background-color: #d4ebff;}#sk-container-id-8 div.sk-serial::before {content: \"\";position: absolute;border-left: 1px solid gray;box-sizing: border-box;top: 0;bottom: 0;left: 50%;z-index: 0;}#sk-container-id-8 div.sk-serial {display: flex;flex-direction: column;align-items: center;background-color: white;padding-right: 0.2em;padding-left: 0.2em;position: relative;}#sk-container-id-8 div.sk-item {position: relative;z-index: 1;}#sk-container-id-8 div.sk-parallel {display: flex;align-items: stretch;justify-content: center;background-color: white;position: relative;}#sk-container-id-8 div.sk-item::before, #sk-container-id-8 div.sk-parallel-item::before {content: \"\";position: absolute;border-left: 1px solid gray;box-sizing: border-box;top: 0;bottom: 0;left: 50%;z-index: -1;}#sk-container-id-8 div.sk-parallel-item {display: flex;flex-direction: column;z-index: 1;position: relative;background-color: white;}#sk-container-id-8 div.sk-parallel-item:first-child::after {align-self: flex-end;width: 50%;}#sk-container-id-8 div.sk-parallel-item:last-child::after {align-self: flex-start;width: 50%;}#sk-container-id-8 div.sk-parallel-item:only-child::after {width: 0;}#sk-container-id-8 div.sk-dashed-wrapped {border: 1px dashed gray;margin: 0 0.4em 0.5em 0.4em;box-sizing: border-box;padding-bottom: 0.4em;background-color: white;}#sk-container-id-8 div.sk-label label {font-family: monospace;font-weight: bold;display: inline-block;line-height: 1.2em;}#sk-container-id-8 div.sk-label-container {text-align: center;}#sk-container-id-8 div.sk-container {/* jupyter's `normalize.less` sets `[hidden] { display: none; }` but bootstrap.min.css set `[hidden] { display: none !important; }` so we also need the `!important` here to be able to override the default hidden behavior on the sphinx rendered scikit-learn.org. See: https://github.com/scikit-learn/scikit-learn/issues/21755 */display: inline-block !important;position: relative;}#sk-container-id-8 div.sk-text-repr-fallback {display: none;}</style><div id=\"sk-container-id-8\" class=\"sk-top-container\"><div class=\"sk-text-repr-fallback\"><pre>LinearRegression()</pre><b>In a Jupyter environment, please rerun this cell to show the HTML representation or trust the notebook. <br />On GitHub, the HTML representation is unable to render, please try loading this page with nbviewer.org.</b></div><div class=\"sk-container\" hidden><div class=\"sk-item\"><div class=\"sk-estimator sk-toggleable\"><input class=\"sk-toggleable__control sk-hidden--visually\" id=\"sk-estimator-id-8\" type=\"checkbox\" checked><label for=\"sk-estimator-id-8\" class=\"sk-toggleable__label sk-toggleable__label-arrow\">LinearRegression</label><div class=\"sk-toggleable__content\"><pre>LinearRegression()</pre></div></div></div></div></div>"
      ],
      "text/plain": [
       "LinearRegression()"
      ]
     },
     "execution_count": 241,
     "metadata": {},
     "output_type": "execute_result"
    }
   ],
   "source": [
    "# Create and train the model\n",
    "model = LinearRegression()\n",
    "model.fit(X_train, y_train)"
   ]
  },
  {
   "cell_type": "code",
   "execution_count": 242,
   "id": "3e1e92a6",
   "metadata": {},
   "outputs": [],
   "source": [
    "# Make predictions\n",
    "y_pred = model.predict(X_test)"
   ]
  },
  {
   "cell_type": "code",
   "execution_count": 243,
   "id": "b97e2af3",
   "metadata": {},
   "outputs": [],
   "source": [
    "# Calculate performance measures\n",
    "mse = mean_squared_error(y_test, y_pred)\n",
    "r2 = r2_score(y_test, y_pred)"
   ]
  },
  {
   "cell_type": "code",
   "execution_count": 244,
   "id": "93de5277",
   "metadata": {},
   "outputs": [
    {
     "name": "stdout",
     "output_type": "stream",
     "text": [
      "Mean Squared Error: 16363.516013814873\n",
      "Accuracy (R-squared): 0.5422870640979103\n"
     ]
    }
   ],
   "source": [
    "print(f'Mean Squared Error: {mse}')\n",
    "print(f'Accuracy (R-squared): {r2}')"
   ]
  },
  {
   "cell_type": "code",
   "execution_count": null,
   "id": "a71f0c34",
   "metadata": {},
   "outputs": [],
   "source": []
  }
 ],
 "metadata": {
  "kernelspec": {
   "display_name": "Python 3 (ipykernel)",
   "language": "python",
   "name": "python3"
  },
  "language_info": {
   "codemirror_mode": {
    "name": "ipython",
    "version": 3
   },
   "file_extension": ".py",
   "mimetype": "text/x-python",
   "name": "python",
   "nbconvert_exporter": "python",
   "pygments_lexer": "ipython3",
   "version": "3.10.7"
  }
 },
 "nbformat": 4,
 "nbformat_minor": 5
}
