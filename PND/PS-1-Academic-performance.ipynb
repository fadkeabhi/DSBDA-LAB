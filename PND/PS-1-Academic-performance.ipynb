{
 "cells": [
  {
   "cell_type": "markdown",
   "id": "4323fd9c-33e4-4827-9a50-4205d4274859",
   "metadata": {},
   "source": [
    "\n",
    "    Problem Statement No. 01 \r\n",
    "Consider the “Academic performance” dataset of students (Academic_Performance_Dataset.csv) and perform the \r\n",
    "following operations using Python. \r\n",
    "a) Scan all variables for missing values and inconsistencies. If there are missing values and/or inconsistencies, use any \r\n",
    "of the suitable techniques to deal with them. \r\n",
    "b) Scan all numeric variables for outliers. If there are outliers, use any of the suitable techniques to deal with them. \r\n",
    "c) Apply data transformations on categorical variables to convert it into numerical variables. \r\n",
    "Reason and document your approach prop \n",
    "</h4>"
   ]
  },
  {
   "cell_type": "code",
   "execution_count": 1,
   "id": "2480fb81-4d2a-48cf-a43e-991a22d9fa73",
   "metadata": {},
   "outputs": [],
   "source": [
    "import pandas as pd\n",
    "import numpy as np\n",
    "import warnings\n",
    "import seaborn as sns"
   ]
  },
  {
   "cell_type": "code",
   "execution_count": 2,
   "id": "020880a3-3e46-4b13-be57-bbe1e4eb8939",
   "metadata": {},
   "outputs": [
    {
     "data": {
      "text/html": [
       "<div>\n",
       "<style scoped>\n",
       "    .dataframe tbody tr th:only-of-type {\n",
       "        vertical-align: middle;\n",
       "    }\n",
       "\n",
       "    .dataframe tbody tr th {\n",
       "        vertical-align: top;\n",
       "    }\n",
       "\n",
       "    .dataframe thead th {\n",
       "        text-align: right;\n",
       "    }\n",
       "</style>\n",
       "<table border=\"1\" class=\"dataframe\">\n",
       "  <thead>\n",
       "    <tr style=\"text-align: right;\">\n",
       "      <th></th>\n",
       "      <th>STUDENT_ID</th>\n",
       "      <th>GENDER</th>\n",
       "      <th>PLACEMENT</th>\n",
       "      <th>HONOR_OPTED_OR_NOT</th>\n",
       "      <th>EDUCATION_TYPE</th>\n",
       "      <th>ACADEMIC_PROGRAM</th>\n",
       "      <th>COURSE 1 MARKS</th>\n",
       "      <th>COURSE 2 MARKS</th>\n",
       "      <th>COURSE 3 MARKS</th>\n",
       "      <th>COURSE 4 MARKS</th>\n",
       "      <th>COURSE 5 MARKS</th>\n",
       "      <th>PERCENTILE</th>\n",
       "      <th>OVEARLL_GRADE</th>\n",
       "    </tr>\n",
       "  </thead>\n",
       "  <tbody>\n",
       "    <tr>\n",
       "      <th>8219</th>\n",
       "      <td>SB11201320239712</td>\n",
       "      <td>M</td>\n",
       "      <td>Yes</td>\n",
       "      <td>No</td>\n",
       "      <td>TECHNICAL/ACADEMIC</td>\n",
       "      <td>INDUSTRIAL ENGINEERING</td>\n",
       "      <td>59.0</td>\n",
       "      <td>33.0</td>\n",
       "      <td>3.0</td>\n",
       "      <td>61.0</td>\n",
       "      <td>59.0</td>\n",
       "      <td>33</td>\n",
       "      <td>DISTINCTION</td>\n",
       "    </tr>\n",
       "    <tr>\n",
       "      <th>8605</th>\n",
       "      <td>SB11201320266761</td>\n",
       "      <td>F</td>\n",
       "      <td>Yes</td>\n",
       "      <td>Yes</td>\n",
       "      <td>TECHNICAL/ACADEMIC</td>\n",
       "      <td>INDUSTRIAL ENGINEERING</td>\n",
       "      <td>30.0</td>\n",
       "      <td>12.0</td>\n",
       "      <td>37.0</td>\n",
       "      <td>15.0</td>\n",
       "      <td>4.0</td>\n",
       "      <td>11</td>\n",
       "      <td>FIRST CLASS</td>\n",
       "    </tr>\n",
       "    <tr>\n",
       "      <th>5791</th>\n",
       "      <td>SB11201320066634</td>\n",
       "      <td>F</td>\n",
       "      <td>Yes</td>\n",
       "      <td>Yes</td>\n",
       "      <td>TECHNICAL/ACADEMIC</td>\n",
       "      <td>INDUSTRIAL ENGINEERING</td>\n",
       "      <td>94.0</td>\n",
       "      <td>90.0</td>\n",
       "      <td>65.0</td>\n",
       "      <td>51.0</td>\n",
       "      <td>42.0</td>\n",
       "      <td>78</td>\n",
       "      <td>DISTINCTION</td>\n",
       "    </tr>\n",
       "    <tr>\n",
       "      <th>5283</th>\n",
       "      <td>SB11201320033775</td>\n",
       "      <td>M</td>\n",
       "      <td>Yes</td>\n",
       "      <td>Yes</td>\n",
       "      <td>ACADEMIC</td>\n",
       "      <td>CIVIL ENGINEERING</td>\n",
       "      <td>93.0</td>\n",
       "      <td>74.0</td>\n",
       "      <td>27.0</td>\n",
       "      <td>27.0</td>\n",
       "      <td>64.0</td>\n",
       "      <td>63</td>\n",
       "      <td>FIRST CLASS</td>\n",
       "    </tr>\n",
       "    <tr>\n",
       "      <th>5373</th>\n",
       "      <td>SB11201320038639</td>\n",
       "      <td>M</td>\n",
       "      <td>No</td>\n",
       "      <td>No</td>\n",
       "      <td>ACADEMIC</td>\n",
       "      <td>ELECTRONIC ENGINEERING</td>\n",
       "      <td>99.0</td>\n",
       "      <td>80.0</td>\n",
       "      <td>25.0</td>\n",
       "      <td>92.0</td>\n",
       "      <td>58.0</td>\n",
       "      <td>85</td>\n",
       "      <td>DISTINCTION</td>\n",
       "    </tr>\n",
       "  </tbody>\n",
       "</table>\n",
       "</div>"
      ],
      "text/plain": [
       "            STUDENT_ID GENDER PLACEMENT HONOR_OPTED_OR_NOT  \\\n",
       "8219  SB11201320239712      M       Yes                 No   \n",
       "8605  SB11201320266761      F       Yes                Yes   \n",
       "5791  SB11201320066634      F       Yes                Yes   \n",
       "5283  SB11201320033775      M       Yes                Yes   \n",
       "5373  SB11201320038639      M        No                 No   \n",
       "\n",
       "          EDUCATION_TYPE        ACADEMIC_PROGRAM  COURSE 1 MARKS  \\\n",
       "8219  TECHNICAL/ACADEMIC  INDUSTRIAL ENGINEERING            59.0   \n",
       "8605  TECHNICAL/ACADEMIC  INDUSTRIAL ENGINEERING            30.0   \n",
       "5791  TECHNICAL/ACADEMIC  INDUSTRIAL ENGINEERING            94.0   \n",
       "5283            ACADEMIC       CIVIL ENGINEERING            93.0   \n",
       "5373            ACADEMIC  ELECTRONIC ENGINEERING            99.0   \n",
       "\n",
       "      COURSE 2 MARKS  COURSE 3 MARKS  COURSE 4 MARKS  COURSE 5 MARKS  \\\n",
       "8219            33.0             3.0            61.0            59.0   \n",
       "8605            12.0            37.0            15.0             4.0   \n",
       "5791            90.0            65.0            51.0            42.0   \n",
       "5283            74.0            27.0            27.0            64.0   \n",
       "5373            80.0            25.0            92.0            58.0   \n",
       "\n",
       "      PERCENTILE OVEARLL_GRADE  \n",
       "8219          33   DISTINCTION  \n",
       "8605          11   FIRST CLASS  \n",
       "5791          78   DISTINCTION  \n",
       "5283          63   FIRST CLASS  \n",
       "5373          85   DISTINCTION  "
      ]
     },
     "execution_count": 2,
     "metadata": {},
     "output_type": "execute_result"
    }
   ],
   "source": [
    "df = pd.read_csv('Academic_Performance.csv')\n",
    "df.sample(5)"
   ]
  },
  {
   "cell_type": "code",
   "execution_count": 3,
   "id": "062f9878-d4d5-45c7-ac64-77aab425cab4",
   "metadata": {},
   "outputs": [
    {
     "data": {
      "text/plain": [
       "(12411, 13)"
      ]
     },
     "execution_count": 3,
     "metadata": {},
     "output_type": "execute_result"
    }
   ],
   "source": [
    "df.shape"
   ]
  },
  {
   "cell_type": "code",
   "execution_count": 4,
   "id": "97e22771-677a-42d8-94d7-c6a5c95a5922",
   "metadata": {},
   "outputs": [
    {
     "name": "stdout",
     "output_type": "stream",
     "text": [
      "<class 'pandas.core.frame.DataFrame'>\n",
      "RangeIndex: 12411 entries, 0 to 12410\n",
      "Data columns (total 13 columns):\n",
      " #   Column              Non-Null Count  Dtype  \n",
      "---  ------              --------------  -----  \n",
      " 0   STUDENT_ID          12411 non-null  object \n",
      " 1   GENDER              12389 non-null  object \n",
      " 2   PLACEMENT           12396 non-null  object \n",
      " 3   HONOR_OPTED_OR_NOT  12397 non-null  object \n",
      " 4   EDUCATION_TYPE      12396 non-null  object \n",
      " 5   ACADEMIC_PROGRAM    12377 non-null  object \n",
      " 6   COURSE 1 MARKS      12400 non-null  float64\n",
      " 7   COURSE 2 MARKS      12403 non-null  float64\n",
      " 8   COURSE 3 MARKS      12397 non-null  float64\n",
      " 9   COURSE 4 MARKS      12397 non-null  float64\n",
      " 10  COURSE 5 MARKS      12389 non-null  float64\n",
      " 11  PERCENTILE          12411 non-null  int64  \n",
      " 12  OVEARLL_GRADE       12411 non-null  object \n",
      "dtypes: float64(5), int64(1), object(7)\n",
      "memory usage: 1.2+ MB\n"
     ]
    }
   ],
   "source": [
    "df.info()"
   ]
  },
  {
   "cell_type": "code",
   "execution_count": 5,
   "id": "512c77e3-64a3-4c9b-b500-794cd636ed9e",
   "metadata": {},
   "outputs": [
    {
     "data": {
      "text/plain": [
       "STUDENT_ID             0\n",
       "GENDER                22\n",
       "PLACEMENT             15\n",
       "HONOR_OPTED_OR_NOT    14\n",
       "EDUCATION_TYPE        15\n",
       "ACADEMIC_PROGRAM      34\n",
       "COURSE 1 MARKS        11\n",
       "COURSE 2 MARKS         8\n",
       "COURSE 3 MARKS        14\n",
       "COURSE 4 MARKS        14\n",
       "COURSE 5 MARKS        22\n",
       "PERCENTILE             0\n",
       "OVEARLL_GRADE          0\n",
       "dtype: int64"
      ]
     },
     "execution_count": 5,
     "metadata": {},
     "output_type": "execute_result"
    }
   ],
   "source": [
    "df.isnull().sum()"
   ]
  },
  {
   "cell_type": "code",
   "execution_count": 6,
   "id": "eea7c877-6aee-4d40-a2db-db6d68d78f2d",
   "metadata": {},
   "outputs": [],
   "source": [
    "df.dropna(inplace=True)"
   ]
  },
  {
   "cell_type": "code",
   "execution_count": 7,
   "id": "cfc3316a-1452-4bea-be8e-b809b6ff66f9",
   "metadata": {},
   "outputs": [
    {
     "data": {
      "text/plain": [
       "STUDENT_ID            0\n",
       "GENDER                0\n",
       "PLACEMENT             0\n",
       "HONOR_OPTED_OR_NOT    0\n",
       "EDUCATION_TYPE        0\n",
       "ACADEMIC_PROGRAM      0\n",
       "COURSE 1 MARKS        0\n",
       "COURSE 2 MARKS        0\n",
       "COURSE 3 MARKS        0\n",
       "COURSE 4 MARKS        0\n",
       "COURSE 5 MARKS        0\n",
       "PERCENTILE            0\n",
       "OVEARLL_GRADE         0\n",
       "dtype: int64"
      ]
     },
     "execution_count": 7,
     "metadata": {},
     "output_type": "execute_result"
    }
   ],
   "source": [
    "df.isnull().sum()"
   ]
  },
  {
   "cell_type": "code",
   "execution_count": 8,
   "id": "f615e6e2-a03c-4c1f-98ba-32bfe8d9b8e1",
   "metadata": {},
   "outputs": [
    {
     "data": {
      "text/plain": [
       "0        71.0\n",
       "1        97.0\n",
       "2        17.0\n",
       "3        65.0\n",
       "4        94.0\n",
       "         ... \n",
       "12405    80.0\n",
       "12406    88.0\n",
       "12407    46.0\n",
       "12408    98.0\n",
       "12410    83.0\n",
       "Name: COURSE 1 MARKS, Length: 12268, dtype: float64"
      ]
     },
     "execution_count": 8,
     "metadata": {},
     "output_type": "execute_result"
    }
   ],
   "source": [
    "df['COURSE 1 MARKS']"
   ]
  },
  {
   "cell_type": "code",
   "execution_count": 9,
   "id": "cd743c78-e016-41c2-b10c-cc0c86eb02b5",
   "metadata": {},
   "outputs": [
    {
     "data": {
      "text/plain": [
       "<AxesSubplot:xlabel='COURSE 1 MARKS'>"
      ]
     },
     "execution_count": 9,
     "metadata": {},
     "output_type": "execute_result"
    },
    {
     "data": {
      "image/png": "[encoded data removed]",
      "text/plain": [
       "<Figure size 640x480 with 1 Axes>"
      ]
     },
     "metadata": {},
     "output_type": "display_data"
    }
   ],
   "source": [
    "sns.boxplot(x=df['COURSE 1 MARKS'])"
   ]
  },
  {
   "cell_type": "code",
   "execution_count": 18,
   "id": "ed2b4fe3-5c89-4441-8c93-603652652dcb",
   "metadata": {},
   "outputs": [
    {
     "data": {
      "text/plain": [
       "count    12268.000000\n",
       "mean        77.389224\n",
       "std         22.714260\n",
       "min         -1.000000\n",
       "25%         65.000000\n",
       "50%         85.000000\n",
       "75%         96.000000\n",
       "max        100.000000\n",
       "Name: COURSE 1 MARKS, dtype: float64"
      ]
     },
     "execution_count": 18,
     "metadata": {},
     "output_type": "execute_result"
    }
   ],
   "source": [
    "df['COURSE 1 MARKS'].describe()"
   ]
  },
  {
   "cell_type": "code",
   "execution_count": 19,
   "id": "ea97f4ab-4065-45c4-bde9-75d149edf1a6",
   "metadata": {},
   "outputs": [
    {
     "data": {
      "text/plain": [
       "<AxesSubplot:xlabel='COURSE 2 MARKS'>"
      ]
     },
     "execution_count": 19,
     "metadata": {},
     "output_type": "execute_result"
    },
    {
     "data": {
      "image/png": "[encoded data removed]",
      "text/plain": [
       "<Figure size 640x480 with 1 Axes>"
      ]
     },
     "metadata": {},
     "output_type": "display_data"
    }
   ],
   "source": [
    "sns.boxplot(x=df['COURSE 2 MARKS'])"
   ]
  },
  {
   "cell_type": "code",
   "execution_count": 20,
   "id": "a7a0d9af-8b84-47ea-baae-1b34a007a946",
   "metadata": {},
   "outputs": [
    {
     "data": {
      "text/plain": [
       "<AxesSubplot:xlabel='COURSE 3 MARKS'>"
      ]
     },
     "execution_count": 20,
     "metadata": {},
     "output_type": "execute_result"
    },
    {
     "data": {
      "image/png": "[encoded data removed]",
      "text/plain": [
       "<Figure size 640x480 with 1 Axes>"
      ]
     },
     "metadata": {},
     "output_type": "display_data"
    }
   ],
   "source": [
    "sns.boxplot(x=df['COURSE 3 MARKS'])"
   ]
  },
  {
   "cell_type": "code",
   "execution_count": 12,
   "id": "89b4417b-5cb0-4c39-8fd2-7d1ba764e9dc",
   "metadata": {},
   "outputs": [
    {
     "data": {
      "text/plain": [
       "<AxesSubplot:xlabel='COURSE 4 MARKS'>"
      ]
     },
     "execution_count": 12,
     "metadata": {},
     "output_type": "execute_result"
    },
    {
     "data": {
      "image/png": "[encoded data removed]",
      "text/plain": [
       "<Figure size 640x480 with 1 Axes>"
      ]
     },
     "metadata": {},
     "output_type": "display_data"
    }
   ],
   "source": [
    "sns.boxplot(x=df['COURSE 4 MARKS'])"
   ]
  },
  {
   "cell_type": "code",
   "execution_count": 13,
   "id": "ffc78408-20ab-43a0-a2dc-d2ce8349d0fa",
   "metadata": {},
   "outputs": [
    {
     "data": {
      "text/plain": [
       "<AxesSubplot:xlabel='COURSE 5 MARKS'>"
      ]
     },
     "execution_count": 13,
     "metadata": {},
     "output_type": "execute_result"
    },
    {
     "data": {
      "image/png": "[encoded data removed]",
      "text/plain": [
       "<Figure size 640x480 with 1 Axes>"
      ]
     },
     "metadata": {},
     "output_type": "display_data"
    }
   ],
   "source": [
    "sns.boxplot(x=df['COURSE 5 MARKS'])"
   ]
  },
  {
   "cell_type": "code",
   "execution_count": 17,
   "id": "71af9e82-871f-4e6e-bcec-86f28c1aff36",
   "metadata": {},
   "outputs": [
    {
     "data": {
      "text/plain": [
       "<AxesSubplot:>"
      ]
     },
     "execution_count": 17,
     "metadata": {},
     "output_type": "execute_result"
    },
    {
     "data": {
      "image/png": "[encoded data removed]",
      "text/plain": [
       "<Figure size 640x480 with 1 Axes>"
      ]
     },
     "metadata": {},
     "output_type": "display_data"
    }
   ],
   "source": [
    "sns.boxplot(df[['COURSE 1 MARKS','COURSE 2 MARKS','COURSE 3 MARKS','COURSE 4 MARKS','COURSE 5 MARKS']])"
   ]
  },
  {
   "cell_type": "code",
   "execution_count": 23,
   "id": "b5180bda-ad99-4128-a4e8-a1e3555cd8f5",
   "metadata": {},
   "outputs": [],
   "source": [
    "def remove_outliars(data):\n",
    "    Q1 = data.quantile(0.25)\n",
    "    Q3 = data.quantile(0.75)\n",
    "    IQR = Q3-Q1\n",
    "    upper = Q3 + 1.5*IQR\n",
    "    lower = Q1 - 1.5*IQR\n",
    "    return data[(data >= lower) & (data <= upper)]"
   ]
  },
  {
   "cell_type": "code",
   "execution_count": 29,
   "id": "da409528-b438-402e-8757-66686da887fe",
   "metadata": {},
   "outputs": [],
   "source": [
    "df['COURSE 1 MARKS'] = remove_outliars(df['COURSE 1 MARKS'])"
   ]
  },
  {
   "cell_type": "code",
   "execution_count": 31,
   "id": "7865b44d-e352-493b-bc80-51f1d0329cf5",
   "metadata": {},
   "outputs": [
    {
     "data": {
      "text/plain": [
       "count    11976.000000\n",
       "mean        79.009603\n",
       "std         20.433903\n",
       "min         19.000000\n",
       "25%         67.000000\n",
       "50%         86.000000\n",
       "75%         96.000000\n",
       "max        100.000000\n",
       "Name: COURSE 1 MARKS, dtype: float64"
      ]
     },
     "execution_count": 31,
     "metadata": {},
     "output_type": "execute_result"
    }
   ],
   "source": [
    "df['COURSE 1 MARKS'].describe()"
   ]
  },
  {
   "cell_type": "code",
   "execution_count": 33,
   "id": "d2dba8bc-0026-4b03-b165-08adefe3a95f",
   "metadata": {},
   "outputs": [
    {
     "data": {
      "text/plain": [
       "<AxesSubplot:xlabel='COURSE 1 MARKS'>"
      ]
     },
     "execution_count": 33,
     "metadata": {},
     "output_type": "execute_result"
    },
    {
     "data": {
      "image/png": "[encoded data removed]",
      "text/plain": [
       "<Figure size 640x480 with 1 Axes>"
      ]
     },
     "metadata": {},
     "output_type": "display_data"
    }
   ],
   "source": [
    "sns.boxplot(x=df['COURSE 1 MARKS'])"
   ]
  },
  {
   "cell_type": "code",
   "execution_count": 34,
   "id": "23ddbad4-29f3-4746-86eb-b698931358bf",
   "metadata": {},
   "outputs": [],
   "source": [
    "df['COURSE 1 MARKS'] = remove_outliars(df['COURSE 1 MARKS'])"
   ]
  },
  {
   "cell_type": "code",
   "execution_count": 35,
   "id": "8f072b7c-7bb1-456b-8f8d-88f2ee1cb072",
   "metadata": {},
   "outputs": [
    {
     "data": {
      "text/plain": [
       "<AxesSubplot:xlabel='COURSE 1 MARKS'>"
      ]
     },
     "execution_count": 35,
     "metadata": {},
     "output_type": "execute_result"
    },
    {
     "data": {
      "image/png": "[encoded data removed]",
      "text/plain": [
       "<Figure size 640x480 with 1 Axes>"
      ]
     },
     "metadata": {},
     "output_type": "display_data"
    }
   ],
   "source": [
    "sns.boxplot(x = df['COURSE 1 MARKS'])"
   ]
  },
  {
   "cell_type": "code",
   "execution_count": 36,
   "id": "1db6b9a8-d316-435d-8cdd-5dcd6fe328e5",
   "metadata": {},
   "outputs": [],
   "source": [
    "df['COURSE 1 MARKS'] = remove_outliars(df['COURSE 1 MARKS'])"
   ]
  },
  {
   "cell_type": "code",
   "execution_count": 37,
   "id": "77a897c3-01f4-48fa-a5f8-6c3e9408579a",
   "metadata": {},
   "outputs": [
    {
     "data": {
      "text/plain": [
       "<AxesSubplot:xlabel='COURSE 1 MARKS'>"
      ]
     },
     "execution_count": 37,
     "metadata": {},
     "output_type": "execute_result"
    },
    {
     "data": {
      "image/png": "[encoded data removed]",
      "text/plain": [
       "<Figure size 640x480 with 1 Axes>"
      ]
     },
     "metadata": {},
     "output_type": "display_data"
    }
   ],
   "source": [
    "sns.boxplot(x = df['COURSE 1 MARKS'])"
   ]
  },
  {
   "cell_type": "code",
   "execution_count": 38,
   "id": "dc0148d4-a610-482b-8655-1131e5c0da0b",
   "metadata": {},
   "outputs": [
    {
     "data": {
      "text/plain": [
       "<AxesSubplot:>"
      ]
     },
     "execution_count": 38,
     "metadata": {},
     "output_type": "execute_result"
    },
    {
     "data": {
      "image/png": "[encoded data removed]",
      "text/plain": [
       "<Figure size 640x480 with 1 Axes>"
      ]
     },
     "metadata": {},
     "output_type": "display_data"
    }
   ],
   "source": [
    "sns.boxplot(df[['COURSE 1 MARKS','COURSE 2 MARKS','COURSE 3 MARKS','COURSE 4 MARKS','COURSE 5 MARKS']])"
   ]
  },
  {
   "cell_type": "code",
   "execution_count": 39,
   "id": "8d3399be-fd09-404f-8c47-219ed8966a2d",
   "metadata": {},
   "outputs": [
    {
     "name": "stdout",
     "output_type": "stream",
     "text": [
      "<class 'pandas.core.frame.DataFrame'>\n",
      "Index: 12268 entries, 0 to 12410\n",
      "Data columns (total 13 columns):\n",
      " #   Column              Non-Null Count  Dtype  \n",
      "---  ------              --------------  -----  \n",
      " 0   STUDENT_ID          12268 non-null  object \n",
      " 1   GENDER              12268 non-null  object \n",
      " 2   PLACEMENT           12268 non-null  object \n",
      " 3   HONOR_OPTED_OR_NOT  12268 non-null  object \n",
      " 4   EDUCATION_TYPE      12268 non-null  object \n",
      " 5   ACADEMIC_PROGRAM    12268 non-null  object \n",
      " 6   COURSE 1 MARKS      11776 non-null  float64\n",
      " 7   COURSE 2 MARKS      12268 non-null  float64\n",
      " 8   COURSE 3 MARKS      12268 non-null  float64\n",
      " 9   COURSE 4 MARKS      12268 non-null  float64\n",
      " 10  COURSE 5 MARKS      12268 non-null  float64\n",
      " 11  PERCENTILE          12268 non-null  int64  \n",
      " 12  OVEARLL_GRADE       12268 non-null  object \n",
      "dtypes: float64(5), int64(1), object(7)\n",
      "memory usage: 1.3+ MB\n"
     ]
    }
   ],
   "source": [
    "df.info()"
   ]
  },
  {
   "cell_type": "code",
   "execution_count": 40,
   "id": "e0891282-2d80-4817-8334-2b629e47ffce",
   "metadata": {},
   "outputs": [],
   "source": [
    "df = pd.get_dummies(df , columns=['GENDER','PLACEMENT','HONOR_OPTED_OR_NOT','EDUCATION_TYPE','ACADEMIC_PROGRAM','OVEARLL_GRADE'])"
   ]
  },
  {
   "cell_type": "code",
   "execution_count": 41,
   "id": "e0d7ef2a-591f-48c8-8446-712bc86f1a94",
   "metadata": {},
   "outputs": [
    {
     "name": "stdout",
     "output_type": "stream",
     "text": [
      "<class 'pandas.core.frame.DataFrame'>\n",
      "Index: 12268 entries, 0 to 12410\n",
      "Data columns (total 42 columns):\n",
      " #   Column                                                          Non-Null Count  Dtype  \n",
      "---  ------                                                          --------------  -----  \n",
      " 0   STUDENT_ID                                                      12268 non-null  object \n",
      " 1   COURSE 1 MARKS                                                  11776 non-null  float64\n",
      " 2   COURSE 2 MARKS                                                  12268 non-null  float64\n",
      " 3   COURSE 3 MARKS                                                  12268 non-null  float64\n",
      " 4   COURSE 4 MARKS                                                  12268 non-null  float64\n",
      " 5   COURSE 5 MARKS                                                  12268 non-null  float64\n",
      " 6   PERCENTILE                                                      12268 non-null  int64  \n",
      " 7   GENDER_F                                                        12268 non-null  bool   \n",
      " 8   GENDER_M                                                        12268 non-null  bool   \n",
      " 9   PLACEMENT_No                                                    12268 non-null  bool   \n",
      " 10  PLACEMENT_Yes                                                   12268 non-null  bool   \n",
      " 11  HONOR_OPTED_OR_NOT_No                                           12268 non-null  bool   \n",
      " 12  HONOR_OPTED_OR_NOT_Yes                                          12268 non-null  bool   \n",
      " 13  EDUCATION_TYPE_ACADEMIC                                         12268 non-null  bool   \n",
      " 14  EDUCATION_TYPE_Not apply                                        12268 non-null  bool   \n",
      " 15  EDUCATION_TYPE_TECHNICAL                                        12268 non-null  bool   \n",
      " 16  EDUCATION_TYPE_TECHNICAL/ACADEMIC                               12268 non-null  bool   \n",
      " 17  ACADEMIC_PROGRAM_AERONAUTICAL ENGINEERING                       12268 non-null  bool   \n",
      " 18  ACADEMIC_PROGRAM_AUTOMATION ENGINEERING                         12268 non-null  bool   \n",
      " 19  ACADEMIC_PROGRAM_CATASTRAL ENGINEERING AND GEODESY              12268 non-null  bool   \n",
      " 20  ACADEMIC_PROGRAM_CHEMICAL ENGINEERING                           12268 non-null  bool   \n",
      " 21  ACADEMIC_PROGRAM_CIVIL CONSTRUCTIONS                            12268 non-null  bool   \n",
      " 22  ACADEMIC_PROGRAM_CIVIL ENGINEERING                              12268 non-null  bool   \n",
      " 23  ACADEMIC_PROGRAM_CONTROL ENGINEERING                            12268 non-null  bool   \n",
      " 24  ACADEMIC_PROGRAM_ELECTRIC ENGINEERING                           12268 non-null  bool   \n",
      " 25  ACADEMIC_PROGRAM_ELECTRIC ENGINEERING AND TELECOMMUNICATIONS    12268 non-null  bool   \n",
      " 26  ACADEMIC_PROGRAM_ELECTROMECHANICAL ENGINEERING                  12268 non-null  bool   \n",
      " 27  ACADEMIC_PROGRAM_ELECTRONIC ENGINEERING                         12268 non-null  bool   \n",
      " 28  ACADEMIC_PROGRAM_INDUSTRIAL AUTOMATIC ENGINEERING               12268 non-null  bool   \n",
      " 29  ACADEMIC_PROGRAM_INDUSTRIAL CONTROL AND AUTOMATION ENGINEERING  12268 non-null  bool   \n",
      " 30  ACADEMIC_PROGRAM_INDUSTRIAL ENGINEERING                         12268 non-null  bool   \n",
      " 31  ACADEMIC_PROGRAM_MECHANICAL ENGINEERING                         12268 non-null  bool   \n",
      " 32  ACADEMIC_PROGRAM_MECHATRONICS ENGINEERING                       12268 non-null  bool   \n",
      " 33  ACADEMIC_PROGRAM_PRODUCTION ENGINEERING                         12268 non-null  bool   \n",
      " 34  ACADEMIC_PROGRAM_PRODUCTIVITY AND QUALITY ENGINEERING           12268 non-null  bool   \n",
      " 35  ACADEMIC_PROGRAM_TEXTILE ENGINEERING                            12268 non-null  bool   \n",
      " 36  ACADEMIC_PROGRAM_TOPOGRAPHIC ENGINEERY                          12268 non-null  bool   \n",
      " 37  ACADEMIC_PROGRAM_TRANSPORTATION AND ROAD ENGINEERING            12268 non-null  bool   \n",
      " 38  OVEARLL_GRADE_DISTINCTION                                       12268 non-null  bool   \n",
      " 39  OVEARLL_GRADE_FIRST CLASS                                       12268 non-null  bool   \n",
      " 40  OVEARLL_GRADE_SECOND CLASS                                      12268 non-null  bool   \n",
      " 41  OVEARLL_GRADE_THIRD CLASS                                       12268 non-null  bool   \n",
      "dtypes: bool(35), float64(5), int64(1), object(1)\n",
      "memory usage: 1.2+ MB\n"
     ]
    }
   ],
   "source": [
    "df.info()"
   ]
  },
  {
   "cell_type": "code",
   "execution_count": null,
   "id": "5a9926d4-8614-49a6-a018-732019205178",
   "metadata": {},
   "outputs": [],
   "source": []
  }
 ],
 "metadata": {
  "kernelspec": {
   "display_name": "Python 3 (ipykernel)",
   "language": "python",
   "name": "python3"
  },
  "language_info": {
   "codemirror_mode": {
    "name": "ipython",
    "version": 3
   },
   "file_extension": ".py",
   "mimetype": "text/x-python",
   "name": "python",
   "nbconvert_exporter": "python",
   "pygments_lexer": "ipython3",
   "version": "3.10.1"
  }
 },
 "nbformat": 4,
 "nbformat_minor": 5
}
