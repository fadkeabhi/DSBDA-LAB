{
 "cells": [
  {
   "cell_type": "code",
   "execution_count": null,
   "id": "9cde5230-d0c2-49b6-a035-d2c32a4ed088",
   "metadata": {},
   "outputs": [],
   "source": [
    "\"\"\"\n",
    "Problem Statement No. 16 \n",
    "Consider the Amazon Alexa Reviews Dataset. This dataset consists of a nearly 3000 Amazon customer reviews (input \n",
    "text), star ratings, date of review, variant and feedback of various amazon Alexa products like Alexa Echo, Echo dots, \n",
    "Alexa Firesticks etc. Perform following operations on this dataset. \n",
    "(I) Remove all punctuations from review text. \n",
    "(II) Tokenize the review text into words. \n",
    "(III) Remove the Stopwords from the tokenized text. \n",
    "(IV) Perform stemming & lemmatization on the review text. \n",
    "(V) Perform the word vectorization on review text using Bag of Words technique. \n",
    "(VI) Create representation of Review Text by calculating Term Frequency and Inverse Document Frequency (TF-IDF)\n",
    "\"\"\""
   ]
  },
  {
   "cell_type": "code",
   "execution_count": 63,
   "id": "1fe7bf82-fc8f-4443-820f-f0a7389aa542",
   "metadata": {},
   "outputs": [],
   "source": [
    "import pandas as pd"
   ]
  },
  {
   "cell_type": "code",
   "execution_count": 64,
   "id": "e55dbe77-7cb6-4fa3-ac1b-a0509de604d0",
   "metadata": {},
   "outputs": [],
   "source": [
    "df = pd.read_csv('Alexa-Dataset.csv')"
   ]
  },
  {
   "cell_type": "code",
   "execution_count": 65,
   "id": "489e76ab-317f-4f5f-a4b8-73a32ee4878e",
   "metadata": {},
   "outputs": [
    {
     "data": {
      "text/html": [
       "<div>\n",
       "<style scoped>\n",
       "    .dataframe tbody tr th:only-of-type {\n",
       "        vertical-align: middle;\n",
       "    }\n",
       "\n",
       "    .dataframe tbody tr th {\n",
       "        vertical-align: top;\n",
       "    }\n",
       "\n",
       "    .dataframe thead th {\n",
       "        text-align: right;\n",
       "    }\n",
       "</style>\n",
       "<table border=\"1\" class=\"dataframe\">\n",
       "  <thead>\n",
       "    <tr style=\"text-align: right;\">\n",
       "      <th></th>\n",
       "      <th>rating</th>\n",
       "      <th>date</th>\n",
       "      <th>variation</th>\n",
       "      <th>verified_reviews</th>\n",
       "      <th>feedback</th>\n",
       "    </tr>\n",
       "  </thead>\n",
       "  <tbody>\n",
       "    <tr>\n",
       "      <th>684</th>\n",
       "      <td>5</td>\n",
       "      <td>19-May-18</td>\n",
       "      <td>Black</td>\n",
       "      <td>I bought this for a family member as a gift. I...</td>\n",
       "      <td>1</td>\n",
       "    </tr>\n",
       "    <tr>\n",
       "      <th>136</th>\n",
       "      <td>5</td>\n",
       "      <td>30-Jul-18</td>\n",
       "      <td>Charcoal Fabric</td>\n",
       "      <td>Still love it</td>\n",
       "      <td>1</td>\n",
       "    </tr>\n",
       "    <tr>\n",
       "      <th>2492</th>\n",
       "      <td>3</td>\n",
       "      <td>30-Jul-18</td>\n",
       "      <td>Black  Dot</td>\n",
       "      <td>It won’t work as a blue tooth speaker with my ...</td>\n",
       "      <td>1</td>\n",
       "    </tr>\n",
       "    <tr>\n",
       "      <th>1736</th>\n",
       "      <td>5</td>\n",
       "      <td>28-Jul-18</td>\n",
       "      <td>White  Show</td>\n",
       "      <td>Device has great speakers and the screen quali...</td>\n",
       "      <td>1</td>\n",
       "    </tr>\n",
       "    <tr>\n",
       "      <th>2954</th>\n",
       "      <td>5</td>\n",
       "      <td>30-Jul-18</td>\n",
       "      <td>White  Dot</td>\n",
       "      <td>I really like the echo dot. It’s amazing to be...</td>\n",
       "      <td>1</td>\n",
       "    </tr>\n",
       "  </tbody>\n",
       "</table>\n",
       "</div>"
      ],
      "text/plain": [
       "      rating       date         variation  \\\n",
       "684        5  19-May-18             Black   \n",
       "136        5  30-Jul-18  Charcoal Fabric    \n",
       "2492       3  30-Jul-18        Black  Dot   \n",
       "1736       5  28-Jul-18       White  Show   \n",
       "2954       5  30-Jul-18        White  Dot   \n",
       "\n",
       "                                       verified_reviews  feedback  \n",
       "684   I bought this for a family member as a gift. I...         1  \n",
       "136                                       Still love it         1  \n",
       "2492  It won’t work as a blue tooth speaker with my ...         1  \n",
       "1736  Device has great speakers and the screen quali...         1  \n",
       "2954  I really like the echo dot. It’s amazing to be...         1  "
      ]
     },
     "execution_count": 65,
     "metadata": {},
     "output_type": "execute_result"
    }
   ],
   "source": [
    "df.sample(5)"
   ]
  },
  {
   "cell_type": "code",
   "execution_count": 66,
   "id": "ea51d874-8970-4aa2-8186-8be31cd1e337",
   "metadata": {},
   "outputs": [
    {
     "data": {
      "text/plain": [
       "'Sometimes while playing a game, you can answer a question correctly but Alexa says you got it wrong and answers the same as you.  I like being able to turn lights on and off while away from home.'"
      ]
     },
     "execution_count": 66,
     "metadata": {},
     "output_type": "execute_result"
    }
   ],
   "source": [
    "df['verified_reviews'][2]"
   ]
  },
  {
   "cell_type": "code",
   "execution_count": 67,
   "id": "2bad25bb-86af-45d8-a286-c811c86c75f7",
   "metadata": {},
   "outputs": [],
   "source": [
    "df['verified_reviews'] = df['verified_reviews'].str.lower()"
   ]
  },
  {
   "cell_type": "code",
   "execution_count": 68,
   "id": "7dd10b1e-70e5-4ab3-90af-528356c89ad4",
   "metadata": {},
   "outputs": [
    {
     "data": {
      "text/plain": [
       "'sometimes while playing a game, you can answer a question correctly but alexa says you got it wrong and answers the same as you.  i like being able to turn lights on and off while away from home.'"
      ]
     },
     "execution_count": 68,
     "metadata": {},
     "output_type": "execute_result"
    }
   ],
   "source": [
    "df['verified_reviews'][2]"
   ]
  },
  {
   "cell_type": "code",
   "execution_count": 69,
   "id": "13831023-6313-4d65-8074-ec983f6847eb",
   "metadata": {},
   "outputs": [],
   "source": [
    "import string "
   ]
  },
  {
   "cell_type": "code",
   "execution_count": 70,
   "id": "dee11f76-6dea-41e8-8810-f49582cd4097",
   "metadata": {},
   "outputs": [],
   "source": [
    "punc = string.punctuation"
   ]
  },
  {
   "cell_type": "code",
   "execution_count": 71,
   "id": "81e5c6a5-9fa5-43c7-86c0-3774c1f20444",
   "metadata": {},
   "outputs": [
    {
     "data": {
      "text/plain": [
       "'!\"#$%&\\'()*+,-./:;<=>?@[\\\\]^_`{|}~'"
      ]
     },
     "execution_count": 71,
     "metadata": {},
     "output_type": "execute_result"
    }
   ],
   "source": [
    "punc"
   ]
  },
  {
   "cell_type": "code",
   "execution_count": 72,
   "id": "14c49045-fcea-4a75-a8be-53f4d5a0280f",
   "metadata": {},
   "outputs": [],
   "source": [
    "def remove_punctuation(data):\n",
    "    for char in punc:\n",
    "        data = data.replace(char,'')\n",
    "    return data"
   ]
  },
  {
   "cell_type": "code",
   "execution_count": 73,
   "id": "23cb5bdb-de47-4ca1-8e39-eb2c8b8b484d",
   "metadata": {},
   "outputs": [],
   "source": [
    "text = 'i have a data . ,'"
   ]
  },
  {
   "cell_type": "code",
   "execution_count": 74,
   "id": "573cd16f-af6f-4261-aa1f-6ec46f050d79",
   "metadata": {},
   "outputs": [
    {
     "data": {
      "text/plain": [
       "'i have a data  '"
      ]
     },
     "execution_count": 74,
     "metadata": {},
     "output_type": "execute_result"
    }
   ],
   "source": [
    "remove_punctuation(text)"
   ]
  },
  {
   "cell_type": "code",
   "execution_count": 75,
   "id": "ca624d64-7022-4d4d-98fa-e18c33cc2067",
   "metadata": {},
   "outputs": [],
   "source": [
    "df['verified_reviews'] = df['verified_reviews'].astype(str)"
   ]
  },
  {
   "cell_type": "code",
   "execution_count": 76,
   "id": "4a0eb6ad-414c-4ad2-b1c4-cffc9a377f6b",
   "metadata": {},
   "outputs": [],
   "source": [
    "df['verified_reviews'] =df['verified_reviews'].apply(remove_punctuation)"
   ]
  },
  {
   "cell_type": "code",
   "execution_count": 77,
   "id": "15890725-9eb5-4a7e-bd34-8419a5c51f67",
   "metadata": {},
   "outputs": [
    {
     "data": {
      "text/plain": [
       "'sometimes while playing a game you can answer a question correctly but alexa says you got it wrong and answers the same as you  i like being able to turn lights on and off while away from home'"
      ]
     },
     "execution_count": 77,
     "metadata": {},
     "output_type": "execute_result"
    }
   ],
   "source": [
    "df['verified_reviews'][2]"
   ]
  },
  {
   "cell_type": "code",
   "execution_count": 86,
   "id": "01e87791-4000-43ac-9c95-28addf779db2",
   "metadata": {},
   "outputs": [],
   "source": [
    "import nltk"
   ]
  },
  {
   "cell_type": "code",
   "execution_count": 87,
   "id": "a8008aca-3557-42c1-b063-7fae368f8b55",
   "metadata": {},
   "outputs": [],
   "source": [
    "from nltk.tokenize import word_tokenize"
   ]
  },
  {
   "cell_type": "code",
   "execution_count": 88,
   "id": "1777a247-a0f0-4cb7-a2ab-571532dbf1bb",
   "metadata": {},
   "outputs": [],
   "source": [
    "def tokenize_word(data):\n",
    "    tokens = nltk.word_tokenize(data)\n",
    "    return tokens"
   ]
  },
  {
   "cell_type": "code",
   "execution_count": 89,
   "id": "0a1edcf2-817d-4476-80bb-3c35d4336f73",
   "metadata": {},
   "outputs": [
    {
     "data": {
      "text/plain": [
       "['i', 'have', 'a', 'data', '.', ',']"
      ]
     },
     "execution_count": 89,
     "metadata": {},
     "output_type": "execute_result"
    }
   ],
   "source": [
    "tokenize_word(text)"
   ]
  },
  {
   "cell_type": "code",
   "execution_count": 90,
   "id": "924560ca-b65e-47e3-a52d-480e1763fe65",
   "metadata": {},
   "outputs": [],
   "source": [
    "df['verified_reviews'] = df['verified_reviews'].apply(tokenize_word)"
   ]
  },
  {
   "cell_type": "code",
   "execution_count": 91,
   "id": "4a72e99f-aed5-43bb-8839-d99ff17b4e1e",
   "metadata": {},
   "outputs": [
    {
     "data": {
      "text/plain": [
       "['sometimes',\n",
       " 'playing',\n",
       " 'game',\n",
       " 'answer',\n",
       " 'question',\n",
       " 'correctly',\n",
       " 'alexa',\n",
       " 'says',\n",
       " 'got',\n",
       " 'wrong',\n",
       " 'answers',\n",
       " 'like',\n",
       " 'able',\n",
       " 'turn',\n",
       " 'lights',\n",
       " 'away',\n",
       " 'home']"
      ]
     },
     "execution_count": 91,
     "metadata": {},
     "output_type": "execute_result"
    }
   ],
   "source": [
    "df['verified_reviews'][2]"
   ]
  },
  {
   "cell_type": "code",
   "execution_count": 78,
   "id": "5136cc71-35df-4a3b-aff4-f834964fc4f2",
   "metadata": {},
   "outputs": [],
   "source": [
    "from nltk.corpus import stopwords"
   ]
  },
  {
   "cell_type": "code",
   "execution_count": 79,
   "id": "a6c4387e-dd36-4c4e-9569-9785b00d5f3a",
   "metadata": {},
   "outputs": [
    {
     "data": {
      "text/plain": [
       "['i',\n",
       " 'me',\n",
       " 'my',\n",
       " 'myself',\n",
       " 'we',\n",
       " 'our',\n",
       " 'ours',\n",
       " 'ourselves',\n",
       " 'you',\n",
       " \"you're\",\n",
       " \"you've\",\n",
       " \"you'll\",\n",
       " \"you'd\",\n",
       " 'your',\n",
       " 'yours',\n",
       " 'yourself',\n",
       " 'yourselves',\n",
       " 'he',\n",
       " 'him',\n",
       " 'his',\n",
       " 'himself',\n",
       " 'she',\n",
       " \"she's\",\n",
       " 'her',\n",
       " 'hers',\n",
       " 'herself',\n",
       " 'it',\n",
       " \"it's\",\n",
       " 'its',\n",
       " 'itself',\n",
       " 'they',\n",
       " 'them',\n",
       " 'their',\n",
       " 'theirs',\n",
       " 'themselves',\n",
       " 'what',\n",
       " 'which',\n",
       " 'who',\n",
       " 'whom',\n",
       " 'this',\n",
       " 'that',\n",
       " \"that'll\",\n",
       " 'these',\n",
       " 'those',\n",
       " 'am',\n",
       " 'is',\n",
       " 'are',\n",
       " 'was',\n",
       " 'were',\n",
       " 'be',\n",
       " 'been',\n",
       " 'being',\n",
       " 'have',\n",
       " 'has',\n",
       " 'had',\n",
       " 'having',\n",
       " 'do',\n",
       " 'does',\n",
       " 'did',\n",
       " 'doing',\n",
       " 'a',\n",
       " 'an',\n",
       " 'the',\n",
       " 'and',\n",
       " 'but',\n",
       " 'if',\n",
       " 'or',\n",
       " 'because',\n",
       " 'as',\n",
       " 'until',\n",
       " 'while',\n",
       " 'of',\n",
       " 'at',\n",
       " 'by',\n",
       " 'for',\n",
       " 'with',\n",
       " 'about',\n",
       " 'against',\n",
       " 'between',\n",
       " 'into',\n",
       " 'through',\n",
       " 'during',\n",
       " 'before',\n",
       " 'after',\n",
       " 'above',\n",
       " 'below',\n",
       " 'to',\n",
       " 'from',\n",
       " 'up',\n",
       " 'down',\n",
       " 'in',\n",
       " 'out',\n",
       " 'on',\n",
       " 'off',\n",
       " 'over',\n",
       " 'under',\n",
       " 'again',\n",
       " 'further',\n",
       " 'then',\n",
       " 'once',\n",
       " 'here',\n",
       " 'there',\n",
       " 'when',\n",
       " 'where',\n",
       " 'why',\n",
       " 'how',\n",
       " 'all',\n",
       " 'any',\n",
       " 'both',\n",
       " 'each',\n",
       " 'few',\n",
       " 'more',\n",
       " 'most',\n",
       " 'other',\n",
       " 'some',\n",
       " 'such',\n",
       " 'no',\n",
       " 'nor',\n",
       " 'not',\n",
       " 'only',\n",
       " 'own',\n",
       " 'same',\n",
       " 'so',\n",
       " 'than',\n",
       " 'too',\n",
       " 'very',\n",
       " 's',\n",
       " 't',\n",
       " 'can',\n",
       " 'will',\n",
       " 'just',\n",
       " 'don',\n",
       " \"don't\",\n",
       " 'should',\n",
       " \"should've\",\n",
       " 'now',\n",
       " 'd',\n",
       " 'll',\n",
       " 'm',\n",
       " 'o',\n",
       " 're',\n",
       " 've',\n",
       " 'y',\n",
       " 'ain',\n",
       " 'aren',\n",
       " \"aren't\",\n",
       " 'couldn',\n",
       " \"couldn't\",\n",
       " 'didn',\n",
       " \"didn't\",\n",
       " 'doesn',\n",
       " \"doesn't\",\n",
       " 'hadn',\n",
       " \"hadn't\",\n",
       " 'hasn',\n",
       " \"hasn't\",\n",
       " 'haven',\n",
       " \"haven't\",\n",
       " 'isn',\n",
       " \"isn't\",\n",
       " 'ma',\n",
       " 'mightn',\n",
       " \"mightn't\",\n",
       " 'mustn',\n",
       " \"mustn't\",\n",
       " 'needn',\n",
       " \"needn't\",\n",
       " 'shan',\n",
       " \"shan't\",\n",
       " 'shouldn',\n",
       " \"shouldn't\",\n",
       " 'wasn',\n",
       " \"wasn't\",\n",
       " 'weren',\n",
       " \"weren't\",\n",
       " 'won',\n",
       " \"won't\",\n",
       " 'wouldn',\n",
       " \"wouldn't\"]"
      ]
     },
     "execution_count": 79,
     "metadata": {},
     "output_type": "execute_result"
    }
   ],
   "source": [
    "nltk.corpus.stopwords.words(\"english\")"
   ]
  },
  {
   "cell_type": "code",
   "execution_count": 80,
   "id": "1ccf4dfb-d5ba-42ba-abfc-70a94acbff79",
   "metadata": {},
   "outputs": [],
   "source": [
    "df['verified_reviews'] = df['verified_reviews'].astype(str)"
   ]
  },
  {
   "cell_type": "code",
   "execution_count": 81,
   "id": "0e43fa7d-4325-400a-b514-0fc4ae3c3385",
   "metadata": {},
   "outputs": [],
   "source": [
    "def remove_stopwords(data):\n",
    "    stop_words = set(stopwords.words(\"english\"))\n",
    "    words = data.split()\n",
    "    filtered_word = []\n",
    "    for word in words:\n",
    "        if word.lower() not in stop_words:\n",
    "            filtered_word.append(word)\n",
    "    filtered_text = ' '.join(filtered_word)\n",
    "    return filtered_text"
   ]
  },
  {
   "cell_type": "code",
   "execution_count": 82,
   "id": "cb923de1-e023-49d3-91b7-c9be1826f7ef",
   "metadata": {},
   "outputs": [],
   "source": [
    "data = 'hii i am a coder'"
   ]
  },
  {
   "cell_type": "code",
   "execution_count": 83,
   "id": "40c6fc07-bb70-4b57-a039-d9c99dbc8e39",
   "metadata": {},
   "outputs": [
    {
     "data": {
      "text/plain": [
       "'hii coder'"
      ]
     },
     "execution_count": 83,
     "metadata": {},
     "output_type": "execute_result"
    }
   ],
   "source": [
    "remove_stopwords(data)"
   ]
  },
  {
   "cell_type": "code",
   "execution_count": 84,
   "id": "b5df9922-20d5-48ec-b0ab-966e5d839e01",
   "metadata": {},
   "outputs": [],
   "source": [
    "df['verified_reviews'] = df['verified_reviews'].apply(lambda x: remove_stopwords(x))"
   ]
  },
  {
   "cell_type": "code",
   "execution_count": 85,
   "id": "f47a27c2-66df-42a6-b0f5-bf0cf1db6ff0",
   "metadata": {},
   "outputs": [
    {
     "data": {
      "text/plain": [
       "'sometimes playing game answer question correctly alexa says got wrong answers like able turn lights away home'"
      ]
     },
     "execution_count": 85,
     "metadata": {},
     "output_type": "execute_result"
    }
   ],
   "source": [
    "df['verified_reviews'][2]"
   ]
  },
  {
   "cell_type": "code",
   "execution_count": 92,
   "id": "18784991-dbff-4467-8631-c6da2e3e9100",
   "metadata": {},
   "outputs": [],
   "source": [
    "from nltk.stem import PorterStemmer"
   ]
  },
  {
   "cell_type": "code",
   "execution_count": 93,
   "id": "d65a624b-5596-4042-b2c2-d0ef679accfa",
   "metadata": {},
   "outputs": [],
   "source": [
    "stemmer = PorterStemmer()"
   ]
  },
  {
   "cell_type": "code",
   "execution_count": 100,
   "id": "0b1b2c37-f4a4-46f9-99dd-99bb03590531",
   "metadata": {},
   "outputs": [],
   "source": [
    "def perform_stemming(text):\n",
    "    stemmed_words = [stemmer.stem(word) for word in text]\n",
    "    stemmed_text = ' '.join(stemmed_words)\n",
    "    return stemmed_text"
   ]
  },
  {
   "cell_type": "code",
   "execution_count": 103,
   "id": "32919565-8a41-423e-85e9-33beca2c6e97",
   "metadata": {},
   "outputs": [],
   "source": [
    "text1 = 'study studying studied' "
   ]
  },
  {
   "cell_type": "code",
   "execution_count": 106,
   "id": "6ee193dd-9e95-451b-8926-dbd303499ab8",
   "metadata": {},
   "outputs": [],
   "source": [
    " words = nltk.word_tokenize(text1)"
   ]
  }
 ],
 "metadata": {
  "kernelspec": {
   "display_name": "Python 3 (ipykernel)",
   "language": "python",
   "name": "python3"
  },
  "language_info": {
   "codemirror_mode": {
    "name": "ipython",
    "version": 3
   },
   "file_extension": ".py",
   "mimetype": "text/x-python",
   "name": "python",
   "nbconvert_exporter": "python",
   "pygments_lexer": "ipython3",
   "version": "3.10.1"
  }
 },
 "nbformat": 4,
 "nbformat_minor": 5
}
