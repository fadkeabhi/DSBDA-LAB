{
 "cells": [
  {
   "cell_type": "code",
   "execution_count": null,
   "id": "c6bce119-3410-445e-bc25-30bbf8769503",
   "metadata": {},
   "outputs": [],
   "source": [
    "\"\"\"\n",
    "Problem Statement No. 07 <br>\n",
    "Perform the following operations using Python on any open source dataset.<br> \n",
    "1. Import all the required Python Libraries\n",
    "2. Load the Dataset into pandas data frame\n",
    "4. Data Preprocessing: check for missing values in the data to get some initial statistics. Provide variable descriptio<br>ns. \n",
    "Types of variables etc. Check the dimensions of the data frame.  \n",
    "5. Data Formatting and Data Normalization: Summarize the types of variables by checking the data types (i.e., \n",
    "character, numeric, integer, factor, and logical) of the variables in the data set. If variables are not in the correct data \n",
    "type, apply proper type conversions. \n",
    "6. Turn categorical variables into quantitative variables in Python. In addition to the codes and outputs, expla<br>in every \n",
    "operation that you do in the above steps and explain everything that you do to import/read/scrape the set.      \n",
    "\"\"\""
   ]
  },
  {
   "cell_type": "code",
   "execution_count": 44,
   "id": "9556c761-c789-4f43-a6c8-612d93394564",
   "metadata": {},
   "outputs": [],
   "source": [
    "import pandas as pd\n",
    "import numpy as np"
   ]
  },
  {
   "cell_type": "code",
   "execution_count": 45,
   "id": "5875ebc7-b6fa-47e8-b695-44cfb302f332",
   "metadata": {},
   "outputs": [],
   "source": [
    "df = pd.read_excel('nba.xlsx')"
   ]
  },
  {
   "cell_type": "code",
   "execution_count": 46,
   "id": "eae39fcf-56c4-4167-b61f-eb2d5fce3dfa",
   "metadata": {},
   "outputs": [
    {
     "data": {
      "text/html": [
       "<div>\n",
       "<style scoped>\n",
       "    .dataframe tbody tr th:only-of-type {\n",
       "        vertical-align: middle;\n",
       "    }\n",
       "\n",
       "    .dataframe tbody tr th {\n",
       "        vertical-align: top;\n",
       "    }\n",
       "\n",
       "    .dataframe thead th {\n",
       "        text-align: right;\n",
       "    }\n",
       "</style>\n",
       "<table border=\"1\" class=\"dataframe\">\n",
       "  <thead>\n",
       "    <tr style=\"text-align: right;\">\n",
       "      <th></th>\n",
       "      <th>Name</th>\n",
       "      <th>Team</th>\n",
       "      <th>Number</th>\n",
       "      <th>Position</th>\n",
       "      <th>Age</th>\n",
       "      <th>Height</th>\n",
       "      <th>Weight</th>\n",
       "      <th>College</th>\n",
       "      <th>Salary</th>\n",
       "    </tr>\n",
       "  </thead>\n",
       "  <tbody>\n",
       "    <tr>\n",
       "      <th>5</th>\n",
       "      <td>Amir Johnson</td>\n",
       "      <td>Boston Celtics</td>\n",
       "      <td>90</td>\n",
       "      <td>PF</td>\n",
       "      <td>29</td>\n",
       "      <td>2024-06-09 00:00:00</td>\n",
       "      <td>240</td>\n",
       "      <td>NaN</td>\n",
       "      <td>12000000.0</td>\n",
       "    </tr>\n",
       "    <tr>\n",
       "      <th>422</th>\n",
       "      <td>Cameron Payne</td>\n",
       "      <td>Oklahoma City Thunder</td>\n",
       "      <td>22</td>\n",
       "      <td>PG</td>\n",
       "      <td>21</td>\n",
       "      <td>2024-06-03 00:00:00</td>\n",
       "      <td>185</td>\n",
       "      <td>Murray State</td>\n",
       "      <td>2021520.0</td>\n",
       "    </tr>\n",
       "    <tr>\n",
       "      <th>253</th>\n",
       "      <td>K.J. McDaniels</td>\n",
       "      <td>Houston Rockets</td>\n",
       "      <td>32</td>\n",
       "      <td>SG</td>\n",
       "      <td>23</td>\n",
       "      <td>2024-06-06 00:00:00</td>\n",
       "      <td>205</td>\n",
       "      <td>Clemson</td>\n",
       "      <td>3189794.0</td>\n",
       "    </tr>\n",
       "    <tr>\n",
       "      <th>269</th>\n",
       "      <td>Ray McCallum</td>\n",
       "      <td>Memphis Grizzlies</td>\n",
       "      <td>5</td>\n",
       "      <td>PG</td>\n",
       "      <td>24</td>\n",
       "      <td>2024-06-03 00:00:00</td>\n",
       "      <td>190</td>\n",
       "      <td>Detroit</td>\n",
       "      <td>NaN</td>\n",
       "    </tr>\n",
       "    <tr>\n",
       "      <th>278</th>\n",
       "      <td>Luke Babbitt</td>\n",
       "      <td>New Orleans Pelicans</td>\n",
       "      <td>8</td>\n",
       "      <td>SF</td>\n",
       "      <td>26</td>\n",
       "      <td>2024-06-09 00:00:00</td>\n",
       "      <td>225</td>\n",
       "      <td>Nevada</td>\n",
       "      <td>1100602.0</td>\n",
       "    </tr>\n",
       "  </tbody>\n",
       "</table>\n",
       "</div>"
      ],
      "text/plain": [
       "               Name                   Team  Number Position  Age  \\\n",
       "5      Amir Johnson         Boston Celtics      90       PF   29   \n",
       "422   Cameron Payne  Oklahoma City Thunder      22       PG   21   \n",
       "253  K.J. McDaniels        Houston Rockets      32       SG   23   \n",
       "269    Ray McCallum      Memphis Grizzlies       5       PG   24   \n",
       "278    Luke Babbitt   New Orleans Pelicans       8       SF   26   \n",
       "\n",
       "                  Height  Weight       College      Salary  \n",
       "5    2024-06-09 00:00:00     240           NaN  12000000.0  \n",
       "422  2024-06-03 00:00:00     185  Murray State   2021520.0  \n",
       "253  2024-06-06 00:00:00     205       Clemson   3189794.0  \n",
       "269  2024-06-03 00:00:00     190       Detroit         NaN  \n",
       "278  2024-06-09 00:00:00     225        Nevada   1100602.0  "
      ]
     },
     "execution_count": 46,
     "metadata": {},
     "output_type": "execute_result"
    }
   ],
   "source": [
    "df.sample(5)"
   ]
  },
  {
   "cell_type": "code",
   "execution_count": 47,
   "id": "ff228983-42bf-4e89-a714-4ae8af92f3e3",
   "metadata": {},
   "outputs": [
    {
     "data": {
      "text/plain": [
       "Name         0\n",
       "Team         0\n",
       "Number       0\n",
       "Position     0\n",
       "Age          0\n",
       "Height       0\n",
       "Weight       0\n",
       "College     84\n",
       "Salary      11\n",
       "dtype: int64"
      ]
     },
     "execution_count": 47,
     "metadata": {},
     "output_type": "execute_result"
    }
   ],
   "source": [
    "df.isnull().sum()"
   ]
  },
  {
   "cell_type": "code",
   "execution_count": 48,
   "id": "50fb6243-19e9-4103-92c1-2c782301f32a",
   "metadata": {},
   "outputs": [
    {
     "data": {
      "text/plain": [
       "(457, 9)"
      ]
     },
     "execution_count": 48,
     "metadata": {},
     "output_type": "execute_result"
    }
   ],
   "source": [
    "df.shape"
   ]
  },
  {
   "cell_type": "code",
   "execution_count": 49,
   "id": "006784f9-8846-4db6-b250-5bbf454f99ae",
   "metadata": {},
   "outputs": [
    {
     "name": "stdout",
     "output_type": "stream",
     "text": [
      "<class 'pandas.core.frame.DataFrame'>\n",
      "RangeIndex: 457 entries, 0 to 456\n",
      "Data columns (total 9 columns):\n",
      " #   Column    Non-Null Count  Dtype  \n",
      "---  ------    --------------  -----  \n",
      " 0   Name      457 non-null    object \n",
      " 1   Team      457 non-null    object \n",
      " 2   Number    457 non-null    int64  \n",
      " 3   Position  457 non-null    object \n",
      " 4   Age       457 non-null    int64  \n",
      " 5   Height    457 non-null    object \n",
      " 6   Weight    457 non-null    int64  \n",
      " 7   College   373 non-null    object \n",
      " 8   Salary    446 non-null    float64\n",
      "dtypes: float64(1), int64(3), object(5)\n",
      "memory usage: 32.3+ KB\n"
     ]
    }
   ],
   "source": [
    "df.info()"
   ]
  },
  {
   "cell_type": "code",
   "execution_count": 50,
   "id": "23f7cec5-8a62-42ab-b4da-7a8eab792918",
   "metadata": {},
   "outputs": [
    {
     "data": {
      "text/html": [
       "<div>\n",
       "<style scoped>\n",
       "    .dataframe tbody tr th:only-of-type {\n",
       "        vertical-align: middle;\n",
       "    }\n",
       "\n",
       "    .dataframe tbody tr th {\n",
       "        vertical-align: top;\n",
       "    }\n",
       "\n",
       "    .dataframe thead th {\n",
       "        text-align: right;\n",
       "    }\n",
       "</style>\n",
       "<table border=\"1\" class=\"dataframe\">\n",
       "  <thead>\n",
       "    <tr style=\"text-align: right;\">\n",
       "      <th></th>\n",
       "      <th>Number</th>\n",
       "      <th>Age</th>\n",
       "      <th>Weight</th>\n",
       "      <th>Salary</th>\n",
       "    </tr>\n",
       "  </thead>\n",
       "  <tbody>\n",
       "    <tr>\n",
       "      <th>count</th>\n",
       "      <td>457.000000</td>\n",
       "      <td>457.000000</td>\n",
       "      <td>457.000000</td>\n",
       "      <td>4.460000e+02</td>\n",
       "    </tr>\n",
       "    <tr>\n",
       "      <th>mean</th>\n",
       "      <td>17.678337</td>\n",
       "      <td>26.938731</td>\n",
       "      <td>221.522976</td>\n",
       "      <td>4.842684e+06</td>\n",
       "    </tr>\n",
       "    <tr>\n",
       "      <th>std</th>\n",
       "      <td>15.966090</td>\n",
       "      <td>4.404016</td>\n",
       "      <td>26.368343</td>\n",
       "      <td>5.229238e+06</td>\n",
       "    </tr>\n",
       "    <tr>\n",
       "      <th>min</th>\n",
       "      <td>0.000000</td>\n",
       "      <td>19.000000</td>\n",
       "      <td>161.000000</td>\n",
       "      <td>3.088800e+04</td>\n",
       "    </tr>\n",
       "    <tr>\n",
       "      <th>25%</th>\n",
       "      <td>5.000000</td>\n",
       "      <td>24.000000</td>\n",
       "      <td>200.000000</td>\n",
       "      <td>1.044792e+06</td>\n",
       "    </tr>\n",
       "    <tr>\n",
       "      <th>50%</th>\n",
       "      <td>13.000000</td>\n",
       "      <td>26.000000</td>\n",
       "      <td>220.000000</td>\n",
       "      <td>2.839073e+06</td>\n",
       "    </tr>\n",
       "    <tr>\n",
       "      <th>75%</th>\n",
       "      <td>25.000000</td>\n",
       "      <td>30.000000</td>\n",
       "      <td>240.000000</td>\n",
       "      <td>6.500000e+06</td>\n",
       "    </tr>\n",
       "    <tr>\n",
       "      <th>max</th>\n",
       "      <td>99.000000</td>\n",
       "      <td>40.000000</td>\n",
       "      <td>307.000000</td>\n",
       "      <td>2.500000e+07</td>\n",
       "    </tr>\n",
       "  </tbody>\n",
       "</table>\n",
       "</div>"
      ],
      "text/plain": [
       "           Number         Age      Weight        Salary\n",
       "count  457.000000  457.000000  457.000000  4.460000e+02\n",
       "mean    17.678337   26.938731  221.522976  4.842684e+06\n",
       "std     15.966090    4.404016   26.368343  5.229238e+06\n",
       "min      0.000000   19.000000  161.000000  3.088800e+04\n",
       "25%      5.000000   24.000000  200.000000  1.044792e+06\n",
       "50%     13.000000   26.000000  220.000000  2.839073e+06\n",
       "75%     25.000000   30.000000  240.000000  6.500000e+06\n",
       "max     99.000000   40.000000  307.000000  2.500000e+07"
      ]
     },
     "execution_count": 50,
     "metadata": {},
     "output_type": "execute_result"
    }
   ],
   "source": [
    "df.describe()"
   ]
  },
  {
   "cell_type": "code",
   "execution_count": 51,
   "id": "9828b417-f43d-4947-b951-774a24099748",
   "metadata": {},
   "outputs": [],
   "source": [
    "mode = df['College'].mode()"
   ]
  },
  {
   "cell_type": "code",
   "execution_count": 52,
   "id": "dd04bd73-4c96-4873-931d-be3c40b36978",
   "metadata": {},
   "outputs": [
    {
     "data": {
      "text/plain": [
       "0    Kentucky\n",
       "Name: College, dtype: object"
      ]
     },
     "execution_count": 52,
     "metadata": {},
     "output_type": "execute_result"
    }
   ],
   "source": [
    "mode"
   ]
  },
  {
   "cell_type": "code",
   "execution_count": 53,
   "id": "94989230-3377-4c96-9bb4-3aac5c304e5c",
   "metadata": {},
   "outputs": [
    {
     "name": "stderr",
     "output_type": "stream",
     "text": [
      "C:\\Users\\palas\\AppData\\Local\\Temp\\ipykernel_16224\\3769564356.py:1: FutureWarning: A value is trying to be set on a copy of a DataFrame or Series through chained assignment using an inplace method.\n",
      "The behavior will change in pandas 3.0. This inplace method will never work because the intermediate object on which we are setting values always behaves as a copy.\n",
      "\n",
      "For example, when doing 'df[col].method(value, inplace=True)', try using 'df.method({col: value}, inplace=True)' or df[col] = df[col].method(value) instead, to perform the operation inplace on the original object.\n",
      "\n",
      "\n",
      "  df['College'].fillna('Kentucky' , inplace=True)\n"
     ]
    }
   ],
   "source": [
    "df['College'].fillna('Kentucky' , inplace=True)"
   ]
  },
  {
   "cell_type": "code",
   "execution_count": 54,
   "id": "29e1424b-97e0-4978-be49-6d47f8b684ac",
   "metadata": {},
   "outputs": [
    {
     "data": {
      "text/plain": [
       "Name         0\n",
       "Team         0\n",
       "Number       0\n",
       "Position     0\n",
       "Age          0\n",
       "Height       0\n",
       "Weight       0\n",
       "College      0\n",
       "Salary      11\n",
       "dtype: int64"
      ]
     },
     "execution_count": 54,
     "metadata": {},
     "output_type": "execute_result"
    }
   ],
   "source": [
    "df.isnull().sum()"
   ]
  },
  {
   "cell_type": "code",
   "execution_count": 55,
   "id": "b31264ec-5479-4ae8-abcd-8276ea9805b4",
   "metadata": {},
   "outputs": [],
   "source": [
    "df.dropna(inplace= True)"
   ]
  },
  {
   "cell_type": "code",
   "execution_count": 56,
   "id": "75486ae5-e395-4384-8ddf-3b952e3f13b5",
   "metadata": {},
   "outputs": [
    {
     "data": {
      "text/plain": [
       "Name        0\n",
       "Team        0\n",
       "Number      0\n",
       "Position    0\n",
       "Age         0\n",
       "Height      0\n",
       "Weight      0\n",
       "College     0\n",
       "Salary      0\n",
       "dtype: int64"
      ]
     },
     "execution_count": 56,
     "metadata": {},
     "output_type": "execute_result"
    }
   ],
   "source": [
    "df.isnull().sum()"
   ]
  },
  {
   "cell_type": "code",
   "execution_count": 57,
   "id": "6586f507-a450-48a7-a4a3-fea22ae01f8f",
   "metadata": {},
   "outputs": [
    {
     "name": "stdout",
     "output_type": "stream",
     "text": [
      "<class 'pandas.core.frame.DataFrame'>\n",
      "Index: 446 entries, 0 to 456\n",
      "Data columns (total 9 columns):\n",
      " #   Column    Non-Null Count  Dtype  \n",
      "---  ------    --------------  -----  \n",
      " 0   Name      446 non-null    object \n",
      " 1   Team      446 non-null    object \n",
      " 2   Number    446 non-null    int64  \n",
      " 3   Position  446 non-null    object \n",
      " 4   Age       446 non-null    int64  \n",
      " 5   Height    446 non-null    object \n",
      " 6   Weight    446 non-null    int64  \n",
      " 7   College   446 non-null    object \n",
      " 8   Salary    446 non-null    float64\n",
      "dtypes: float64(1), int64(3), object(5)\n",
      "memory usage: 34.8+ KB\n"
     ]
    }
   ],
   "source": [
    "df.info()"
   ]
  },
  {
   "cell_type": "code",
   "execution_count": 58,
   "id": "16c88942-2010-48f1-9ee7-1f6cf77984fb",
   "metadata": {},
   "outputs": [],
   "source": [
    "df = pd.get_dummies(df,columns=['Team','Position','College'] , drop_first=True )"
   ]
  },
  {
   "cell_type": "code",
   "execution_count": 59,
   "id": "7e1efeca-f633-48ab-872e-4c8c0db18792",
   "metadata": {},
   "outputs": [
    {
     "name": "stdout",
     "output_type": "stream",
     "text": [
      "<class 'pandas.core.frame.DataFrame'>\n",
      "Index: 446 entries, 0 to 456\n",
      "Columns: 153 entries, Name to College_Xavier\n",
      "dtypes: bool(147), float64(1), int64(3), object(2)\n",
      "memory usage: 88.4+ KB\n"
     ]
    }
   ],
   "source": [
    "df.info()"
   ]
  },
  {
   "cell_type": "code",
   "execution_count": null,
   "id": "626c4872-f156-4a33-9b74-441c2af146b9",
   "metadata": {},
   "outputs": [],
   "source": []
  }
 ],
 "metadata": {
  "kernelspec": {
   "display_name": "Python 3 (ipykernel)",
   "language": "python",
   "name": "python3"
  },
  "language_info": {
   "codemirror_mode": {
    "name": "ipython",
    "version": 3
   },
   "file_extension": ".py",
   "mimetype": "text/x-python",
   "name": "python",
   "nbconvert_exporter": "python",
   "pygments_lexer": "ipython3",
   "version": "3.10.1"
  }
 },
 "nbformat": 4,
 "nbformat_minor": 5
}
