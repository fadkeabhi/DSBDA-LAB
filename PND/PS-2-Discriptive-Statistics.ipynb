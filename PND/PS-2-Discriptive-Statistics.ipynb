{
 "cells": [
  {
   "cell_type": "markdown",
   "id": "c614225f-a16a-478e-8fc5-988c5a898943",
   "metadata": {},
   "source": [
    "Problem Statement No. 02 \r\n",
    "Perform the following operations on Age-Income dataset (Age-Income-Dataset.csv) \r\n",
    "Provide summary statistics (mean, median, minimum, maximum, standard deviation) for numeric variables with and \r\n",
    "without using any library functions. \r\n",
    "Provide summary statistics of income grouped by the age groups. Create a list that contains a numeric value for each \r\n",
    "response to the categorical variable. "
   ]
  },
  {
   "cell_type": "code",
   "execution_count": 1,
   "id": "80107f14-5cfd-4367-ac53-187e84e31ed2",
   "metadata": {},
   "outputs": [],
   "source": [
    "import pandas as pd\n",
    "import numpy as np"
   ]
  },
  {
   "cell_type": "code",
   "execution_count": 2,
   "id": "1a9cafe1-74a1-4574-b6a1-3413222afe0b",
   "metadata": {},
   "outputs": [],
   "source": [
    "df = pd.read_csv('Age-Income-Dataset.csv')"
   ]
  },
  {
   "cell_type": "code",
   "execution_count": 3,
   "id": "a8367d54-8cc3-449e-92f5-35f90ee79f88",
   "metadata": {},
   "outputs": [
    {
     "data": {
      "text/html": [
       "<div>\n",
       "<style scoped>\n",
       "    .dataframe tbody tr th:only-of-type {\n",
       "        vertical-align: middle;\n",
       "    }\n",
       "\n",
       "    .dataframe tbody tr th {\n",
       "        vertical-align: top;\n",
       "    }\n",
       "\n",
       "    .dataframe thead th {\n",
       "        text-align: right;\n",
       "    }\n",
       "</style>\n",
       "<table border=\"1\" class=\"dataframe\">\n",
       "  <thead>\n",
       "    <tr style=\"text-align: right;\">\n",
       "      <th></th>\n",
       "      <th>Age</th>\n",
       "      <th>Income</th>\n",
       "    </tr>\n",
       "  </thead>\n",
       "  <tbody>\n",
       "    <tr>\n",
       "      <th>12</th>\n",
       "      <td>Young</td>\n",
       "      <td>33000</td>\n",
       "    </tr>\n",
       "    <tr>\n",
       "      <th>10</th>\n",
       "      <td>Young</td>\n",
       "      <td>48000</td>\n",
       "    </tr>\n",
       "    <tr>\n",
       "      <th>23</th>\n",
       "      <td>Old</td>\n",
       "      <td>89000</td>\n",
       "    </tr>\n",
       "    <tr>\n",
       "      <th>34</th>\n",
       "      <td>Middle Age</td>\n",
       "      <td>65400</td>\n",
       "    </tr>\n",
       "    <tr>\n",
       "      <th>16</th>\n",
       "      <td>Middle Age</td>\n",
       "      <td>29000</td>\n",
       "    </tr>\n",
       "  </tbody>\n",
       "</table>\n",
       "</div>"
      ],
      "text/plain": [
       "           Age  Income\n",
       "12       Young   33000\n",
       "10       Young   48000\n",
       "23         Old   89000\n",
       "34  Middle Age   65400\n",
       "16  Middle Age   29000"
      ]
     },
     "execution_count": 3,
     "metadata": {},
     "output_type": "execute_result"
    }
   ],
   "source": [
    "df.sample(5)"
   ]
  },
  {
   "cell_type": "code",
   "execution_count": 4,
   "id": "6cf5d238-5941-419c-94a8-34eddda1b208",
   "metadata": {},
   "outputs": [
    {
     "data": {
      "text/html": [
       "<div>\n",
       "<style scoped>\n",
       "    .dataframe tbody tr th:only-of-type {\n",
       "        vertical-align: middle;\n",
       "    }\n",
       "\n",
       "    .dataframe tbody tr th {\n",
       "        vertical-align: top;\n",
       "    }\n",
       "\n",
       "    .dataframe thead th {\n",
       "        text-align: right;\n",
       "    }\n",
       "</style>\n",
       "<table border=\"1\" class=\"dataframe\">\n",
       "  <thead>\n",
       "    <tr style=\"text-align: right;\">\n",
       "      <th></th>\n",
       "      <th>Income</th>\n",
       "    </tr>\n",
       "  </thead>\n",
       "  <tbody>\n",
       "    <tr>\n",
       "      <th>count</th>\n",
       "      <td>50.000000</td>\n",
       "    </tr>\n",
       "    <tr>\n",
       "      <th>mean</th>\n",
       "      <td>50966.000000</td>\n",
       "    </tr>\n",
       "    <tr>\n",
       "      <th>std</th>\n",
       "      <td>21096.683268</td>\n",
       "    </tr>\n",
       "    <tr>\n",
       "      <th>min</th>\n",
       "      <td>15000.000000</td>\n",
       "    </tr>\n",
       "    <tr>\n",
       "      <th>25%</th>\n",
       "      <td>33475.000000</td>\n",
       "    </tr>\n",
       "    <tr>\n",
       "      <th>50%</th>\n",
       "      <td>46850.000000</td>\n",
       "    </tr>\n",
       "    <tr>\n",
       "      <th>75%</th>\n",
       "      <td>65400.000000</td>\n",
       "    </tr>\n",
       "    <tr>\n",
       "      <th>max</th>\n",
       "      <td>93000.000000</td>\n",
       "    </tr>\n",
       "  </tbody>\n",
       "</table>\n",
       "</div>"
      ],
      "text/plain": [
       "             Income\n",
       "count     50.000000\n",
       "mean   50966.000000\n",
       "std    21096.683268\n",
       "min    15000.000000\n",
       "25%    33475.000000\n",
       "50%    46850.000000\n",
       "75%    65400.000000\n",
       "max    93000.000000"
      ]
     },
     "execution_count": 4,
     "metadata": {},
     "output_type": "execute_result"
    }
   ],
   "source": [
    "df.describe()"
   ]
  },
  {
   "cell_type": "markdown",
   "id": "60ad80b3-b20e-4af1-972d-193bfd97894f",
   "metadata": {},
   "source": [
    "<h1> Using Libraries</h1>"
   ]
  },
  {
   "cell_type": "code",
   "execution_count": 5,
   "id": "4e04cdf1-c284-4c0f-9ebe-ca23dd1afe43",
   "metadata": {},
   "outputs": [
    {
     "data": {
      "text/plain": [
       "50966.0"
      ]
     },
     "execution_count": 5,
     "metadata": {},
     "output_type": "execute_result"
    }
   ],
   "source": [
    "df['Income'].mean()"
   ]
  },
  {
   "cell_type": "code",
   "execution_count": 6,
   "id": "12794976-4118-40df-a7af-23f22df62a7c",
   "metadata": {},
   "outputs": [
    {
     "data": {
      "text/plain": [
       "46850.0"
      ]
     },
     "execution_count": 6,
     "metadata": {},
     "output_type": "execute_result"
    }
   ],
   "source": [
    "df['Income'].median()"
   ]
  },
  {
   "cell_type": "code",
   "execution_count": 7,
   "id": "427732fa-ec83-4504-8051-326b1ac6c83b",
   "metadata": {},
   "outputs": [
    {
     "data": {
      "text/plain": [
       "0    23000\n",
       "1    25600\n",
       "2    45000\n",
       "3    65400\n",
       "4    80000\n",
       "Name: Income, dtype: int64"
      ]
     },
     "execution_count": 7,
     "metadata": {},
     "output_type": "execute_result"
    }
   ],
   "source": [
    "df['Income'].mode()"
   ]
  },
  {
   "cell_type": "code",
   "execution_count": 8,
   "id": "27d34974-78fa-4e63-84b2-5db9f498315d",
   "metadata": {},
   "outputs": [
    {
     "data": {
      "text/plain": [
       "15000"
      ]
     },
     "execution_count": 8,
     "metadata": {},
     "output_type": "execute_result"
    }
   ],
   "source": [
    "df['Income'].min()"
   ]
  },
  {
   "cell_type": "code",
   "execution_count": 9,
   "id": "7426166a-43e7-447d-a565-2e4945471cfd",
   "metadata": {},
   "outputs": [
    {
     "data": {
      "text/plain": [
       "93000"
      ]
     },
     "execution_count": 9,
     "metadata": {},
     "output_type": "execute_result"
    }
   ],
   "source": [
    "df['Income'].max()"
   ]
  },
  {
   "cell_type": "code",
   "execution_count": 10,
   "id": "b7222f61-12f6-4383-8b22-5b799120ee24",
   "metadata": {},
   "outputs": [
    {
     "data": {
      "text/plain": [
       "21096.683267707253"
      ]
     },
     "execution_count": 10,
     "metadata": {},
     "output_type": "execute_result"
    }
   ],
   "source": [
    "df['Income'].std()"
   ]
  },
  {
   "cell_type": "markdown",
   "id": "68e055e5-8488-4b05-96c4-67311db79e2e",
   "metadata": {},
   "source": [
    "<h1>Without Using Libraries</h1>"
   ]
  },
  {
   "cell_type": "code",
   "execution_count": 11,
   "id": "20790222-8783-4d36-a998-ca44e8c30917",
   "metadata": {},
   "outputs": [],
   "source": [
    "def mean(data):\n",
    "    return sum(data) / len(data)"
   ]
  },
  {
   "cell_type": "code",
   "execution_count": 13,
   "id": "c5b7f614-3a7d-4973-90b1-77e3e207c243",
   "metadata": {},
   "outputs": [
    {
     "data": {
      "text/plain": [
       "50966.0"
      ]
     },
     "execution_count": 13,
     "metadata": {},
     "output_type": "execute_result"
    }
   ],
   "source": [
    "mean(df['Income'])"
   ]
  },
  {
   "cell_type": "code",
   "execution_count": 17,
   "id": "b9a0c299-18cf-4c10-8b24-b8ac80860658",
   "metadata": {},
   "outputs": [],
   "source": [
    "def median(data):\n",
    "    sorted_data = sorted(data)\n",
    "    n = len(sorted_data)\n",
    "    if(n % 2 == 0):\n",
    "        median = (sorted_data[ n // 2 - 1]+sorted_data [ n // 2])/2\n",
    "    elif( n % 2 == 1):\n",
    "        median = sorted_data[n // 2]\n",
    "    return median"
   ]
  },
  {
   "cell_type": "code",
   "execution_count": 18,
   "id": "319d09ff-48b6-4b03-8216-f23be0f11915",
   "metadata": {},
   "outputs": [
    {
     "data": {
      "text/plain": [
       "46850.0"
      ]
     },
     "execution_count": 18,
     "metadata": {},
     "output_type": "execute_result"
    }
   ],
   "source": [
    "median(df['Income'])"
   ]
  },
  {
   "cell_type": "code",
   "execution_count": 20,
   "id": "d546c468-8605-4860-ba4d-7777da6dd2cf",
   "metadata": {},
   "outputs": [
    {
     "data": {
      "text/plain": [
       "50"
      ]
     },
     "execution_count": 20,
     "metadata": {},
     "output_type": "execute_result"
    }
   ],
   "source": [
    "len(df['Income'])"
   ]
  },
  {
   "cell_type": "code",
   "execution_count": 21,
   "id": "66f4e15a-f289-4625-aa26-b6a66af540ad",
   "metadata": {},
   "outputs": [],
   "source": [
    "def mininum(data):\n",
    "    sorted_data = sorted(data)\n",
    "    return sorted_data[0]"
   ]
  },
  {
   "cell_type": "code",
   "execution_count": 22,
   "id": "34308915-ec86-457c-a1a6-3535c84255fb",
   "metadata": {},
   "outputs": [
    {
     "data": {
      "text/plain": [
       "15000"
      ]
     },
     "execution_count": 22,
     "metadata": {},
     "output_type": "execute_result"
    }
   ],
   "source": [
    "mininum(df['Income'])"
   ]
  },
  {
   "cell_type": "code",
   "execution_count": 27,
   "id": "89d2e530-2d44-4fdf-a7c6-6136524aba96",
   "metadata": {},
   "outputs": [],
   "source": [
    "def maximun(data):\n",
    "    sorted_data = sorted(data)\n",
    "    n = len(sorted_data)\n",
    "    return sorted_data[n-1]"
   ]
  },
  {
   "cell_type": "code",
   "execution_count": 28,
   "id": "06e3be00-c720-4023-980a-48c4bddb54b8",
   "metadata": {},
   "outputs": [
    {
     "data": {
      "text/plain": [
       "93000"
      ]
     },
     "execution_count": 28,
     "metadata": {},
     "output_type": "execute_result"
    }
   ],
   "source": [
    "maximun(df['Income'])"
   ]
  },
  {
   "cell_type": "code",
   "execution_count": 33,
   "id": "7a22d296-0fb1-4527-9fad-ca51738eab54",
   "metadata": {},
   "outputs": [],
   "source": [
    "def std_dev(data):\n",
    "    n = len(data)\n",
    "    mean = sum(data)/n\n",
    "    return (sum((data-mean)**2) / (n-1))**0.5"
   ]
  },
  {
   "cell_type": "code",
   "execution_count": 34,
   "id": "5ccc6906-42cf-4804-9de2-79f29bb2baea",
   "metadata": {},
   "outputs": [
    {
     "data": {
      "text/plain": [
       "21096.683267707253"
      ]
     },
     "execution_count": 34,
     "metadata": {},
     "output_type": "execute_result"
    }
   ],
   "source": [
    "std_dev(df['Income'])"
   ]
  },
  {
   "cell_type": "code",
   "execution_count": 35,
   "id": "aa962846-cbc4-4e06-acdf-73b0fd572b76",
   "metadata": {},
   "outputs": [],
   "source": [
    "def variance(data):\n",
    "    n= len(data)\n",
    "    mean = sum(data)/n\n",
    "    return sum((data-mean)**2)/(n-1)"
   ]
  },
  {
   "cell_type": "code",
   "execution_count": 36,
   "id": "fd141d96-baef-4afc-aaef-d602e4e6d64c",
   "metadata": {},
   "outputs": [
    {
     "data": {
      "text/plain": [
       "445070044.8979592"
      ]
     },
     "execution_count": 36,
     "metadata": {},
     "output_type": "execute_result"
    }
   ],
   "source": [
    "variance(df['Income'])"
   ]
  },
  {
   "cell_type": "code",
   "execution_count": 39,
   "id": "7f927e5c-7a20-45db-b7bd-3ac3853c55a3",
   "metadata": {},
   "outputs": [],
   "source": [
    "group_data = df.groupby('Age')"
   ]
  },
  {
   "cell_type": "code",
   "execution_count": 40,
   "id": "a4ccd961-d6ac-4fcb-8ae7-a46357fef5b7",
   "metadata": {},
   "outputs": [],
   "source": [
    "summry = group_data['Income'].describe()"
   ]
  },
  {
   "cell_type": "code",
   "execution_count": 41,
   "id": "03d161fd-1c21-4905-a881-66cf29dd67cc",
   "metadata": {},
   "outputs": [
    {
     "data": {
      "text/html": [
       "<div>\n",
       "<style scoped>\n",
       "    .dataframe tbody tr th:only-of-type {\n",
       "        vertical-align: middle;\n",
       "    }\n",
       "\n",
       "    .dataframe tbody tr th {\n",
       "        vertical-align: top;\n",
       "    }\n",
       "\n",
       "    .dataframe thead th {\n",
       "        text-align: right;\n",
       "    }\n",
       "</style>\n",
       "<table border=\"1\" class=\"dataframe\">\n",
       "  <thead>\n",
       "    <tr style=\"text-align: right;\">\n",
       "      <th></th>\n",
       "      <th>count</th>\n",
       "      <th>mean</th>\n",
       "      <th>std</th>\n",
       "      <th>min</th>\n",
       "      <th>25%</th>\n",
       "      <th>50%</th>\n",
       "      <th>75%</th>\n",
       "      <th>max</th>\n",
       "    </tr>\n",
       "    <tr>\n",
       "      <th>Age</th>\n",
       "      <th></th>\n",
       "      <th></th>\n",
       "      <th></th>\n",
       "      <th></th>\n",
       "      <th></th>\n",
       "      <th></th>\n",
       "      <th></th>\n",
       "      <th></th>\n",
       "    </tr>\n",
       "  </thead>\n",
       "  <tbody>\n",
       "    <tr>\n",
       "      <th>Middle Age</th>\n",
       "      <td>15.0</td>\n",
       "      <td>52453.333333</td>\n",
       "      <td>20497.800114</td>\n",
       "      <td>25600.0</td>\n",
       "      <td>36900.0</td>\n",
       "      <td>53200.0</td>\n",
       "      <td>61200.0</td>\n",
       "      <td>93000.0</td>\n",
       "    </tr>\n",
       "    <tr>\n",
       "      <th>Old</th>\n",
       "      <td>19.0</td>\n",
       "      <td>53942.105263</td>\n",
       "      <td>20868.165968</td>\n",
       "      <td>24500.0</td>\n",
       "      <td>38700.0</td>\n",
       "      <td>45300.0</td>\n",
       "      <td>71400.0</td>\n",
       "      <td>89700.0</td>\n",
       "    </tr>\n",
       "    <tr>\n",
       "      <th>Young</th>\n",
       "      <td>16.0</td>\n",
       "      <td>46037.500000</td>\n",
       "      <td>22356.859499</td>\n",
       "      <td>15000.0</td>\n",
       "      <td>28750.0</td>\n",
       "      <td>41500.0</td>\n",
       "      <td>65850.0</td>\n",
       "      <td>87000.0</td>\n",
       "    </tr>\n",
       "  </tbody>\n",
       "</table>\n",
       "</div>"
      ],
      "text/plain": [
       "            count          mean           std      min      25%      50%  \\\n",
       "Age                                                                        \n",
       "Middle Age   15.0  52453.333333  20497.800114  25600.0  36900.0  53200.0   \n",
       "Old          19.0  53942.105263  20868.165968  24500.0  38700.0  45300.0   \n",
       "Young        16.0  46037.500000  22356.859499  15000.0  28750.0  41500.0   \n",
       "\n",
       "                75%      max  \n",
       "Age                           \n",
       "Middle Age  61200.0  93000.0  \n",
       "Old         71400.0  89700.0  \n",
       "Young       65850.0  87000.0  "
      ]
     },
     "execution_count": 41,
     "metadata": {},
     "output_type": "execute_result"
    }
   ],
   "source": [
    "summry"
   ]
  },
  {
   "cell_type": "code",
   "execution_count": null,
   "id": "b0124cd3-55b3-4fa0-85ec-bdb461c8acd1",
   "metadata": {},
   "outputs": [],
   "source": []
  }
 ],
 "metadata": {
  "kernelspec": {
   "display_name": "Python 3 (ipykernel)",
   "language": "python",
   "name": "python3"
  },
  "language_info": {
   "codemirror_mode": {
    "name": "ipython",
    "version": 3
   },
   "file_extension": ".py",
   "mimetype": "text/x-python",
   "name": "python",
   "nbconvert_exporter": "python",
   "pygments_lexer": "ipython3",
   "version": "3.10.1"
  }
 },
 "nbformat": 4,
 "nbformat_minor": 5
}
