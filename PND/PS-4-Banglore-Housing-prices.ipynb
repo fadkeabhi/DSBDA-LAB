{
 "cells": [
  {
   "cell_type": "code",
   "execution_count": 32,
   "id": "1c8f64e3-a896-4122-9815-0664493913c3",
   "metadata": {},
   "outputs": [
    {
     "data": {
      "text/plain": [
       "'\\nConsider the Bangalore House Price Data. Perform following operations. \\na) Find and replace null values in the data using appropriate technique. \\nb) Transform the ‘Size’ column to numerical values. For Example: 2 BHK to be converted as 2 \\nc) Transform the ‘total_sqft’ column to contain numerical values on same scale. If the range is given average value of \\nthe range to be taken. \\nd) Calculate and add one more column as ‘Price_Per_Sqft’ \\ne) Remove the outliers from Price_Per_Sqft and BHK Size column if any. \\nf) Apply the Linear Regression model to the data and display the training and testing performance measures as Mean \\nSquared Error and Accuracy\\n'"
      ]
     },
     "execution_count": 32,
     "metadata": {},
     "output_type": "execute_result"
    }
   ],
   "source": [
    "\"\"\"\n",
    "Consider the Bangalore House Price Data. Perform following operations. \n",
    "a) Find and replace null values in the data using appropriate technique. \n",
    "b) Transform the ‘Size’ column to numerical values. For Example: 2 BHK to be converted as 2 \n",
    "c) Transform the ‘total_sqft’ column to contain numerical values on same scale. If the range is given average value of \n",
    "the range to be taken. \n",
    "d) Calculate and add one more column as ‘Price_Per_Sqft’ \n",
    "e) Remove the outliers from Price_Per_Sqft and BHK Size column if any. \n",
    "f) Apply the Linear Regression model to the data and display the training and testing performance measures as Mean \n",
    "Squared Error and Accuracy\n",
    "\"\"\""
   ]
  },
  {
   "cell_type": "code",
   "execution_count": 134,
   "id": "7f5f2a35-9829-46fe-a4d9-94e41067b0c4",
   "metadata": {},
   "outputs": [],
   "source": [
    "import pandas as pd\n",
    "import numpy as np"
   ]
  },
  {
   "cell_type": "code",
   "execution_count": 135,
   "id": "92be531e-3171-45bd-98a6-24f5983d58f8",
   "metadata": {},
   "outputs": [
    {
     "data": {
      "text/html": [
       "<div>\n",
       "<style scoped>\n",
       "    .dataframe tbody tr th:only-of-type {\n",
       "        vertical-align: middle;\n",
       "    }\n",
       "\n",
       "    .dataframe tbody tr th {\n",
       "        vertical-align: top;\n",
       "    }\n",
       "\n",
       "    .dataframe thead th {\n",
       "        text-align: right;\n",
       "    }\n",
       "</style>\n",
       "<table border=\"1\" class=\"dataframe\">\n",
       "  <thead>\n",
       "    <tr style=\"text-align: right;\">\n",
       "      <th></th>\n",
       "      <th>location</th>\n",
       "      <th>size</th>\n",
       "      <th>total_sqft</th>\n",
       "      <th>bath</th>\n",
       "      <th>price</th>\n",
       "    </tr>\n",
       "  </thead>\n",
       "  <tbody>\n",
       "    <tr>\n",
       "      <th>9126</th>\n",
       "      <td>Kengeri</td>\n",
       "      <td>2 BHK</td>\n",
       "      <td>1009</td>\n",
       "      <td>2.0</td>\n",
       "      <td>30.27</td>\n",
       "    </tr>\n",
       "    <tr>\n",
       "      <th>2155</th>\n",
       "      <td>Ramagondanahalli</td>\n",
       "      <td>2 BHK</td>\n",
       "      <td>1235</td>\n",
       "      <td>2.0</td>\n",
       "      <td>46.80</td>\n",
       "    </tr>\n",
       "    <tr>\n",
       "      <th>12572</th>\n",
       "      <td>Harlur</td>\n",
       "      <td>4 BHK</td>\n",
       "      <td>2990</td>\n",
       "      <td>4.0</td>\n",
       "      <td>225.00</td>\n",
       "    </tr>\n",
       "    <tr>\n",
       "      <th>5747</th>\n",
       "      <td>Kanakpura Road</td>\n",
       "      <td>1 BHK</td>\n",
       "      <td>525</td>\n",
       "      <td>NaN</td>\n",
       "      <td>27.00</td>\n",
       "    </tr>\n",
       "    <tr>\n",
       "      <th>645</th>\n",
       "      <td>Haralur Road</td>\n",
       "      <td>2 BHK</td>\n",
       "      <td>1194</td>\n",
       "      <td>2.0</td>\n",
       "      <td>47.00</td>\n",
       "    </tr>\n",
       "  </tbody>\n",
       "</table>\n",
       "</div>"
      ],
      "text/plain": [
       "               location   size total_sqft  bath   price\n",
       "9126            Kengeri  2 BHK       1009   2.0   30.27\n",
       "2155   Ramagondanahalli  2 BHK       1235   2.0   46.80\n",
       "12572            Harlur  4 BHK       2990   4.0  225.00\n",
       "5747     Kanakpura Road  1 BHK        525   NaN   27.00\n",
       "645        Haralur Road  2 BHK       1194   2.0   47.00"
      ]
     },
     "execution_count": 135,
     "metadata": {},
     "output_type": "execute_result"
    }
   ],
   "source": [
    "df= pd.read_csv(\"Banglore Housing Prices.csv\")\n",
    "df.sample(5)"
   ]
  },
  {
   "cell_type": "code",
   "execution_count": 136,
   "id": "2c23be78-f62f-47a6-b9a0-a680a914d184",
   "metadata": {},
   "outputs": [
    {
     "data": {
      "text/plain": [
       "location       1\n",
       "size          16\n",
       "total_sqft     0\n",
       "bath          73\n",
       "price          0\n",
       "dtype: int64"
      ]
     },
     "execution_count": 136,
     "metadata": {},
     "output_type": "execute_result"
    }
   ],
   "source": [
    "df.isnull().sum()"
   ]
  },
  {
   "cell_type": "code",
   "execution_count": 137,
   "id": "d18f136b-5ab5-40c8-9f6e-1e52d8b6ec72",
   "metadata": {},
   "outputs": [
    {
     "data": {
      "text/plain": [
       "(13320, 5)"
      ]
     },
     "execution_count": 137,
     "metadata": {},
     "output_type": "execute_result"
    }
   ],
   "source": [
    "df.shape"
   ]
  },
  {
   "cell_type": "code",
   "execution_count": 138,
   "id": "eea031ca-4326-43c9-b257-3713a494a735",
   "metadata": {},
   "outputs": [],
   "source": [
    "df.dropna(inplace=True)"
   ]
  },
  {
   "cell_type": "code",
   "execution_count": 139,
   "id": "08c42e30-b96d-4858-a93b-cbb0e051939d",
   "metadata": {},
   "outputs": [
    {
     "data": {
      "text/plain": [
       "location      0\n",
       "size          0\n",
       "total_sqft    0\n",
       "bath          0\n",
       "price         0\n",
       "dtype: int64"
      ]
     },
     "execution_count": 139,
     "metadata": {},
     "output_type": "execute_result"
    }
   ],
   "source": [
    "df.isnull().sum()"
   ]
  },
  {
   "cell_type": "code",
   "execution_count": 140,
   "id": "d1041a40-350b-419c-9789-af9b2021350c",
   "metadata": {},
   "outputs": [
    {
     "data": {
      "text/plain": [
       "(13246, 5)"
      ]
     },
     "execution_count": 140,
     "metadata": {},
     "output_type": "execute_result"
    }
   ],
   "source": [
    "df.shape"
   ]
  },
  {
   "cell_type": "code",
   "execution_count": 141,
   "id": "eb743211-ba00-4210-be6b-499307342404",
   "metadata": {},
   "outputs": [
    {
     "name": "stdout",
     "output_type": "stream",
     "text": [
      "<class 'pandas.core.frame.DataFrame'>\n",
      "Index: 13246 entries, 0 to 13319\n",
      "Data columns (total 5 columns):\n",
      " #   Column      Non-Null Count  Dtype  \n",
      "---  ------      --------------  -----  \n",
      " 0   location    13246 non-null  object \n",
      " 1   size        13246 non-null  object \n",
      " 2   total_sqft  13246 non-null  object \n",
      " 3   bath        13246 non-null  float64\n",
      " 4   price       13246 non-null  float64\n",
      "dtypes: float64(2), object(3)\n",
      "memory usage: 620.9+ KB\n"
     ]
    }
   ],
   "source": [
    "df.info()"
   ]
  },
  {
   "cell_type": "code",
   "execution_count": 142,
   "id": "29abcaa3-623c-4c6c-b6b7-768302eeeaec",
   "metadata": {},
   "outputs": [
    {
     "data": {
      "text/plain": [
       "size\n",
       "2 BHK         5198\n",
       "3 BHK         4286\n",
       "4 Bedroom      818\n",
       "4 BHK          577\n",
       "3 Bedroom      546\n",
       "1 BHK          531\n",
       "2 Bedroom      329\n",
       "5 Bedroom      296\n",
       "6 Bedroom      191\n",
       "1 Bedroom      105\n",
       "8 Bedroom       84\n",
       "7 Bedroom       83\n",
       "5 BHK           57\n",
       "9 Bedroom       46\n",
       "6 BHK           30\n",
       "7 BHK           17\n",
       "1 RK            13\n",
       "10 Bedroom      12\n",
       "9 BHK            8\n",
       "8 BHK            5\n",
       "11 BHK           2\n",
       "11 Bedroom       2\n",
       "10 BHK           2\n",
       "14 BHK           1\n",
       "13 BHK           1\n",
       "12 Bedroom       1\n",
       "27 BHK           1\n",
       "43 Bedroom       1\n",
       "16 BHK           1\n",
       "19 BHK           1\n",
       "18 Bedroom       1\n",
       "Name: count, dtype: int64"
      ]
     },
     "execution_count": 142,
     "metadata": {},
     "output_type": "execute_result"
    }
   ],
   "source": [
    "df['size'].value_counts()"
   ]
  },
  {
   "cell_type": "code",
   "execution_count": 143,
   "id": "bfb3150c-8c46-4610-b0fb-48309864b4b4",
   "metadata": {},
   "outputs": [],
   "source": [
    "df['size'] = [int(value.split(' ')[0]) for value in df['size']]"
   ]
  },
  {
   "cell_type": "code",
   "execution_count": 144,
   "id": "9dfcc440-6767-4a5d-a28b-66e13b600e55",
   "metadata": {},
   "outputs": [
    {
     "data": {
      "text/plain": [
       "size\n",
       "2     5527\n",
       "3     4832\n",
       "4     1395\n",
       "1      649\n",
       "5      353\n",
       "6      221\n",
       "7      100\n",
       "8       89\n",
       "9       54\n",
       "10      14\n",
       "11       4\n",
       "27       1\n",
       "19       1\n",
       "16       1\n",
       "43       1\n",
       "14       1\n",
       "12       1\n",
       "13       1\n",
       "18       1\n",
       "Name: count, dtype: int64"
      ]
     },
     "execution_count": 144,
     "metadata": {},
     "output_type": "execute_result"
    }
   ],
   "source": [
    "df['size'].value_counts()"
   ]
  },
  {
   "cell_type": "code",
   "execution_count": 145,
   "id": "deae6b3d-4a20-4e4f-81fe-ea6ebd6964c5",
   "metadata": {},
   "outputs": [
    {
     "name": "stdout",
     "output_type": "stream",
     "text": [
      "<class 'pandas.core.frame.DataFrame'>\n",
      "Index: 13246 entries, 0 to 13319\n",
      "Data columns (total 5 columns):\n",
      " #   Column      Non-Null Count  Dtype  \n",
      "---  ------      --------------  -----  \n",
      " 0   location    13246 non-null  object \n",
      " 1   size        13246 non-null  int64  \n",
      " 2   total_sqft  13246 non-null  object \n",
      " 3   bath        13246 non-null  float64\n",
      " 4   price       13246 non-null  float64\n",
      "dtypes: float64(2), int64(1), object(2)\n",
      "memory usage: 620.9+ KB\n"
     ]
    }
   ],
   "source": [
    "df.info()"
   ]
  },
  {
   "cell_type": "code",
   "execution_count": 146,
   "id": "f469bda1-16b1-46b6-8645-f1db0d52a8b3",
   "metadata": {},
   "outputs": [
    {
     "data": {
      "text/plain": [
       "8170            2750\n",
       "576             1230\n",
       "11787           1115\n",
       "6518            1250\n",
       "1217            1560\n",
       "3947     3369 - 3464\n",
       "12772           1234\n",
       "6009             900\n",
       "7493            2134\n",
       "12562           1194\n",
       "Name: total_sqft, dtype: object"
      ]
     },
     "execution_count": 146,
     "metadata": {},
     "output_type": "execute_result"
    }
   ],
   "source": [
    "df['total_sqft'].sample(10)"
   ]
  },
  {
   "cell_type": "code",
   "execution_count": 153,
   "id": "a521815d-612b-4aa1-b987-f5e2e8506ec3",
   "metadata": {},
   "outputs": [],
   "source": [
    "def convert_sqrt(value):\n",
    "    try:\n",
    "        if '-' in value:\n",
    "            start,end = map(float , value.split('-'))\n",
    "            return (start + end)/2\n",
    "        else:\n",
    "            return float(value)\n",
    "    except ValueError:\n",
    "        return float('nan')"
   ]
  },
  {
   "cell_type": "code",
   "execution_count": 154,
   "id": "3e4e57e5-3a95-4606-8888-3eb1cdeee204",
   "metadata": {},
   "outputs": [],
   "source": [
    "df['total_sqft'] = [ convert_sqrt(value) for value in df['total_sqft']]"
   ]
  },
  {
   "cell_type": "code",
   "execution_count": 155,
   "id": "0107aab7-02bc-47c5-887e-6c8735f1704c",
   "metadata": {},
   "outputs": [
    {
     "data": {
      "text/plain": [
       "0        1056.0\n",
       "1        2600.0\n",
       "2        1440.0\n",
       "3        1521.0\n",
       "4        1200.0\n",
       "          ...  \n",
       "13315    3453.0\n",
       "13316    3600.0\n",
       "13317    1141.0\n",
       "13318    4689.0\n",
       "13319     550.0\n",
       "Name: total_sqft, Length: 13246, dtype: float64"
      ]
     },
     "execution_count": 155,
     "metadata": {},
     "output_type": "execute_result"
    }
   ],
   "source": [
    "df['total_sqft']"
   ]
  },
  {
   "cell_type": "code",
   "execution_count": 156,
   "id": "8345bd60-62f4-4f90-a891-8c1e5865d2c7",
   "metadata": {},
   "outputs": [
    {
     "data": {
      "text/plain": [
       "46"
      ]
     },
     "execution_count": 156,
     "metadata": {},
     "output_type": "execute_result"
    }
   ],
   "source": [
    "df['total_sqft'].isnull().sum()"
   ]
  },
  {
   "cell_type": "code",
   "execution_count": 160,
   "id": "14116b1e-2fcf-455f-84bd-753660bbafba",
   "metadata": {},
   "outputs": [],
   "source": [
    "df.dropna(inplace = True)"
   ]
  },
  {
   "cell_type": "code",
   "execution_count": 161,
   "id": "7f22f8a8-0907-48da-934b-26d4e1bdcf53",
   "metadata": {},
   "outputs": [
    {
     "data": {
      "text/plain": [
       "0"
      ]
     },
     "execution_count": 161,
     "metadata": {},
     "output_type": "execute_result"
    }
   ],
   "source": [
    "df['total_sqft'].isnull().sum()"
   ]
  },
  {
   "cell_type": "code",
   "execution_count": 162,
   "id": "062b1135-8cef-4d0f-9e8d-4cfb365665db",
   "metadata": {},
   "outputs": [],
   "source": [
    "df['Price_Per_Sqft'] = df['price']/df['total_sqft']"
   ]
  },
  {
   "cell_type": "code",
   "execution_count": 163,
   "id": "e739b97a-c3a5-4e38-a0e7-e9fcf4faa6df",
   "metadata": {},
   "outputs": [
    {
     "data": {
      "text/plain": [
       "0        0.036998\n",
       "1        0.046154\n",
       "2        0.043056\n",
       "3        0.062459\n",
       "4        0.042500\n",
       "           ...   \n",
       "13315    0.066898\n",
       "13316    0.111111\n",
       "13317    0.052585\n",
       "13318    0.104073\n",
       "13319    0.030909\n",
       "Name: Price_Per_Sqft, Length: 13200, dtype: float64"
      ]
     },
     "execution_count": 163,
     "metadata": {},
     "output_type": "execute_result"
    }
   ],
   "source": [
    "df['Price_Per_Sqft']"
   ]
  },
  {
   "cell_type": "markdown",
   "id": "c7fb0dd2-a9b4-4b09-b431-dfcd4217156d",
   "metadata": {},
   "source": [
    "<h2>Remove Outliars</h2>"
   ]
  },
  {
   "cell_type": "code",
   "execution_count": 164,
   "id": "0c299d78-6f53-4a7e-b885-bdc350e21f79",
   "metadata": {},
   "outputs": [],
   "source": [
    "import seaborn as sns"
   ]
  },
  {
   "cell_type": "code",
   "execution_count": 168,
   "id": "f9ca11a6-18ad-4c34-b952-603864cae39e",
   "metadata": {},
   "outputs": [
    {
     "data": {
      "text/plain": [
       "count    13200.000000\n",
       "mean         0.079208\n",
       "std          1.067272\n",
       "min          0.002678\n",
       "25%          0.042677\n",
       "50%          0.054383\n",
       "75%          0.073171\n",
       "max        120.000000\n",
       "Name: Price_Per_Sqft, dtype: float64"
      ]
     },
     "execution_count": 168,
     "metadata": {},
     "output_type": "execute_result"
    }
   ],
   "source": [
    "df['Price_Per_Sqft'].describe()"
   ]
  },
  {
   "cell_type": "code",
   "execution_count": 169,
   "id": "897bd874-f993-4ac6-9d0b-69ccedfcb9bf",
   "metadata": {},
   "outputs": [
    {
     "data": {
      "text/plain": [
       "<AxesSubplot:xlabel='Price_Per_Sqft'>"
      ]
     },
     "execution_count": 169,
     "metadata": {},
     "output_type": "execute_result"
    },
    {
     "data": {
      "image/png": "[encoded data removed]",
      "text/plain": [
       "<Figure size 640x480 with 1 Axes>"
      ]
     },
     "metadata": {},
     "output_type": "display_data"
    }
   ],
   "source": [
    "sns.boxplot(x = df['Price_Per_Sqft'])"
   ]
  },
  {
   "cell_type": "code",
   "execution_count": 170,
   "id": "626e4b02-6d77-42d4-bedb-a293c14f93e8",
   "metadata": {},
   "outputs": [
    {
     "data": {
      "text/plain": [
       "count    13200.000000\n",
       "mean         2.800833\n",
       "std          1.292843\n",
       "min          1.000000\n",
       "25%          2.000000\n",
       "50%          3.000000\n",
       "75%          3.000000\n",
       "max         43.000000\n",
       "Name: size, dtype: float64"
      ]
     },
     "execution_count": 170,
     "metadata": {},
     "output_type": "execute_result"
    }
   ],
   "source": [
    "df['size'].describe()"
   ]
  },
  {
   "cell_type": "code",
   "execution_count": 167,
   "id": "3a535503-5213-4c94-81a1-31aa54e3e7ec",
   "metadata": {},
   "outputs": [
    {
     "data": {
      "text/plain": [
       "<AxesSubplot:xlabel='size'>"
      ]
     },
     "execution_count": 167,
     "metadata": {},
     "output_type": "execute_result"
    },
    {
     "data": {
      "image/png": "[encoded data removed]",
      "text/plain": [
       "<Figure size 640x480 with 1 Axes>"
      ]
     },
     "metadata": {},
     "output_type": "display_data"
    }
   ],
   "source": [
    "sns.boxplot(x=df['size'])"
   ]
  },
  {
   "cell_type": "code",
   "execution_count": 173,
   "id": "0b20f115-030d-499b-99a0-c64052673d44",
   "metadata": {},
   "outputs": [],
   "source": [
    "def remove_outliars(data):\n",
    "    Q1 = data.quantile(0.25)\n",
    "    Q3 = data.quantile(0.75)\n",
    "    IQR = Q3 - Q1\n",
    "    upper = Q3 + 1.5*IQR\n",
    "    lower = Q1 - 1.5*IQR\n",
    "    return data[(data >= lower) & ( data <= upper)]"
   ]
  },
  {
   "cell_type": "code",
   "execution_count": 175,
   "id": "30828fa9-95b5-4ebe-8672-fd45b2d5433b",
   "metadata": {},
   "outputs": [],
   "source": [
    "df['size'] = remove_outliars(df['size'])"
   ]
  },
  {
   "cell_type": "code",
   "execution_count": 176,
   "id": "9e9c27e3-c287-4f09-bb0f-1c7b34a331e7",
   "metadata": {},
   "outputs": [
    {
     "data": {
      "text/plain": [
       "count    12365.000000\n",
       "mean         2.562717\n",
       "std          0.757931\n",
       "min          1.000000\n",
       "25%          2.000000\n",
       "50%          3.000000\n",
       "75%          3.000000\n",
       "max          4.000000\n",
       "Name: size, dtype: float64"
      ]
     },
     "execution_count": 176,
     "metadata": {},
     "output_type": "execute_result"
    }
   ],
   "source": [
    "df['size'].describe()"
   ]
  },
  {
   "cell_type": "code",
   "execution_count": 177,
   "id": "bedbd6eb-d3a7-4f9f-be60-48119899df32",
   "metadata": {},
   "outputs": [
    {
     "data": {
      "text/plain": [
       "<AxesSubplot:xlabel='size'>"
      ]
     },
     "execution_count": 177,
     "metadata": {},
     "output_type": "execute_result"
    },
    {
     "data": {
      "image/png": "[encoded data removed]",
      "text/plain": [
       "<Figure size 640x480 with 1 Axes>"
      ]
     },
     "metadata": {},
     "output_type": "display_data"
    }
   ],
   "source": [
    "sns.boxplot(x=df['size'])"
   ]
  },
  {
   "cell_type": "code",
   "execution_count": 178,
   "id": "1d4d337f-5c91-44e6-9391-ffb4e2975e99",
   "metadata": {},
   "outputs": [],
   "source": [
    "df['Price_Per_Sqft'] = remove_outliars(df['Price_Per_Sqft'])"
   ]
  },
  {
   "cell_type": "code",
   "execution_count": 179,
   "id": "cd46d132-dde8-4543-a36c-55d7da878149",
   "metadata": {},
   "outputs": [
    {
     "data": {
      "text/plain": [
       "count    11935.000000\n",
       "mean         0.055764\n",
       "std          0.019578\n",
       "min          0.002678\n",
       "25%          0.041667\n",
       "50%          0.051887\n",
       "75%          0.066033\n",
       "max          0.118750\n",
       "Name: Price_Per_Sqft, dtype: float64"
      ]
     },
     "execution_count": 179,
     "metadata": {},
     "output_type": "execute_result"
    }
   ],
   "source": [
    "df['Price_Per_Sqft'].describe()"
   ]
  },
  {
   "cell_type": "code",
   "execution_count": 180,
   "id": "946fbdc2-b4fe-4627-ac1d-00a5e26826c6",
   "metadata": {},
   "outputs": [
    {
     "data": {
      "text/plain": [
       "<AxesSubplot:xlabel='Price_Per_Sqft'>"
      ]
     },
     "execution_count": 180,
     "metadata": {},
     "output_type": "execute_result"
    },
    {
     "data": {
      "image/png": "[encoded data removed]",
      "text/plain": [
       "<Figure size 640x480 with 1 Axes>"
      ]
     },
     "metadata": {},
     "output_type": "display_data"
    }
   ],
   "source": [
    "sns.boxplot(x = df['Price_Per_Sqft'])"
   ]
  },
  {
   "cell_type": "code",
   "execution_count": 181,
   "id": "eaa823bd-6cde-42e2-9a84-4c8cadd6da2a",
   "metadata": {},
   "outputs": [],
   "source": [
    "df['Price_Per_Sqft'] = remove_outliars(df['Price_Per_Sqft'])"
   ]
  },
  {
   "cell_type": "code",
   "execution_count": 182,
   "id": "f0fe7097-aee8-4d8a-897b-e635baa87f8d",
   "metadata": {},
   "outputs": [
    {
     "data": {
      "text/plain": [
       "<AxesSubplot:xlabel='Price_Per_Sqft'>"
      ]
     },
     "execution_count": 182,
     "metadata": {},
     "output_type": "execute_result"
    },
    {
     "data": {
      "image/png": "[encoded data removed]",
      "text/plain": [
       "<Figure size 640x480 with 1 Axes>"
      ]
     },
     "metadata": {},
     "output_type": "display_data"
    }
   ],
   "source": [
    "sns.boxplot(x = df['Price_Per_Sqft'])"
   ]
  },
  {
   "cell_type": "code",
   "execution_count": 183,
   "id": "e91dfd75-fbca-434b-b29b-cd691ff60ddb",
   "metadata": {},
   "outputs": [
    {
     "data": {
      "text/plain": [
       "location             0\n",
       "size               835\n",
       "total_sqft           0\n",
       "bath                 0\n",
       "price                0\n",
       "Price_Per_Sqft    1693\n",
       "dtype: int64"
      ]
     },
     "execution_count": 183,
     "metadata": {},
     "output_type": "execute_result"
    }
   ],
   "source": [
    "df.isnull().sum()"
   ]
  },
  {
   "cell_type": "code",
   "execution_count": 184,
   "id": "10c79cd6-a2fd-4ce2-b057-4fddc8ee1a8b",
   "metadata": {},
   "outputs": [],
   "source": [
    "df['size'] = df['size'].fillna(df['size'].mean())"
   ]
  },
  {
   "cell_type": "code",
   "execution_count": 185,
   "id": "725fe43f-1171-44c5-bb36-20902606f543",
   "metadata": {},
   "outputs": [],
   "source": [
    "df['Price_Per_Sqft'] = df['Price_Per_Sqft'].fillna(df['Price_Per_Sqft'].mean())"
   ]
  },
  {
   "cell_type": "code",
   "execution_count": 186,
   "id": "ead37964-5a94-49de-a511-63bccf87ca7a",
   "metadata": {},
   "outputs": [
    {
     "data": {
      "text/plain": [
       "location          0\n",
       "size              0\n",
       "total_sqft        0\n",
       "bath              0\n",
       "price             0\n",
       "Price_Per_Sqft    0\n",
       "dtype: int64"
      ]
     },
     "execution_count": 186,
     "metadata": {},
     "output_type": "execute_result"
    }
   ],
   "source": [
    "df.isnull().sum()"
   ]
  },
  {
   "cell_type": "markdown",
   "id": "942cc735-e563-422d-9c37-7c3a1848b467",
   "metadata": {},
   "source": [
    "<h1>Applying linear Regression</h1>"
   ]
  },
  {
   "cell_type": "code",
   "execution_count": 197,
   "id": "f5805e96-1a87-4bd9-acd8-88a74925204c",
   "metadata": {},
   "outputs": [],
   "source": [
    "X = df[['Price_Per_Sqft','bath','total_sqft','size']]\n",
    "y = df['price']"
   ]
  },
  {
   "cell_type": "code",
   "execution_count": 198,
   "id": "bf10855c-92e0-4c84-a865-8be10200b38a",
   "metadata": {},
   "outputs": [
    {
     "data": {
      "text/html": [
       "<div>\n",
       "<style scoped>\n",
       "    .dataframe tbody tr th:only-of-type {\n",
       "        vertical-align: middle;\n",
       "    }\n",
       "\n",
       "    .dataframe tbody tr th {\n",
       "        vertical-align: top;\n",
       "    }\n",
       "\n",
       "    .dataframe thead th {\n",
       "        text-align: right;\n",
       "    }\n",
       "</style>\n",
       "<table border=\"1\" class=\"dataframe\">\n",
       "  <thead>\n",
       "    <tr style=\"text-align: right;\">\n",
       "      <th></th>\n",
       "      <th>Price_Per_Sqft</th>\n",
       "      <th>bath</th>\n",
       "      <th>total_sqft</th>\n",
       "      <th>size</th>\n",
       "    </tr>\n",
       "  </thead>\n",
       "  <tbody>\n",
       "    <tr>\n",
       "      <th>0</th>\n",
       "      <td>0.036998</td>\n",
       "      <td>2.0</td>\n",
       "      <td>1056.0</td>\n",
       "      <td>2.000000</td>\n",
       "    </tr>\n",
       "    <tr>\n",
       "      <th>1</th>\n",
       "      <td>0.046154</td>\n",
       "      <td>5.0</td>\n",
       "      <td>2600.0</td>\n",
       "      <td>4.000000</td>\n",
       "    </tr>\n",
       "    <tr>\n",
       "      <th>2</th>\n",
       "      <td>0.043056</td>\n",
       "      <td>2.0</td>\n",
       "      <td>1440.0</td>\n",
       "      <td>3.000000</td>\n",
       "    </tr>\n",
       "    <tr>\n",
       "      <th>3</th>\n",
       "      <td>0.062459</td>\n",
       "      <td>3.0</td>\n",
       "      <td>1521.0</td>\n",
       "      <td>3.000000</td>\n",
       "    </tr>\n",
       "    <tr>\n",
       "      <th>4</th>\n",
       "      <td>0.042500</td>\n",
       "      <td>2.0</td>\n",
       "      <td>1200.0</td>\n",
       "      <td>2.000000</td>\n",
       "    </tr>\n",
       "    <tr>\n",
       "      <th>...</th>\n",
       "      <td>...</td>\n",
       "      <td>...</td>\n",
       "      <td>...</td>\n",
       "      <td>...</td>\n",
       "    </tr>\n",
       "    <tr>\n",
       "      <th>13315</th>\n",
       "      <td>0.066898</td>\n",
       "      <td>4.0</td>\n",
       "      <td>3453.0</td>\n",
       "      <td>2.562717</td>\n",
       "    </tr>\n",
       "    <tr>\n",
       "      <th>13316</th>\n",
       "      <td>0.053780</td>\n",
       "      <td>5.0</td>\n",
       "      <td>3600.0</td>\n",
       "      <td>4.000000</td>\n",
       "    </tr>\n",
       "    <tr>\n",
       "      <th>13317</th>\n",
       "      <td>0.052585</td>\n",
       "      <td>2.0</td>\n",
       "      <td>1141.0</td>\n",
       "      <td>2.000000</td>\n",
       "    </tr>\n",
       "    <tr>\n",
       "      <th>13318</th>\n",
       "      <td>0.053780</td>\n",
       "      <td>4.0</td>\n",
       "      <td>4689.0</td>\n",
       "      <td>4.000000</td>\n",
       "    </tr>\n",
       "    <tr>\n",
       "      <th>13319</th>\n",
       "      <td>0.030909</td>\n",
       "      <td>1.0</td>\n",
       "      <td>550.0</td>\n",
       "      <td>1.000000</td>\n",
       "    </tr>\n",
       "  </tbody>\n",
       "</table>\n",
       "<p>13200 rows × 4 columns</p>\n",
       "</div>"
      ],
      "text/plain": [
       "       Price_Per_Sqft  bath  total_sqft      size\n",
       "0            0.036998   2.0      1056.0  2.000000\n",
       "1            0.046154   5.0      2600.0  4.000000\n",
       "2            0.043056   2.0      1440.0  3.000000\n",
       "3            0.062459   3.0      1521.0  3.000000\n",
       "4            0.042500   2.0      1200.0  2.000000\n",
       "...               ...   ...         ...       ...\n",
       "13315        0.066898   4.0      3453.0  2.562717\n",
       "13316        0.053780   5.0      3600.0  4.000000\n",
       "13317        0.052585   2.0      1141.0  2.000000\n",
       "13318        0.053780   4.0      4689.0  4.000000\n",
       "13319        0.030909   1.0       550.0  1.000000\n",
       "\n",
       "[13200 rows x 4 columns]"
      ]
     },
     "execution_count": 198,
     "metadata": {},
     "output_type": "execute_result"
    }
   ],
   "source": [
    "X"
   ]
  },
  {
   "cell_type": "code",
   "execution_count": 199,
   "id": "5ffd7487-ec46-4cd5-ac8c-6184bad71766",
   "metadata": {},
   "outputs": [
    {
     "data": {
      "text/plain": [
       "0         39.07\n",
       "1        120.00\n",
       "2         62.00\n",
       "3         95.00\n",
       "4         51.00\n",
       "          ...  \n",
       "13315    231.00\n",
       "13316    400.00\n",
       "13317     60.00\n",
       "13318    488.00\n",
       "13319     17.00\n",
       "Name: price, Length: 13200, dtype: float64"
      ]
     },
     "execution_count": 199,
     "metadata": {},
     "output_type": "execute_result"
    }
   ],
   "source": [
    "y"
   ]
  },
  {
   "cell_type": "code",
   "execution_count": 209,
   "id": "9bc9876d-9f62-493e-86b5-da9f1b72288c",
   "metadata": {},
   "outputs": [],
   "source": [
    "from sklearn.model_selection import train_test_split,cross_val_score"
   ]
  },
  {
   "cell_type": "code",
   "execution_count": 201,
   "id": "ccbd63a8-c400-4957-bb32-b8d4f3560093",
   "metadata": {},
   "outputs": [],
   "source": [
    "x_tarin , x_test , y_train , y_test = train_test_split(X , y ,test_size = 0.25 , random_state = 5)"
   ]
  },
  {
   "cell_type": "code",
   "execution_count": 202,
   "id": "9800ed86-ecbe-4d4b-ba70-ad88af9e6341",
   "metadata": {},
   "outputs": [],
   "source": [
    "from sklearn.linear_model import LinearRegression"
   ]
  },
  {
   "cell_type": "code",
   "execution_count": 203,
   "id": "e4eb2910-7efe-47c0-beb2-0d8477cb555b",
   "metadata": {},
   "outputs": [],
   "source": [
    "model = LinearRegression()"
   ]
  },
  {
   "cell_type": "code",
   "execution_count": 204,
   "id": "52eb9029-16eb-4e32-98cb-c817111aab3d",
   "metadata": {},
   "outputs": [
    {
     "data": {
      "text/plain": [
       "LinearRegression()"
      ]
     },
     "execution_count": 204,
     "metadata": {},
     "output_type": "execute_result"
    }
   ],
   "source": [
    "model.fit(x_tarin,y_train)"
   ]
  },
  {
   "cell_type": "code",
   "execution_count": 205,
   "id": "d29f5e6b-ea54-4cdf-a54e-760c4d2c0469",
   "metadata": {},
   "outputs": [],
   "source": [
    "y_pred = model.predict(x_test)"
   ]
  },
  {
   "cell_type": "code",
   "execution_count": 206,
   "id": "110f5864-10c4-4c5d-94d6-5aa95e5b15cb",
   "metadata": {},
   "outputs": [],
   "source": [
    "from sklearn.metrics import r2_score,mean_squared_error"
   ]
  },
  {
   "cell_type": "code",
   "execution_count": 207,
   "id": "7025d9b1-85c3-4ce2-8d4c-c1cf40d0deda",
   "metadata": {},
   "outputs": [],
   "source": [
    "mse = mean_squared_error(y_test , y_pred)"
   ]
  },
  {
   "cell_type": "code",
   "execution_count": 210,
   "id": "e52aff7a-9311-4746-aaf5-6274cb19c219",
   "metadata": {},
   "outputs": [],
   "source": [
    "cv = np.mean(cross_val_score(model , X , y ,cv=5))"
   ]
  },
  {
   "cell_type": "code",
   "execution_count": 211,
   "id": "32a3161c-a470-41cd-887f-0aa9ea2a984a",
   "metadata": {},
   "outputs": [
    {
     "name": "stdout",
     "output_type": "stream",
     "text": [
      "mean squared error  11210.150204458254\n"
     ]
    }
   ],
   "source": [
    "print('mean squared error ',mse)"
   ]
  },
  {
   "cell_type": "code",
   "execution_count": null,
   "id": "e2bcdc48-530e-4e72-91b6-3bc28a1d6203",
   "metadata": {},
   "outputs": [],
   "source": [
    "print('R squared ',)"
   ]
  }
 ],
 "metadata": {
  "kernelspec": {
   "display_name": "Python 3 (ipykernel)",
   "language": "python",
   "name": "python3"
  },
  "language_info": {
   "codemirror_mode": {
    "name": "ipython",
    "version": 3
   },
   "file_extension": ".py",
   "mimetype": "text/x-python",
   "name": "python",
   "nbconvert_exporter": "python",
   "pygments_lexer": "ipython3",
   "version": "3.10.1"
  }
 },
 "nbformat": 4,
 "nbformat_minor": 5
}
